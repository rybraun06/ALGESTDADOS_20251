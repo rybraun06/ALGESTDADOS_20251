{
  "nbformat": 4,
  "nbformat_minor": 0,
  "metadata": {
    "colab": {
      "provenance": [],
      "authorship_tag": "ABX9TyMccpuRi7sTFY+Fo5Wk8zsb",
      "include_colab_link": true
    },
    "kernelspec": {
      "name": "python3",
      "display_name": "Python 3"
    },
    "language_info": {
      "name": "python"
    }
  },
  "cells": [
    {
      "cell_type": "markdown",
      "metadata": {
        "id": "view-in-github",
        "colab_type": "text"
      },
      "source": [
        "<a href=\"https://colab.research.google.com/github/rybraun06/ALGESTDADOS_20251/blob/main/atividade_semana5.ipynb\" target=\"_parent\"><img src=\"https://colab.research.google.com/assets/colab-badge.svg\" alt=\"Open In Colab\"/></a>"
      ]
    },
    {
      "cell_type": "code",
      "execution_count": null,
      "metadata": {
        "colab": {
          "base_uri": "https://localhost:8080/"
        },
        "id": "fcPcq8X9PB_o",
        "outputId": "bc71791e-d424-4e80-8d75-4e530d649bb1"
      },
      "outputs": [
        {
          "output_type": "stream",
          "name": "stdout",
          "text": [
            "qual o lado 1:3\n",
            "qual o lado 2:1\n",
            "qual o lado 3:2\n",
            "esse triangulo é escaleno\n"
          ]
        }
      ],
      "source": [
        "# 1. Peça ao usuário três lados de um triângulo e classifique-o como equilátero, isósceles ou escaleno.\n",
        "l1 = float(input('qual o lado 1:'))\n",
        "l2 = float(input('qual o lado 2:'))\n",
        "l3 = float(input('qual o lado 3:'))\n",
        "if l1 == l2 == l3:\n",
        "  print('esse triangulo é equilatero')\n",
        "elif l1 == l2 or l2 == l3 or l1== l3:\n",
        "  print('esse triangulo é isosceles')\n",
        "else:\n",
        "  print('esse triangulo é escaleno')"
      ]
    },
    {
      "cell_type": "code",
      "source": [
        "# 2. Peça ao usuário um horário no formato 24h (por exemplo, 13:45) e converta para o formato 12h com AM/PM.\n",
        "from datetime import datetime\n",
        "horario = input('digite a hora desejada (HH:MM): ')\n",
        "if datetime.strptime(horario, '%H:%M'). hour > 12:\n",
        "  hora = int(datetime.strpitme(horario,'%H:%M'). hour)-12\n",
        "  minuto = int(datetime.strptime(horario,'%H:%M').minute)\n",
        "  print(f'{hora} : {minuto} PM')\n",
        "elif datetime.strptime(horario, '%H:%M').hour == 12:\n",
        "  print(f'{horario} PM]')\n",
        "else:\n",
        "  print(f'{horario} AM')"
      ],
      "metadata": {
        "colab": {
          "base_uri": "https://localhost:8080/"
        },
        "id": "_LoaYUzzjxmM",
        "outputId": "9ca2e8cd-a3b9-4842-f6b0-c55ccd44e7eb"
      },
      "execution_count": null,
      "outputs": [
        {
          "output_type": "stream",
          "name": "stdout",
          "text": [
            "digite a hora desejada (HH:MM): 11:20\n",
            "11:20 AM\n"
          ]
        }
      ]
    },
    {
      "cell_type": "code",
      "source": [
        "# 3. Solicite a idade de um nadador e classifique-o em uma categoria:\n",
        "# - Até 7 anos → Mirim\n",
        "# - 8 a 10 anos → Infantil\n",
        "# - 11 a 13 anos → Juvenil\n",
        "# - 14 a 17 anos → Júnior\n",
        "# - 18 anos ou mais → Sênior\n",
        "idade = int(input('digite a idade do nadador:'))\n",
        "if idade <= 7:\n",
        "  print(f' o nadador é da categoria mirim.')\n",
        "elif idade <= 10:\n",
        "  print(f' o nadador é da categoria infantil.')\n",
        "elif idade <= 13:\n",
        "  print(f' o nadador é da categoria juvenil.')\n",
        "elif idade <= 17:\n",
        "  print(f' o nadador é de categoria júnior.')\n",
        "else:\n",
        "  print(f' o nadador é de categoria sênior.')"
      ],
      "metadata": {
        "id": "WInfQibSpaiG",
        "colab": {
          "base_uri": "https://localhost:8080/"
        },
        "outputId": "c7b44ad2-2584-4b23-857f-c6e8176f12a4"
      },
      "execution_count": null,
      "outputs": [
        {
          "output_type": "stream",
          "name": "stdout",
          "text": [
            "digite a idade do nadador:11\n",
            " o nadador é da categoria juvenil.\n"
          ]
        }
      ]
    },
    {
      "cell_type": "code",
      "source": [
        "# 4. Simule uma partida de Pedra, Papel e Tesoura entre o usuário e o computador (sem aleatoriedade, o jogador deve escolher as duas opções).\n",
        "j1 = input('escolha entre pedra, papel ou tesoura:')\n",
        "j2 = input('escolha entra pedra, papel ou tesoura:')\n",
        "if j1 == j2:\n",
        " print('esse jogador escolheu pedra')\n",
        "elif j1 == j2 or j2 == j1:\n",
        " print('esse jogador escolheu papel')\n",
        "else:\n",
        "  print('esse jogador escolheu tesoura')"
      ],
      "metadata": {
        "colab": {
          "base_uri": "https://localhost:8080/"
        },
        "id": "PtAZFfl8AVF_",
        "outputId": "9fbde8c3-7622-40f0-deec-c457a785437c"
      },
      "execution_count": null,
      "outputs": [
        {
          "output_type": "stream",
          "name": "stdout",
          "text": [
            "escolha entre pedra, papel ou tesoura:pedra\n",
            "escolha entra pedra, papel ou tesoura:tesoura\n",
            "esse jogador escolheu tesoura\n"
          ]
        }
      ]
    },
    {
      "cell_type": "code",
      "source": [
        "# 5. Peça uma nota de 0 a 10 e classifique-a:\n",
        "# - A (9-10)\n",
        "# - B (7-8.9)\n",
        "# - C (5-6.9)\n",
        "# - D (3-4.9)\n",
        "# - F (0-2.9)\n",
        "\n",
        "nota = int(input('Digite a sua nota:'))\n",
        "if nota<3:\n",
        " print('F')\n",
        "elif nota<5:\n",
        " print('D')\n",
        "elif nota<7:\n",
        " print('C')\n",
        "elif nota<9:\n",
        " print('B')\n",
        "else:\n",
        " print('A')"
      ],
      "metadata": {
        "id": "v3HifdQeC75r",
        "colab": {
          "base_uri": "https://localhost:8080/"
        },
        "outputId": "b7fb798a-da79-4ec0-a427-3936e37d1ed1"
      },
      "execution_count": null,
      "outputs": [
        {
          "output_type": "stream",
          "name": "stdout",
          "text": [
            "Digite a sua nota:6\n",
            "C\n"
          ]
        }
      ]
    },
    {
      "cell_type": "code",
      "source": [
        "# 6. Solicite o peso e altura do usuário e calcule o IMC. Classifique conforme a tabela:\n",
        "# - Abaixo do peso: < 18.5\n",
        "# - Normal: 18.5 - 24.9\n",
        "# - Sobrepeso: 25 - 29.9\n",
        "# - Obesidade: >= 30\n",
        "peso = float(input('digite seu peso:'))\n",
        "altura = float(input('digite sua altura:'))\n",
        "imc = peso/(altura**2)\n",
        "if imc < 18.5:\n",
        "  print('abaixo do peso')\n",
        "elif imc < 25:\n",
        "  print('normal')\n",
        "elif imc < 30:\n",
        "  print('sobrepeso')\n",
        "else:\n",
        "  print('obesidade')\n",
        "  print(f'seu imc é {imc}')\n",
        "\n"
      ],
      "metadata": {
        "id": "XpsvFbACDBk6",
        "colab": {
          "base_uri": "https://localhost:8080/"
        },
        "outputId": "13413f00-e9db-4226-a826-aecfef8da8dd"
      },
      "execution_count": 3,
      "outputs": [
        {
          "output_type": "stream",
          "name": "stdout",
          "text": [
            "digite seu peso:70\n",
            "digite sua altura:166\n",
            "abaixo do peso\n"
          ]
        }
      ]
    },
    {
      "cell_type": "code",
      "source": [
        "# 7. Peça uma letra ao usuário e diga se é vogal ou consoante.\n",
        "letra = input('digite uma letra:')\n",
        "if letra == 'a' or letra == 'e' or letra == 'i' or letra == 'o' or letra == 'u':\n",
        "  print('essa letra é uma vogal')\n",
        "  print(f'a letra digitada foi {letra}')\n",
        "else:\n",
        "  print('essa letra é uma consoante')\n",
        "  print(f'a letra digitada foi {letra}')\n",
        ""
      ],
      "metadata": {
        "id": "F_pt-itkDHmG",
        "colab": {
          "base_uri": "https://localhost:8080/"
        },
        "outputId": "8988ba55-564e-47d8-ef32-bd66fd194211"
      },
      "execution_count": 4,
      "outputs": [
        {
          "output_type": "stream",
          "name": "stdout",
          "text": [
            "digite uma letra:R\n",
            "essa letra é uma consoante\n",
            "a letra digitada foi R\n"
          ]
        }
      ]
    },
    {
      "cell_type": "code",
      "source": [
        "# 8. Solicite o valor da compra e aplique descontos:\n",
        "# - Até R$ 100,00 → sem desconto\n",
        "# - De R$ 100,01 a R$ 500,00 → 10% de desconto\n",
        "# - Acima de R$ 500,00 → 20% de desconto\n",
        "valor = float(input('digite o valor da compra:'))\n",
        "if valor <= 100:\n",
        "  print('sem desconto')\n",
        "elif valor <= 500:\n",
        "  print('10% de desconto')\n",
        "else:\n",
        "  print('20% de desconto')\n",
        "  print(f'o valor da compra é {valor}')\n",
        ""
      ],
      "metadata": {
        "id": "dMA16GVzDKZt",
        "colab": {
          "base_uri": "https://localhost:8080/"
        },
        "outputId": "7baea297-0dc9-47c0-bc1f-e7b84dcb5342"
      },
      "execution_count": 5,
      "outputs": [
        {
          "output_type": "stream",
          "name": "stdout",
          "text": [
            "digite o valor da compra:50\n",
            "sem desconto\n"
          ]
        }
      ]
    },
    {
      "cell_type": "code",
      "source": [
        "# 9. Crie um programa que calcula o preço do estacionamento:\n",
        "# - Até 2h → R$ 5,00 por hora\n",
        "# - De 2h a 5h → R$ 4,00 por hora\n",
        "# - Mais de 5h → R$ 3,00 por hora\n",
        "programa = float(input('digite o tempo do estacionamento:'))\n",
        "if programa <= 2:\n",
        "  print('R$ 5,00 por hora')\n",
        "elif programa <= 5:\n",
        "  print('R$ 4,00 por hora')\n",
        "else:\n",
        "  print('R$ 3,00 por hora')\n",
        "  print(f'o tempo do estacionamento é {programa}')"
      ],
      "metadata": {
        "id": "NQfcEUePDOPF",
        "colab": {
          "base_uri": "https://localhost:8080/"
        },
        "outputId": "e50bad8b-262b-455c-d6d6-5a87641a260a"
      },
      "execution_count": 6,
      "outputs": [
        {
          "output_type": "stream",
          "name": "stdout",
          "text": [
            "digite o tempo do estacionamento:3\n",
            "R$ 4,00 por hora\n"
          ]
        }
      ]
    },
    {
      "cell_type": "code",
      "source": [
        "# 10. Peça ao usuário um número e classifique-o:\n",
        "# - Positivo e par\n",
        "# - Positivo e ímpar\n",
        "# - Negativo e par\n",
        "# - Negativo e ímpar\n",
        "# - Zero\n",
        "numero  = int(input('digite um numero:'))\n",
        "if numero > 0:\n",
        "  if numero % 2 == 0:\n",
        "    print('positivo e par')\n",
        "  else:\n",
        "    print('positivo e impar')\n",
        "    print(f'o numero digitado foi {numero}')"
      ],
      "metadata": {
        "id": "ly4gkWugJ-Dd",
        "colab": {
          "base_uri": "https://localhost:8080/"
        },
        "outputId": "d36aaae9-cb8f-43f0-f2e6-8f3c835ad116"
      },
      "execution_count": 7,
      "outputs": [
        {
          "output_type": "stream",
          "name": "stdout",
          "text": [
            "digite um numero:7\n",
            "positivo e impar\n",
            "o numero digitado foi 7\n"
          ]
        }
      ]
    },
    {
      "cell_type": "code",
      "source": [
        "# 11. Solicite o consumo de energia em kWh e calcule a tarifa:\n",
        "# - Até 100 kWh → R$ 0,50 por kWh\n",
        "# - De 101 a 300 kWh → R$ 0,75 por kWh\n",
        "# - Acima de 300 kWh → R$ 1,00 por kWh\n",
        "consumo = float(input('digite o consumo de energia em kWh:'))\n",
        "if consumo <= 100:\n",
        "  print('R$ 0,50 por kWh')\n",
        "elif consumo <= 300:\n",
        "  print('R$ 0,75 por kWh')\n",
        "  print(f'o consumo de energia é {consumo}')\n",
        "else:\n",
        "  print('R$ 1,00 por kWh')\n",
        "  print(f'o consumo de energia é {consumo}')\n",
        ""
      ],
      "metadata": {
        "id": "3f8eKyzXJ-R1",
        "colab": {
          "base_uri": "https://localhost:8080/"
        },
        "outputId": "4b848dfc-37db-4744-e592-4f0398a7f3f6"
      },
      "execution_count": 8,
      "outputs": [
        {
          "output_type": "stream",
          "name": "stdout",
          "text": [
            "digite o consumo de energia em kWh:5\n",
            "R$ 0,50 por kWh\n"
          ]
        }
      ]
    },
    {
      "cell_type": "code",
      "source": [
        "# 12. Peça a temperatura em °C e classifique:\n",
        "# - Muito frio (< 10°C)\n",
        "# - Frio (10°C a 20°C)\n",
        "# - Agradável (21°C a 30°C)\n",
        "# - Quente (31°C a 40°C)\n",
        "# - Muito quente (> 40°C)\n",
        "temperatura = float(input('digite a temperatura em °C:'))\n",
        "if temperatura < 10:\n",
        "  print('muito frio')\n",
        "elif temperatura < 20:\n",
        "  print('frio')\n",
        "elif temperatura < 30:\n",
        "  print('agradável')\n",
        "elif temperatura < 40:\n",
        "  print('quente')\n",
        "  print(f'a temperatura é {temperatura}')\n",
        "else:\n",
        "  print('muito quente')\n",
        "  print(f'a temperatura é {temperatura}')\n",
        ""
      ],
      "metadata": {
        "id": "Nd5Bdx9aJ-rt",
        "colab": {
          "base_uri": "https://localhost:8080/"
        },
        "outputId": "71b80fbf-39fa-4c8c-f015-f20d2e03599e"
      },
      "execution_count": 9,
      "outputs": [
        {
          "output_type": "stream",
          "name": "stdout",
          "text": [
            "digite a temperatura em °C:33\n",
            "quente\n",
            "a temperatura é 33.0\n"
          ]
        }
      ]
    },
    {
      "cell_type": "code",
      "source": [
        "# 13. Solicite um CPF ao usuário (somente números). Verifique se tem exatamente 11 dígitos e exiba \"CPF válido\" ou \"CPF inválido\".\n",
        "cpf = input('digite seu cpf:')\n",
        "if len(cpf) == 11:\n",
        "  print('cpf valido')\n",
        "else:\n",
        "  print('cpf invalido')\n",
        "  print(f'o cpf digitado foi {cpf}')\n",
        ""
      ],
      "metadata": {
        "id": "S-Dxrg-5KN3d",
        "colab": {
          "base_uri": "https://localhost:8080/"
        },
        "outputId": "d4e5bddc-9548-406a-a004-3ebcdca91f41"
      },
      "execution_count": 10,
      "outputs": [
        {
          "output_type": "stream",
          "name": "stdout",
          "text": [
            "digite seu cpf:20201327708\n",
            "cpf valido\n"
          ]
        }
      ]
    },
    {
      "cell_type": "code",
      "source": [
        "# 14. Peça a velocidade de um carro e classifique:\n",
        "# - Até 40 km/h → Muito lento\n",
        "# - 41 a 60 km/h → Velocidade moderada\n",
        "# - 61 a 80 km/h → Rápido\n",
        "# - Acima de 80 km/h → Muito rápido\n",
        "velocidade = float(input('digite a velocidade do carro:'))\n",
        "if velocidade <= 40:\n",
        "  print('muito lento')\n",
        "elif velocidade <= 60:\n",
        "  print('velocidade moderada')\n",
        "elif velocidade <= 80:\n",
        "  print('rapido')\n",
        "  print(f'a velocidade do carro é {velocidade}')\n",
        "else:\n",
        "  print('muito rapido')\n",
        "  print(f'a velocidade do carro é {velocidade}')\n",
        ""
      ],
      "metadata": {
        "id": "B-U2yeN4KROe",
        "colab": {
          "base_uri": "https://localhost:8080/"
        },
        "outputId": "4c0adc10-b143-4814-b1a8-10082a9f734d"
      },
      "execution_count": 11,
      "outputs": [
        {
          "output_type": "stream",
          "name": "stdout",
          "text": [
            "digite a velocidade do carro:100\n",
            "muito rapido\n",
            "a velocidade do carro é 100.0\n"
          ]
        }
      ]
    },
    {
      "cell_type": "code",
      "source": [
        "# 15. Solicite uma placa de veículo e verifique se ela segue o formato ABC1D23 (três letras, um número, uma letra e dois números). Caso contrário, exiba \"Placa inválida\".\n",
        "placa = input('digite sua placa:')\n",
        "if len(placa) == 9:\n",
        "  print('placa valida')\n",
        "else:\n",
        "  print('placa invalida')\n",
        "  print(f'a placa digitada foi {placa}')\n",
        ""
      ],
      "metadata": {
        "id": "4tD9uZahKZKB",
        "colab": {
          "base_uri": "https://localhost:8080/"
        },
        "outputId": "46c77d03-999f-4595-92c4-8623b4bd91b9"
      },
      "execution_count": 13,
      "outputs": [
        {
          "output_type": "stream",
          "name": "stdout",
          "text": [
            "digite sua placa:OTM2022\n",
            "placa invalida\n",
            "a placa digitada foi OTM2022\n"
          ]
        }
      ]
    }
  ]
}