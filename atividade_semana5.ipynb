{
  "nbformat": 4,
  "nbformat_minor": 0,
  "metadata": {
    "colab": {
      "provenance": [],
      "authorship_tag": "ABX9TyPzLF5YZ2wQp+ePSMK8mHBZ",
      "include_colab_link": true
    },
    "kernelspec": {
      "name": "python3",
      "display_name": "Python 3"
    },
    "language_info": {
      "name": "python"
    }
  },
  "cells": [
    {
      "cell_type": "markdown",
      "metadata": {
        "id": "view-in-github",
        "colab_type": "text"
      },
      "source": [
        "<a href=\"https://colab.research.google.com/github/rybraun06/ALGESTDADOS_20251/blob/main/atividade_semana5.ipynb\" target=\"_parent\"><img src=\"https://colab.research.google.com/assets/colab-badge.svg\" alt=\"Open In Colab\"/></a>"
      ]
    },
    {
      "cell_type": "code",
      "execution_count": 14,
      "metadata": {
        "colab": {
          "base_uri": "https://localhost:8080/"
        },
        "id": "fcPcq8X9PB_o",
        "outputId": "bc71791e-d424-4e80-8d75-4e530d649bb1"
      },
      "outputs": [
        {
          "output_type": "stream",
          "name": "stdout",
          "text": [
            "qual o lado 1:3\n",
            "qual o lado 2:1\n",
            "qual o lado 3:2\n",
            "esse triangulo é escaleno\n"
          ]
        }
      ],
      "source": [
        "# 1. Peça ao usuário três lados de um triângulo e classifique-o como equilátero, isósceles ou escaleno.\n",
        "l1 = float(input('qual o lado 1:'))\n",
        "l2 = float(input('qual o lado 2:'))\n",
        "l3 = float(input('qual o lado 3:'))\n",
        "if l1 == l2 == l3:\n",
        "  print('esse triangulo é equilatero')\n",
        "elif l1 == l2 or l2 == l3 or l1== l3:\n",
        "  print('esse triangulo é isosceles')\n",
        "else:\n",
        "  print('esse triangulo é escaleno')\n",
        ""
      ]
    },
    {
      "cell_type": "code",
      "source": [
        "# 2. Peça ao usuário um horário no formato 24h (por exemplo, 13:45) e converta para o formato 12h com AM/PM.\n",
        "from datetime import datetime\n",
        "horario = input('digite a hora desejada (HH:MM): ')\n",
        "if datetime.strptime(horario, '%H:%M'). hour > 12:\n",
        "  hora = int(datetime.strpitme(horario,'%H:%M'). hour)-12\n",
        "  minuto = int(datetime.strptime(horario,'%H:%M').minute)\n",
        "  print(f'{hora} : {minuto} PM')\n",
        "elif datetime.strptime(horario, '%H:%M').hour == 12:\n",
        "  print(f'{horario} PM]')\n",
        "else:\n",
        "  print(f'{horario} AM')"
      ],
      "metadata": {
        "colab": {
          "base_uri": "https://localhost:8080/"
        },
        "id": "_LoaYUzzjxmM",
        "outputId": "9ca2e8cd-a3b9-4842-f6b0-c55ccd44e7eb"
      },
      "execution_count": 15,
      "outputs": [
        {
          "output_type": "stream",
          "name": "stdout",
          "text": [
            "digite a hora desejada (HH:MM): 11:20\n",
            "11:20 AM\n"
          ]
        }
      ]
    },
    {
      "cell_type": "code",
      "source": [
        "# 3. Solicite a idade de um nadador e classifique-o em uma categoria:\n",
        "# - Até 7 anos → Mirim\n",
        "# - 8 a 10 anos → Infantil\n",
        "# - 11 a 13 anos → Juvenil\n",
        "# - 14 a 17 anos → Júnior\n",
        "# - 18 anos ou mais → Sênior\n"
      ],
      "metadata": {
        "id": "WInfQibSpaiG"
      },
      "execution_count": null,
      "outputs": []
    }
  ]
}