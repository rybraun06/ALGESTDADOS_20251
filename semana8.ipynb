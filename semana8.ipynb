{
  "nbformat": 4,
  "nbformat_minor": 0,
  "metadata": {
    "colab": {
      "provenance": [],
      "authorship_tag": "ABX9TyNoZIj+6zRsF1yKuLf+TwWS",
      "include_colab_link": true
    },
    "kernelspec": {
      "name": "python3",
      "display_name": "Python 3"
    },
    "language_info": {
      "name": "python"
    }
  },
  "cells": [
    {
      "cell_type": "markdown",
      "metadata": {
        "id": "view-in-github",
        "colab_type": "text"
      },
      "source": [
        "<a href=\"https://colab.research.google.com/github/rybraun06/ALGESTDADOS_20251/blob/main/semana8.ipynb\" target=\"_parent\"><img src=\"https://colab.research.google.com/assets/colab-badge.svg\" alt=\"Open In Colab\"/></a>"
      ]
    },
    {
      "cell_type": "code",
      "execution_count": 11,
      "metadata": {
        "colab": {
          "base_uri": "https://localhost:8080/"
        },
        "id": "pJ3SVoW_edb8",
        "outputId": "04c0a715-bf9e-44d4-df5a-3d3806d298bd"
      },
      "outputs": [
        {
          "output_type": "stream",
          "name": "stdout",
          "text": [
            "Digite sua idade: 18\n",
            "Você é maior de idade\n"
          ]
        }
      ],
      "source": [
        "#1 Escreva um programa que leia a idade de uma pessoa e diga se ela é menor de idade (menos de 18 anos), maior de idade (entre 18 e 60) ou idosa (mais de 60 anos). Use if, elif e else.\n",
        "idade = int(input('Digite sua idade: '))\n",
        "if idade < 18:\n",
        "    print('Você é menor de idade')\n",
        "elif idade >= 18 and idade <= 60:\n",
        "    print('Você é maior de idade')"
      ]
    },
    {
      "cell_type": "code",
      "source": [
        "#2 Faça um programa que leia um número inteiro e diga se ele é par, ímpar ou igual a zero, usando uma estrutura condicional.\n",
        "numero = int(input('Digite um número inteiro: '))\n",
        "if numero == 0:\n",
        "    print('O número é igual a zero')\n",
        "elif numero % 2 == 0:\n",
        "    print('O número é par')\n",
        "else:\n",
        "    print('O número é ímpar')"
      ],
      "metadata": {
        "colab": {
          "base_uri": "https://localhost:8080/"
        },
        "id": "loXvA3Offw7e",
        "outputId": "188d5b32-7072-4bea-b57b-c00fd320e249"
      },
      "execution_count": 3,
      "outputs": [
        {
          "output_type": "stream",
          "name": "stdout",
          "text": [
            "Digite um número inteiro: 6\n",
            "O número é par\n"
          ]
        }
      ]
    },
    {
      "cell_type": "code",
      "source": [
        "#3 Crie um programa que leia dois números inteiros e mostre qual dos dois é o maior, qual é o menor ou se os dois são iguais. Use estruturas if, elif e else.\n",
        "numero1 = int(input('Digite o primeiro número inteiro: '))\n",
        "numero2 = int(input('Digite o segundo número inteiro: '))\n",
        "if numero1 > numero2:\n",
        "    print('O primeiro número é maior que o segundo')\n",
        "elif numero1 < numero2:\n",
        "    print('O segundo número é maior que o primeiro')\n",
        "else:\n",
        "    print('Os números são iguais')"
      ],
      "metadata": {
        "colab": {
          "base_uri": "https://localhost:8080/"
        },
        "id": "cyhb-DCwf-Zd",
        "outputId": "03c94523-b618-4d94-aec1-a1103f5f2930"
      },
      "execution_count": 12,
      "outputs": [
        {
          "output_type": "stream",
          "name": "stdout",
          "text": [
            "Digite o primeiro número inteiro: 3\n",
            "Digite o segundo número inteiro: 5\n",
            "O segundo número é maior que o primeiro\n"
          ]
        }
      ]
    },
    {
      "cell_type": "code",
      "source": [
        "#4 Escreva um programa que leia um número de 1 a 7 e mostre o dia da semana correspondente (por exemplo, 1 = segunda-feira, 2 = terça, etc). Se o número for inválido (menor que 1 ou maior que 7), mostre uma mensagem de erro. Use if, elif e else.\n",
        "numero = int(input('Digite um número de 1 a 7: '))\n",
        "if numero == 1:\n",
        "    print('domingo')\n",
        "elif numero == 2:\n",
        "    print('segunda-feira')\n",
        "elif numero == 3:\n",
        "    print('terça-feira')\n",
        "elif numero == 4:\n",
        "    print('Quarta-feira')\n",
        "elif numero == 5:\n",
        "    print('Quinta-feira')\n",
        "elif numero == 6:\n",
        "    print('Sexta-feira')\n",
        "elif numero == 7:\n",
        "    print('Sábado')\n",
        "else:\n",
        "    print('Número inválido')"
      ],
      "metadata": {
        "colab": {
          "base_uri": "https://localhost:8080/"
        },
        "id": "ymfEOaiEifrs",
        "outputId": "d713acf0-b1a4-4912-ddf1-4dccb5b7dcf3"
      },
      "execution_count": 54,
      "outputs": [
        {
          "output_type": "stream",
          "name": "stdout",
          "text": [
            "Digite um número de 1 a 7: 3\n",
            "terça-feira\n"
          ]
        }
      ]
    },
    {
      "cell_type": "code",
      "source": [
        "#5 Escreva um programa com for in range que imprima os números de 1 a 10, dizendo se cada número é par ou ímpar.\n",
        "for numero in range(1, 11):\n",
        "    if numero % 2 == 0:\n",
        "        print(f'{numero} é par')\n",
        "    else:\n",
        "        print(f'{numero} é ímpar')\n",
        ""
      ],
      "metadata": {
        "colab": {
          "base_uri": "https://localhost:8080/"
        },
        "id": "jGApBz5IkH5p",
        "outputId": "6284d0f6-6262-4c12-ddd0-b6a440db5c17"
      },
      "execution_count": 16,
      "outputs": [
        {
          "output_type": "stream",
          "name": "stdout",
          "text": [
            "1 é ímpar\n",
            "2 é par\n",
            "3 é ímpar\n",
            "4 é par\n",
            "5 é ímpar\n",
            "6 é par\n",
            "7 é ímpar\n",
            "8 é par\n",
            "9 é ímpar\n",
            "10 é par\n"
          ]
        }
      ]
    },
    {
      "cell_type": "code",
      "source": [
        "#6 Crie um programa com while que leia vários números inteiros. O programa deve continuar enquanto o número digitado não for igual a zero. Ao final, mostre quantos números positivos e quantos negativos foram digitados.\n",
        "positivos = 0\n",
        "negativos = 0\n",
        "numero = 1\n",
        "while numero != 0:\n",
        "  numero = int(input('Digite um número inteiro: '))\n",
        "  if numero > 0:\n",
        "    positivos += 1\n",
        "  elif numero < 0:\n",
        "    negativos += 1\n",
        "print(f'{positivos} positivos e {negativos} negativos')"
      ],
      "metadata": {
        "colab": {
          "base_uri": "https://localhost:8080/"
        },
        "id": "Yn79XiuZlIn4",
        "outputId": "b7c8a5cf-f810-41ac-8f6f-0f09f13c657a"
      },
      "execution_count": 25,
      "outputs": [
        {
          "output_type": "stream",
          "name": "stdout",
          "text": [
            "Digite um número inteiro: 2\n",
            "Digite um número inteiro: 6\n",
            "Digite um número inteiro: 0\n",
            "2 positivos e 0 negativos\n"
          ]
        }
      ]
    },
    {
      "cell_type": "code",
      "source": [
        "#7 Faça um programa com for que conte de 10 até 1 (ordem decrescente). Para cada número, diga se ele é múltiplo de 3 ou não.\n",
        "for numero in range(10, -1, -1):\n",
        "    if numero % 3 == 0:\n",
        "        print(f'{numero} é múltiplo de 3')\n",
        "    else:\n",
        "        print(f'{numero} não é múltiplo de 3')"
      ],
      "metadata": {
        "colab": {
          "base_uri": "https://localhost:8080/"
        },
        "id": "ym-NfEY3mmBw",
        "outputId": "a8077da9-08f7-4867-95c7-6dc67513288e"
      },
      "execution_count": 44,
      "outputs": [
        {
          "output_type": "stream",
          "name": "stdout",
          "text": [
            "10 não é múltiplo de 3\n",
            "9 é múltiplo de 3\n",
            "8 não é múltiplo de 3\n",
            "7 não é múltiplo de 3\n",
            "6 é múltiplo de 3\n",
            "5 não é múltiplo de 3\n",
            "4 não é múltiplo de 3\n",
            "3 é múltiplo de 3\n",
            "2 não é múltiplo de 3\n",
            "1 não é múltiplo de 3\n",
            "0 é múltiplo de 3\n"
          ]
        }
      ]
    },
    {
      "cell_type": "code",
      "source": [
        "#8 Escreva um programa com while True que peça a senha do usuário até que ele digite a senha correta (por exemplo, \"1234\"). Quando a senha for correta, o programa deve mostrar uma mensagem de acesso permitido e encerrar.\n",
        "senha = '1234'\n",
        "while True:\n",
        "    senha_digitada = input('Digite a senha: ')\n",
        "    if senha_digitada == senha:\n",
        "        print('Acesso permitido')\n",
        "        break\n",
        "    else:\n",
        "        print('Senha incorreta')"
      ],
      "metadata": {
        "colab": {
          "base_uri": "https://localhost:8080/"
        },
        "id": "Dp2ckJukqqXS",
        "outputId": "05578838-19f5-49e3-8024-9fda004e5bda"
      },
      "execution_count": 46,
      "outputs": [
        {
          "output_type": "stream",
          "name": "stdout",
          "text": [
            "Digite a senha: 1004\n",
            "Senha incorreta\n",
            "Digite a senha: 123\n",
            "Senha incorreta\n",
            "Digite a senha: 1234\n",
            "Acesso permitido\n"
          ]
        }
      ]
    },
    {
      "cell_type": "code",
      "source": [
        "#9 Crie um programa com for in range para ler 5 números inteiros, um por vez. Ao final, mostre quantos desses números são maiores que 100.\n",
        "for numero in range(5):\n",
        "    numero = int(input('Digite um número inteiro: '))\n",
        "    if numero > 100:\n",
        "        print(f'{numero} é maior que 100')"
      ],
      "metadata": {
        "colab": {
          "base_uri": "https://localhost:8080/"
        },
        "id": "DoLclV24rCry",
        "outputId": "ed366d21-317a-439d-8fea-422de9dee153"
      },
      "execution_count": 48,
      "outputs": [
        {
          "output_type": "stream",
          "name": "stdout",
          "text": [
            "Digite um número inteiro: 100\n",
            "Digite um número inteiro: 200\n",
            "200 é maior que 100\n",
            "Digite um número inteiro: 5\n",
            "Digite um número inteiro: 0\n",
            "Digite um número inteiro: 1000\n",
            "1000 é maior que 100\n"
          ]
        }
      ]
    },
    {
      "cell_type": "code",
      "source": [
        "#10 Escreva um programa com while que leia a idade de várias pessoas. O programa deve continuar até que uma idade negativa seja digitada. No final, mostre a média das idades válidas digitadas.\n",
        "while True:\n",
        "  idade = int(input('Digite a idade: '))\n",
        "  if idade < 0:\n",
        "        break\n",
        "  elif idade >= 0:\n",
        "        print(f'A idade é {idade}')\n"
      ],
      "metadata": {
        "colab": {
          "base_uri": "https://localhost:8080/"
        },
        "id": "AOTnchhlsC9S",
        "outputId": "c7c6e220-645b-4b6c-e810-ab7ce2578579"
      },
      "execution_count": 59,
      "outputs": [
        {
          "name": "stdout",
          "output_type": "stream",
          "text": [
            "Digite a idade: 18\n",
            "A idade é 18\n",
            "Digite a idade: -18\n"
          ]
        }
      ]
    },
    {
      "cell_type": "code",
      "source": [
        "#11 Escreva um programa com for que leia um número inteiro e exiba a tabuada de multiplicação desse número de 1 até 10.\n",
        "numero = int(input('Digite um número inteiro: '))\n",
        "for i in range(1, 11):\n",
        "    print(f'{numero} x {i} = {numero * i}')\n",
        ""
      ],
      "metadata": {
        "colab": {
          "base_uri": "https://localhost:8080/"
        },
        "id": "pvQvVMIxuzg1",
        "outputId": "2dc6c45b-dba0-45cd-f8a0-157fe3600a32"
      },
      "execution_count": 60,
      "outputs": [
        {
          "output_type": "stream",
          "name": "stdout",
          "text": [
            "Digite um número inteiro: 5\n",
            "5 x 1 = 5\n",
            "5 x 2 = 10\n",
            "5 x 3 = 15\n",
            "5 x 4 = 20\n",
            "5 x 5 = 25\n",
            "5 x 6 = 30\n",
            "5 x 7 = 35\n",
            "5 x 8 = 40\n",
            "5 x 9 = 45\n",
            "5 x 10 = 50\n"
          ]
        }
      ]
    },
    {
      "cell_type": "code",
      "source": [
        "#12 Escreva um programa com while que simule um caixa eletrônico. Peça ao usuário o valor do saque (apenas valores múltiplos de 2) e calcule quantas notas de 50, 20, 10, 5 e 2 são necessárias. Não use listas. Mostre o total de cada nota usada.\n",
        "saque = int(input(\"Digite o valor do saque: \"))\n",
        "notas = [50, 20, 10, 5, 2]\n",
        "for nota in notas:\n",
        "    if saque >= nota:\n",
        "        quantidade = saque // nota\n",
        "        saque -= quantidade * nota\n",
        "        print(f\"{quantidade} notas de R${nota}\")\n",
        ""
      ],
      "metadata": {
        "colab": {
          "base_uri": "https://localhost:8080/"
        },
        "id": "dfKLvbPUv9lu",
        "outputId": "46b775ef-8ef8-4933-d7a5-456890f9c179"
      },
      "execution_count": 61,
      "outputs": [
        {
          "output_type": "stream",
          "name": "stdout",
          "text": [
            "Digite o valor do saque: 10000\n",
            "200 notas de R$50\n"
          ]
        }
      ]
    },
    {
      "cell_type": "code",
      "source": [
        "#13 Escreva um programa com for que leia 10 números inteiros e diga ao final quantos deles são pares e quantos são ímpares.\n",
        "for numero in range(10):\n",
        "    numero = int(input('Digite um número inteiro: '))\n",
        "    if numero % 2 == 0:\n",
        "        print(f'{numero} é par')\n",
        "    else:\n",
        "        print(f'{numero} é ímpar')"
      ],
      "metadata": {
        "colab": {
          "base_uri": "https://localhost:8080/"
        },
        "id": "Etp8yDHdwzoo",
        "outputId": "c14c9ed7-9810-42b1-bc14-f26aff98f546"
      },
      "execution_count": 63,
      "outputs": [
        {
          "output_type": "stream",
          "name": "stdout",
          "text": [
            "Digite um número inteiro: 1\n",
            "1 é ímpar\n",
            "Digite um número inteiro: 2\n",
            "2 é par\n",
            "Digite um número inteiro: 3\n",
            "3 é ímpar\n",
            "Digite um número inteiro: 4\n",
            "4 é par\n",
            "Digite um número inteiro: 5\n",
            "5 é ímpar\n",
            "Digite um número inteiro: 6\n",
            "6 é par\n",
            "Digite um número inteiro: 7\n",
            "7 é ímpar\n",
            "Digite um número inteiro: 8\n",
            "8 é par\n",
            "Digite um número inteiro: 9\n",
            "9 é ímpar\n",
            "Digite um número inteiro: 10\n",
            "10 é par\n"
          ]
        }
      ]
    },
    {
      "cell_type": "code",
      "source": [
        "#14 Crie um programa com while que leia um número inteiro positivo. Se o usuário digitar um número negativo, o programa deve mostrar uma mensagem de erro e continuar pedindo até que um número válido seja digitado.\n",
        "numero = int(input('Digite um número inteiro positivo: '))\n",
        "while numero < 0:\n",
        "    print('Número inválido')\n",
        "    numero = int(input('Digite um número inteiro positivo: '))\n",
        "print(f'O número {numero} é válido')\n"
      ],
      "metadata": {
        "colab": {
          "base_uri": "https://localhost:8080/"
        },
        "id": "pYCE-80ZxY1u",
        "outputId": "5fe896da-124e-4d45-99f7-04d50d656769"
      },
      "execution_count": 64,
      "outputs": [
        {
          "output_type": "stream",
          "name": "stdout",
          "text": [
            "Digite um número inteiro positivo: 6\n",
            "O número 6 é válido\n"
          ]
        }
      ]
    },
    {
      "cell_type": "code",
      "source": [
        "#15 Escreva um programa com for e enumerate que mostre os números de 5 até 15. Para cada número, diga sua posição na sequência (iniciando do 0) e se ele é par ou ímpar.\n",
        "for posicao, numero in enumerate(range(5,16)):\n",
        "    print(f\"Posição: {posicao}, Número: {numero}, {'Par' if numero % 2 == 0 else 'Ímpar'}\")"
      ],
      "metadata": {
        "colab": {
          "base_uri": "https://localhost:8080/"
        },
        "id": "TbuTOPqqx0rR",
        "outputId": "fc961c99-2e4a-417b-e228-833f9ad63e50"
      },
      "execution_count": 69,
      "outputs": [
        {
          "output_type": "stream",
          "name": "stdout",
          "text": [
            "Posição: 0, Número: 5, Ímpar\n",
            "Posição: 1, Número: 6, Par\n",
            "Posição: 2, Número: 7, Ímpar\n",
            "Posição: 3, Número: 8, Par\n",
            "Posição: 4, Número: 9, Ímpar\n",
            "Posição: 5, Número: 10, Par\n",
            "Posição: 6, Número: 11, Ímpar\n",
            "Posição: 7, Número: 12, Par\n",
            "Posição: 8, Número: 13, Ímpar\n",
            "Posição: 9, Número: 14, Par\n",
            "Posição: 10, Número: 15, Ímpar\n"
          ]
        }
      ]
    },
    {
      "cell_type": "code",
      "source": [
        "#16 Escreva um programa com while que simule uma votação. O usuário pode votar no candidato A (1), candidato B (2) ou encerrar (0). O programa deve continuar até que o número 0 seja digitado. Ao final, mostre a quantidade de votos para cada candidato.\n",
        "while True:\n",
        "    voto = int(input('Digite o número do candidato: '))\n",
        "    if voto == 1:\n",
        "        print('Voto para o candidato A')\n",
        "    elif voto == 2:\n",
        "        print('Voto para o candidato B')\n",
        "    elif voto == 0:\n",
        "        print('Encerrando votação')\n",
        "        break\n",
        "    else:\n",
        "        print('Voto inválido')\n",
        ""
      ],
      "metadata": {
        "colab": {
          "base_uri": "https://localhost:8080/"
        },
        "id": "3MrfrVebyHxZ",
        "outputId": "73e125a6-a61b-475f-f93d-4597aa8def2e"
      },
      "execution_count": 78,
      "outputs": [
        {
          "output_type": "stream",
          "name": "stdout",
          "text": [
            "Digite o número do candidato: 2\n",
            "Voto para o candidato B\n",
            "Digite o número do candidato: 1\n",
            "Voto para o candidato A\n",
            "Digite o número do candidato: 2\n",
            "Voto para o candidato B\n",
            "Digite o número do candidato: 0\n",
            "Encerrando votação\n"
          ]
        }
      ]
    },
    {
      "cell_type": "code",
      "source": [
        "#17 Escreva um programa com for in range que percorra os números de 1 a 50. Para cada número, diga se ele é divisível por 5, por 7, por ambos, ou por nenhum dos dois.\n",
        "for numero in range(1, 51):\n",
        "    if numero % 5 == 0 and numero % 7 == 0:\n",
        "        print(f'{numero} é divisível por 5 e 7')\n",
        "    elif numero % 5 == 0:\n",
        "        print(f'{numero} é divisível por 5')\n",
        "    elif numero % 7 == 0:\n",
        "        print(f'{numero} é divisível por 7')\n"
      ],
      "metadata": {
        "colab": {
          "base_uri": "https://localhost:8080/"
        },
        "id": "4cDmi6K2zz9n",
        "outputId": "ef8a1229-2d1b-4f52-eca9-95b292d79db5"
      },
      "execution_count": 82,
      "outputs": [
        {
          "output_type": "stream",
          "name": "stdout",
          "text": [
            "5 é divisível por 5\n",
            "7 é divisível por 7\n",
            "10 é divisível por 5\n",
            "14 é divisível por 7\n",
            "15 é divisível por 5\n",
            "20 é divisível por 5\n",
            "21 é divisível por 7\n",
            "25 é divisível por 5\n",
            "28 é divisível por 7\n",
            "30 é divisível por 5\n",
            "35 é divisível por 5 e 7\n",
            "40 é divisível por 5\n",
            "42 é divisível por 7\n",
            "45 é divisível por 5\n",
            "49 é divisível por 7\n",
            "50 é divisível por 5\n"
          ]
        }
      ]
    },
    {
      "cell_type": "code",
      "source": [
        "\n",
        "#18 Escreva um programa com while que leia dois números inteiros e diga qual é o maior. Depois, pergunte ao usuário se ele deseja comparar outros dois números. O programa só termina se a resposta for diferente de \"s\".\n",
        "while True:\n",
        "    numero1 = int(input('Digite o primeiro número inteiro: '))\n",
        "    numero2 = int(input('Digite o segundo número inteiro: '))\n",
        "    if numero1 > numero2:\n",
        "        print('O primeiro número é maior que o segundo')\n",
        "    else:\n",
        "        print('O segundo número é maior que o primeiro')\n",
        "    resposta = input('Deseja comparar outros dois números? (s/n) ')\n",
        "    if resposta != 's':\n",
        "        break\n",
        ""
      ],
      "metadata": {
        "colab": {
          "base_uri": "https://localhost:8080/"
        },
        "id": "BxksX6A8z_L3",
        "outputId": "d3856548-0b62-4ef6-96ea-8d07ba3131c3"
      },
      "execution_count": 87,
      "outputs": [
        {
          "name": "stdout",
          "output_type": "stream",
          "text": [
            "Digite o primeiro número inteiro: 6\n",
            "Digite o segundo número inteiro: 2\n",
            "O primeiro número é maior que o segundo\n",
            "Deseja comparar outros dois números? (s/n) n\n"
          ]
        }
      ]
    },
    {
      "cell_type": "code",
      "source": [
        "#19 Escreva um programa com for in que leia uma palavra de até 10 letras, pedindo uma letra por vez. Ao final, o programa deve mostrar quais letras são vogais e quais são consoantes. Não use listas.\n",
        "palavra = input('Digite uma palavra de até 10 letras: ')\n",
        "for letra in palavra:\n",
        "    if letra in 'aeiou':\n",
        "        print(f'{letra} é uma vogal')\n",
        "    else:\n",
        "        print(f'{letra} é uma consoante')\n",
        ""
      ],
      "metadata": {
        "colab": {
          "base_uri": "https://localhost:8080/"
        },
        "id": "he62WddH0cW4",
        "outputId": "1bb3ef0c-deb6-4a29-dfc1-9978bd1d38b6"
      },
      "execution_count": 88,
      "outputs": [
        {
          "output_type": "stream",
          "name": "stdout",
          "text": [
            "Digite uma palavra de até 10 letras: paraelepipedo\n",
            "p é uma consoante\n",
            "a é uma vogal\n",
            "r é uma consoante\n",
            "a é uma vogal\n",
            "e é uma vogal\n",
            "l é uma consoante\n",
            "e é uma vogal\n",
            "p é uma consoante\n",
            "i é uma vogal\n",
            "p é uma consoante\n",
            "e é uma vogal\n",
            "d é uma consoante\n",
            "o é uma vogal\n"
          ]
        }
      ]
    },
    {
      "cell_type": "code",
      "source": [
        "#20 Escreva um programa com while que simule um menu de opções: (1) Sacar, (2) Depositar, (3) Sair. O menu deve ser mostrado repetidamente até que o usuário escolha a opção 3 para sair.\n",
        "while True:\n",
        "    print(\"Menu de opções:\")\n",
        "    print(\"1. Sacar\")\n",
        "    print(\"2. Depositar\")\n",
        "    print(\"3. Sair\")\n",
        "    escolha = input(\"Escolha uma opção: \")\n",
        "    if escolha == \"1\":\n",
        "        print(\"Você escolheu a opção Sacar\")\n",
        "    elif escolha == \"2\":\n",
        "        print(\"Você escolheu a opção Depositar\")\n",
        "    elif escolha == \"3\":\n",
        "        print(\"Você escolheu a opção Sair\")\n",
        "        break\n"
      ],
      "metadata": {
        "colab": {
          "base_uri": "https://localhost:8080/"
        },
        "id": "zno-QU770lRY",
        "outputId": "5602102f-2cb3-4810-a321-c3d413d48898"
      },
      "execution_count": 92,
      "outputs": [
        {
          "output_type": "stream",
          "name": "stdout",
          "text": [
            "Menu de opções:\n",
            "1. Sacar\n",
            "2. Depositar\n",
            "3. Sair\n",
            "Escolha uma opção: 3\n",
            "Você escolheu a opção Sair\n"
          ]
        }
      ]
    }
  ]
}