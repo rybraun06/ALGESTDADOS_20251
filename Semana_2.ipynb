{
  "nbformat": 4,
  "nbformat_minor": 0,
  "metadata": {
    "colab": {
      "provenance": [],
      "authorship_tag": "ABX9TyNYZ5OBvlJCw8mQa/tTGAon",
      "include_colab_link": true
    },
    "kernelspec": {
      "name": "python3",
      "display_name": "Python 3"
    },
    "language_info": {
      "name": "python"
    }
  },
  "cells": [
    {
      "cell_type": "markdown",
      "metadata": {
        "id": "view-in-github",
        "colab_type": "text"
      },
      "source": [
        "<a href=\"https://colab.research.google.com/github/rybraun06/ALGESTDADOS_20251/blob/main/Semana_2.ipynb\" target=\"_parent\"><img src=\"https://colab.research.google.com/assets/colab-badge.svg\" alt=\"Open In Colab\"/></a>"
      ]
    },
    {
      "cell_type": "code",
      "execution_count": 4,
      "metadata": {
        "colab": {
          "base_uri": "https://localhost:8080/"
        },
        "id": "XgPGo-gpQfmG",
        "outputId": "518ea610-c2d2-461b-c877-6d7d10b0eded"
      },
      "outputs": [
        {
          "output_type": "stream",
          "name": "stdout",
          "text": [
            "digite o seu nomeRianny\n",
            "digite nome da sua cidade:Nova venecia\n",
            "quando você nasceu? (DD/MM/YYYY)13/11/2006\n",
            "Seu nome é Rianny, sua cidade é Nova venecia e sua idade é 18 anos\n"
          ]
        }
      ],
      "source": [
        "\n",
        "from datetime import datetime\n",
        "# criar um programa que retorne o nome, a cidade e a idade de um usuário atráves da sua data de nascimento\n",
        "nome = input('digite o seu nome')\n",
        "cidade = input('digite nome da sua cidade:')\n",
        "data_nasc = input('quando você nasceu? (DD/MM/YYYY)')\n",
        "data_conv = datetime.strptime (data_nasc,'%d/%m/%Y')\n",
        "hoje = datetime.now()\n",
        "idade = (hoje - data_conv).days // 365\n",
        "print(f'Seu nome é {nome}, sua cidade é {cidade} e sua idade é {idade} anos')\n"
      ]
    }
  ]
}