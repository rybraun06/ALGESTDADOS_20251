{
  "nbformat": 4,
  "nbformat_minor": 0,
  "metadata": {
    "colab": {
      "provenance": [],
      "toc_visible": true,
      "include_colab_link": true
    },
    "kernelspec": {
      "name": "python3",
      "display_name": "Python 3"
    },
    "language_info": {
      "name": "python"
    }
  },
  "cells": [
    {
      "cell_type": "markdown",
      "metadata": {
        "id": "view-in-github",
        "colab_type": "text"
      },
      "source": [
        "<a href=\"https://colab.research.google.com/github/rybraun06/ALGESTDADOS_20251/blob/main/Atividade_3_.ipynb\" target=\"_parent\"><img src=\"https://colab.research.google.com/assets/colab-badge.svg\" alt=\"Open In Colab\"/></a>"
      ]
    },
    {
      "cell_type": "markdown",
      "source": [
        "Atividade 3 - Estruturas Condicionais - Valor: 15 pontos / Marlon Prenholato de Jesus / Rianny Braun Maffioletti"
      ],
      "metadata": {
        "id": "gni0DTpSdZp1"
      }
    },
    {
      "cell_type": "code",
      "source": [
        "#1. Crie uma lista com 15 números inteiros digitados pelo usuário.\n",
        "#Em seguida, remova todos os números repetidos, mantendo a ordem original.\n",
        "conjunto = []\n",
        "qtd=15\n",
        "for j in range(qtd):\n",
        "  num = int(input(f'Digite o {j+1}º valor inteiro: '))\n",
        "  conjunto.append(num)\n",
        "lista = []\n",
        "for i in range(len(conjunto)):\n",
        "  if conjunto[i] not in lista:\n",
        "    lista.append(conjunto[i])\n",
        "conjunto = lista\n",
        "print(conjunto)\n"
      ],
      "metadata": {
        "id": "eSmLClD4doPf",
        "colab": {
          "base_uri": "https://localhost:8080/"
        },
        "outputId": "cdaafe20-8b70-4f5c-8030-45904372af8a"
      },
      "execution_count": null,
      "outputs": [
        {
          "output_type": "stream",
          "name": "stdout",
          "text": [
            "Digite o 1º valor inteiro: 1\n",
            "Digite o 2º valor inteiro: 2\n",
            "Digite o 3º valor inteiro: 3\n",
            "Digite o 4º valor inteiro: 4\n",
            "Digite o 5º valor inteiro: 5\n",
            "Digite o 6º valor inteiro: 6\n",
            "Digite o 7º valor inteiro: 7\n",
            "Digite o 8º valor inteiro: 8\n",
            "Digite o 9º valor inteiro: 9\n",
            "Digite o 10º valor inteiro: 5\n",
            "Digite o 11º valor inteiro: 4\n",
            "Digite o 12º valor inteiro: 43\n",
            "Digite o 13º valor inteiro: 3\n",
            "Digite o 14º valor inteiro: 3\n",
            "Digite o 15º valor inteiro: 3\n",
            "[1, 2, 3, 4, 5, 6, 7, 8, 9, 43]\n"
          ]
        }
      ]
    },
    {
      "cell_type": "code",
      "source": [
        "#2. Escreva um programa que leia 10 nomes e 10 idades. Armazene os nomes em uma lista e as idades em outra. Em seguida, exiba o nome da pessoa mais velha.\n",
        "nomes= []\n",
        "qtd=10\n",
        "for j in range(qtd):\n",
        "  nome = (input(f'Digite o {j+1}º nome: '))\n",
        "  nomes.append(nome)\n",
        "\n",
        "idades= []\n",
        "for i in range(qtd):\n",
        "  idade = int(input(f'Digite a {i+1}º idade: '))\n",
        "  idades.append(idade)\n",
        "\n",
        "print(nomes)\n",
        "print(idades)\n",
        "\n",
        "idade_max=0\n",
        "for k, valor in enumerate(idades):\n",
        "  if valor>idade_max:\n",
        "    idade_max=valor\n",
        "    indice_idade_max=k\n",
        "\n",
        "print(f'A pessoa mais velha é: {nomes[indice_idade_max]}')\n",
        "\n"
      ],
      "metadata": {
        "id": "hp_ggkOod2Zx",
        "colab": {
          "base_uri": "https://localhost:8080/"
        },
        "outputId": "aab2c4d7-526e-4ecf-c8d7-6d36eae239e0"
      },
      "execution_count": null,
      "outputs": [
        {
          "output_type": "stream",
          "name": "stdout",
          "text": [
            "Digite o 1º nome: a\n",
            "Digite o 2º nome: b\n",
            "Digite o 3º nome: c\n",
            "Digite a 1º idade: 1\n",
            "Digite a 2º idade: 2\n",
            "Digite a 3º idade: 1\n",
            "['a', 'b', 'c']\n",
            "[1, 2, 1]\n",
            "A pessoa mais velha é: b\n"
          ]
        }
      ]
    },
    {
      "cell_type": "code",
      "source": [
        "#3. Faça um programa que leia uma lista de 10 números e divida todos os valores ímpares por 3 e os pares por 2, substituindo os valores originais.\n",
        "idades= []\n",
        "qtd=10\n",
        "for i in range(qtd):\n",
        "  idade = int(input(f'Digite a {i+1}º idade: '))\n",
        "  idades.append(idade)\n",
        "print(idades)\n",
        "\n",
        "corret=[]\n",
        "for k, valor in enumerate(idades):\n",
        "  if (valor%2==0):\n",
        "    valor=(valor/2)\n",
        "\n",
        "  else:\n",
        "    valor=(valor/3)\n",
        "\n",
        "  corret.append(valor)\n",
        "print(corret)"
      ],
      "metadata": {
        "id": "6waaQUDwd4TY",
        "colab": {
          "base_uri": "https://localhost:8080/"
        },
        "outputId": "74c8877a-d5b0-4081-8937-8cbb7c075a5d"
      },
      "execution_count": null,
      "outputs": [
        {
          "output_type": "stream",
          "name": "stdout",
          "text": [
            "Digite a 1º idade: 10\n",
            "Digite a 2º idade: 14\n",
            "Digite a 3º idade: 16\n",
            "[10, 14, 16]\n",
            "[5.0, 7.0, 8.0]\n"
          ]
        }
      ]
    },
    {
      "cell_type": "code",
      "source": [
        "#4. Solicite ao usuário uma frase. Armazene em uma lista cada palavra que começa com uma vogal. Exiba a lista resultante.\n",
        "vogais = ['a','á','à','e','é','ê','i','í','o','ó','ô','u','ú']\n",
        "palavras_vogal = []\n",
        "frase = (input('Digite uma frase qualquer: ')).lower()\n",
        "lista = frase.split()\n",
        "for palavras in lista:\n",
        "  if list(palavras)[0] in vogais:\n",
        "    palavras_vogal.append(palavras)\n",
        "print(palavras_vogal)"
      ],
      "metadata": {
        "id": "mcHXr-ASd45Y",
        "colab": {
          "base_uri": "https://localhost:8080/"
        },
        "outputId": "ea215605-52b4-48e2-8417-3912324219db"
      },
      "execution_count": null,
      "outputs": [
        {
          "output_type": "stream",
          "name": "stdout",
          "text": [
            "Digite uma frase qualquer: Vasco da Gama é o melhor time do Brasil e do mundo\n",
            "['é', 'o', 'e']\n"
          ]
        }
      ]
    },
    {
      "cell_type": "code",
      "source": [
        "#5. Leia 10 números inteiros e armazene-os em uma lista. Em seguida, crie uma segunda lista apenas com os números primos da primeira.\n",
        "nums= []\n",
        "qtd=10\n",
        "for i in range(qtd):\n",
        "  num = int(input(f'Digite o {i+1}º valor inteiro: '))\n",
        "  nums.append(num)\n",
        "\n",
        "print(nums)\n",
        "\n",
        "primos=[]\n",
        "for x in nums:\n",
        "  cont=0\n",
        "  for y in range(1,101):\n",
        "    if x%y==0:\n",
        "      cont+=1\n",
        "\n",
        "  if cont<=2:\n",
        "    primos.append(x)\n",
        "print(f'Apenas primos : {primos}')"
      ],
      "metadata": {
        "id": "g1rPG6Rad5O4",
        "colab": {
          "base_uri": "https://localhost:8080/"
        },
        "outputId": "11c97d26-5e78-4c58-8646-ea5915db09ae"
      },
      "execution_count": null,
      "outputs": [
        {
          "output_type": "stream",
          "name": "stdout",
          "text": [
            "Digite o 1º valor inteiro: 6\n",
            "Digite o 2º valor inteiro: 9\n",
            "Digite o 3º valor inteiro: 8\n",
            "Digite o 4º valor inteiro: 5\n",
            "[6, 9, 8, 5]\n",
            "[5]\n"
          ]
        }
      ]
    },
    {
      "cell_type": "code",
      "source": [
        "#6. Escreva um programa que leia uma lista de 8 elementos e verifique se ela é palíndroma (lê-se igual de trás para frente).\n",
        "nums= []\n",
        "qtd=8\n",
        "for i in range(qtd):\n",
        "  num = int(input(f'Digite o {i+1}º valor inteiro: '))\n",
        "  nums.append(num)\n",
        "\n",
        "print(nums)\n",
        "lista_invertida=nums[::-1]\n",
        "print(lista_invertida)"
      ],
      "metadata": {
        "id": "WIBsUHG_d5vA",
        "colab": {
          "base_uri": "https://localhost:8080/"
        },
        "outputId": "3f8535d1-58b4-40b9-8344-3d5d1414f81c"
      },
      "execution_count": null,
      "outputs": [
        {
          "output_type": "stream",
          "name": "stdout",
          "text": [
            "Digite o 1º valor inteiro: 1\n",
            "Digite o 2º valor inteiro: 2\n",
            "Digite o 3º valor inteiro: 3\n",
            "Digite o 4º valor inteiro: 4\n",
            "[1, 2, 3, 4]\n",
            "[4, 3, 2, 1]\n"
          ]
        }
      ]
    },
    {
      "cell_type": "code",
      "source": [
        "#7. Crie duas listas com 10 números inteiros aleatórios entre 1 e 100. Gere uma terceira lista contendo apenas os elementos que estão presentes em ambas (interseção).\n",
        "lista1= []\n",
        "qtd=10\n",
        "for i in range(qtd):\n",
        "  num = int(input(f'Digite o {i+1}º valor inteiro: '))\n",
        "  lista1.append(num)\n",
        "print(f'Lista 1: {lista1}')\n",
        "\n",
        "lista2= []\n",
        "qtd=10\n",
        "for i in range(qtd):\n",
        "  num = int(input(f'Digite o {i+1}º valor inteiro: '))\n",
        "  lista2.append(num)\n",
        "print(f'Lista 2: {lista2}')\n",
        "\n",
        "nums_iguais=[]\n",
        "for x in lista1:\n",
        "  for y in lista2:\n",
        "    if x==y:\n",
        "      nums_iguais.append(x)\n",
        "\n",
        "print(f'Valores iguais: {nums_iguais}')"
      ],
      "metadata": {
        "id": "N9F9__O4d5si",
        "colab": {
          "base_uri": "https://localhost:8080/"
        },
        "outputId": "149d7936-df17-42f2-fb80-f7f7089e1d60"
      },
      "execution_count": null,
      "outputs": [
        {
          "output_type": "stream",
          "name": "stdout",
          "text": [
            "Digite o 1º valor inteiro: 1\n",
            "Digite o 2º valor inteiro: 2\n",
            "Digite o 3º valor inteiro: 3\n",
            "Digite o 4º valor inteiro: 4\n",
            "Digite o 5º valor inteiro: 5\n",
            "Digite o 6º valor inteiro: 6\n",
            "Digite o 7º valor inteiro: 7\n",
            "Digite o 8º valor inteiro: 8\n",
            "Digite o 9º valor inteiro: 9\n",
            "Digite o 10º valor inteiro: 0\n",
            "Lista 1: [1, 2, 3, 4, 5, 6, 7, 8, 9, 0]\n",
            "Digite o 1º valor inteiro: 5\n",
            "Digite o 2º valor inteiro: 6\n",
            "Digite o 3º valor inteiro: 7\n",
            "Digite o 4º valor inteiro: 8\n",
            "Digite o 5º valor inteiro: 9\n",
            "Digite o 6º valor inteiro: 0\n",
            "Digite o 7º valor inteiro: 10\n",
            "Digite o 8º valor inteiro: 11\n",
            "Digite o 9º valor inteiro: 12\n",
            "Digite o 10º valor inteiro: 13\n",
            "Lista 2: [5, 6, 7, 8, 9, 0, 10, 11, 12, 13]\n",
            "Valores iguais: [5, 6, 7, 8, 9, 0]\n"
          ]
        }
      ]
    },
    {
      "cell_type": "code",
      "source": [
        "#8. Faça um programa que simule o sorteio de 6 números da Mega-Sena (entre 1 e 60) sem repetição. Armazene em uma lista e exiba.\n",
        "import random\n",
        "\n",
        "sorteio = []\n",
        "while len(sorteio) < 6:\n",
        "  num = random.randint(1,60)\n",
        "  if num not in sorteio:\n",
        "    sorteio.append(num)\n",
        "print(sorteio)"
      ],
      "metadata": {
        "id": "3QuETm_Wd5pp",
        "colab": {
          "base_uri": "https://localhost:8080/"
        },
        "outputId": "57e39dbc-154f-42c6-a15b-a70ded49760c"
      },
      "execution_count": null,
      "outputs": [
        {
          "output_type": "stream",
          "name": "stdout",
          "text": [
            "[16, 48, 25, 17, 59, 40]\n"
          ]
        }
      ]
    },
    {
      "cell_type": "code",
      "source": [
        "#9. Solicite ao usuário uma lista de 10 números. Crie uma nova lista onde cada elemento é o somatório de todos os elementos anteriores da lista original.\n",
        "conjunto = []\n",
        "qtd=10\n",
        "for j in range(qtd):\n",
        "  num = int(input(f'Digite o {j+1}º valor inteiro: '))\n",
        "  conjunto.append(num)\n",
        "\n",
        "somas_anteriores = []\n",
        "soma = 0\n",
        "\n",
        "for num in conjunto:\n",
        "    somas_anteriores.append(soma)\n",
        "    soma += num\n",
        "\n",
        "print('Lista original:', (conjunto))\n",
        "print('Somas dos elementos anteriores:', (somas_anteriores))"
      ],
      "metadata": {
        "id": "dDamALI5d5nC",
        "colab": {
          "base_uri": "https://localhost:8080/"
        },
        "outputId": "e0317c73-349a-4bc1-e8d6-9e058fb423b7"
      },
      "execution_count": null,
      "outputs": [
        {
          "output_type": "stream",
          "name": "stdout",
          "text": [
            "Digite o 1º valor inteiro: 1\n",
            "Digite o 2º valor inteiro: 1\n",
            "Digite o 3º valor inteiro: 1\n",
            "Digite o 4º valor inteiro: 1\n",
            "Digite o 5º valor inteiro: 1\n",
            "Digite o 6º valor inteiro: 1\n",
            "Digite o 7º valor inteiro: 1\n",
            "Digite o 8º valor inteiro: 1\n",
            "Digite o 9º valor inteiro: 1\n",
            "Digite o 10º valor inteiro: 1\n",
            "Lista original [1, 1, 1, 1, 1, 1, 1, 1, 1, 1]\n",
            "Somas dos elementos anteriores: [0, 1, 2, 3, 4, 5, 6, 7, 8, 9]\n"
          ]
        }
      ]
    },
    {
      "cell_type": "code",
      "source": [
        "#10. Implemente uma lista de nomes e remova todos que tenham mais de 10 caracteres.\n",
        "nomes= []\n",
        "qtd=3\n",
        "for j in range(qtd):\n",
        "  nome = (input(f'Digite o {j+1}º nome: '))\n",
        "  nomes.append(nome)\n",
        "\n",
        "print(nomes)\n",
        "\n",
        "noms=[]\n",
        "for x,valor in enumerate(nomes):\n",
        "  if len(valor)<10:\n",
        "    noms.append(valor)\n",
        "\n",
        "print(f'Lista completa: {noms}')"
      ],
      "metadata": {
        "id": "1ItqBDqjd5kY",
        "colab": {
          "base_uri": "https://localhost:8080/"
        },
        "outputId": "bf16e72e-c330-4f0d-c9db-27068df48d9f"
      },
      "execution_count": null,
      "outputs": [
        {
          "output_type": "stream",
          "name": "stdout",
          "text": [
            "Digite o 1º nome: marlon\n",
            "Digite o 2º nome: Pedro\n",
            "Digite o 3º nome: Robervaldisnei\n",
            "['marlon', 'Pedro', 'Robervaldisnei']\n",
            "['marlon', 'Pedro']\n"
          ]
        }
      ]
    },
    {
      "cell_type": "code",
      "source": [
        "#11. Crie uma matriz 4x4 com valores fornecidos pelo usuário. Exiba a soma dos elementos da diagonal secundária.\n",
        "import random\n",
        "matriz = []\n",
        "for i in range(4):\n",
        "  linha = []\n",
        "  for j in range(4):\n",
        "    linha.append(int(input('Valor:')))\n",
        "  matriz.append(linha)\n",
        "print()\n",
        "\n",
        "soma = 0\n",
        "for i in range(4):\n",
        "  for j in range(4):\n",
        "    if i==j:\n",
        "      print(f'{matriz[i][j]}',end=' ')\n",
        "      soma += matriz[i][3-j]\n",
        "    else:\n",
        "      print(matriz[i][j],end=' ')\n",
        "  print()\n",
        "\n",
        "print(f'Soma da diagonal secundária da matriz: {soma}')"
      ],
      "metadata": {
        "id": "uEjVOQ0Od5dJ",
        "colab": {
          "base_uri": "https://localhost:8080/"
        },
        "outputId": "bde274b8-442e-4bb7-c3d6-f3e35bf4ab64"
      },
      "execution_count": null,
      "outputs": [
        {
          "output_type": "stream",
          "name": "stdout",
          "text": [
            "Valor:1\n",
            "Valor:2\n",
            "Valor:3\n",
            "Valor:4\n",
            "Valor:1\n",
            "Valor:2\n",
            "Valor:3\n",
            "Valor:4\n",
            "Valor:1\n",
            "Valor:2\n",
            "Valor:3\n",
            "Valor:4\n",
            "Valor:1\n",
            "Valor:2\n",
            "Valor:3\n",
            "Valor:4\n",
            "\n",
            "1 2 3 4 \n",
            "1 2 3 4 \n",
            "1 2 3 4 \n",
            "1 2 3 4 \n",
            "Soma da diagonal secundária da matriz: 10\n"
          ]
        }
      ]
    },
    {
      "cell_type": "code",
      "source": [
        "#12. Gere uma matriz 5x5 com números aleatórios entre 1 e 99. Em seguida, calcule a média dos elementos de cada linha e armazene os resultados em uma nova lista.\n",
        "def imprime_matriz(matriz,x,y):\n",
        "  for i in range(x):\n",
        "    for j in range(y):\n",
        "      print(matriz[i][j],end=' ')\n",
        "    print()\n",
        "  print()\n",
        "matriz = []\n",
        "for i in range(5):\n",
        "  linha = []\n",
        "  for j in range(5):\n",
        "    linha.append(random.randint(0,99))\n",
        "  matriz.append(linha)\n",
        "imprime_matriz(matriz,5,5)\n",
        "lista = []\n",
        "for linha in matriz:\n",
        "  media = sum(linha)/len(linha)\n",
        "  lista.append(media)\n",
        "print(f'As médias de cada linha estão na lista: {lista}')"
      ],
      "metadata": {
        "id": "G3eXjNj6d5GQ",
        "colab": {
          "base_uri": "https://localhost:8080/"
        },
        "outputId": "8321ea1a-8785-48e5-cfff-ebd49c528d29"
      },
      "execution_count": null,
      "outputs": [
        {
          "output_type": "stream",
          "name": "stdout",
          "text": [
            "77 78 8 42 86 \n",
            "74 13 48 43 21 \n",
            "70 48 71 68 61 \n",
            "18 23 12 84 39 \n",
            "81 70 79 51 55 \n",
            "\n",
            "As médias de cada linha estão na lista: [58.2, 39.8, 63.6, 35.2, 67.2]\n"
          ]
        }
      ]
    },
    {
      "cell_type": "code",
      "source": [
        "#13. Solicite uma matriz 3x3 preenchida pelo usuário. Verifique se ela é uma matriz identidade.\n",
        "def imprime_matriz(matriz,x,y):\n",
        "  for i in range(x):\n",
        "    for j in range(y):\n",
        "      print(matriz[i][j],end = ' ')\n",
        "    print()\n",
        "  print()\n",
        "matriz = []\n",
        "for i in range(3):\n",
        "  linha = []\n",
        "  for j in range(3):\n",
        "    num = int(input(f'Elemento [{i}][{j}] da matriz: '))\n",
        "    linha.append(num)\n",
        "  matriz.append(linha)\n",
        "imprime_matriz(matriz,3,3)\n",
        "erros = 0\n",
        "for i in range(3):\n",
        "  for j in range(3):\n",
        "    if i == j and matriz[i][j] != 1:\n",
        "      erros += 1\n",
        "    if i != j and matriz[i][j] != 0:\n",
        "      erros += 1\n",
        "if erros == 0:\n",
        "  print('É uma matriz identidade.')\n",
        "else:\n",
        "  print('NÃO é uma matriz identidade.')"
      ],
      "metadata": {
        "id": "77g5FBtbePUB",
        "colab": {
          "base_uri": "https://localhost:8080/"
        },
        "outputId": "60f3a751-ff89-4de2-860b-cbe973ea021b"
      },
      "execution_count": null,
      "outputs": [
        {
          "output_type": "stream",
          "name": "stdout",
          "text": [
            "Elemento [0][0] da matriz: 1\n",
            "Elemento [0][1] da matriz: 2\n",
            "Elemento [0][2] da matriz: 3\n",
            "Elemento [1][0] da matriz: 1\n",
            "Elemento [1][1] da matriz: 2\n",
            "Elemento [1][2] da matriz: 3\n",
            "Elemento [2][0] da matriz: 1\n",
            "Elemento [2][1] da matriz: 2\n",
            "Elemento [2][2] da matriz: 3\n",
            "1 2 3 \n",
            "1 2 3 \n",
            "1 2 3 \n",
            "\n",
            "NÃO é uma matriz identidade.\n"
          ]
        }
      ]
    },
    {
      "cell_type": "code",
      "source": [
        "#14. Faça um programa que leia uma matriz 3x3 e verifique se ela é simétrica (igual à sua transposta).\n",
        "def imprime_matriz(matriz,x,y):\n",
        "  for i in range(x):\n",
        "    for j in range(y):\n",
        "      print(matriz[i][j],end = ' ')\n",
        "    print()\n",
        "  print()\n",
        "matriz = []\n",
        "for i in range(3):\n",
        "  linha = []\n",
        "  for j in range(3):\n",
        "    num = int(input(f'Elemento [{i}][{j}] da matriz: '))\n",
        "    linha.append(num)\n",
        "  matriz.append(linha)\n",
        "imprime_matriz(matriz,3,3)\n",
        "print('Transposta:')\n",
        "for i in range(3):\n",
        "  for j in range(3):\n",
        "    print(matriz[j][i],end=' ')\n",
        "  print()\n",
        "erro = 0\n",
        "for i in range(3):\n",
        "  for j in range(3):\n",
        "    if matriz[i][j] != matriz[j][i]:\n",
        "      erros += 1\n",
        "if erros == 0:\n",
        "  print('Matriz simétrica!')\n",
        "else:\n",
        "  print('Matriz ASSIMÉTRICA!')"
      ],
      "metadata": {
        "id": "UAvQwiSXePmJ",
        "colab": {
          "base_uri": "https://localhost:8080/",
          "height": 505
        },
        "outputId": "fd1a934b-b5d3-4542-b163-c87379f0d05e"
      },
      "execution_count": null,
      "outputs": [
        {
          "output_type": "stream",
          "name": "stdout",
          "text": [
            "Elemento [0][0] da matriz: 1\n",
            "Elemento [0][1] da matriz: 2\n",
            "Elemento [0][2] da matriz: 3\n",
            "Elemento [1][0] da matriz: 1\n",
            "Elemento [1][1] da matriz: 2\n",
            "Elemento [1][2] da matriz: 3\n",
            "Elemento [2][0] da matriz: 1\n",
            "Elemento [2][1] da matriz: 2\n",
            "Elemento [2][2] da matriz: 3\n",
            "1 2 3 \n",
            "1 2 3 \n",
            "1 2 3 \n",
            "\n",
            "Transposta:\n",
            "1 1 1 \n",
            "2 2 2 \n",
            "3 3 3 \n"
          ]
        },
        {
          "output_type": "error",
          "ename": "NameError",
          "evalue": "name 'erros' is not defined",
          "traceback": [
            "\u001b[0;31m---------------------------------------------------------------------------\u001b[0m",
            "\u001b[0;31mNameError\u001b[0m                                 Traceback (most recent call last)",
            "\u001b[0;32m<ipython-input-4-813196a77670>\u001b[0m in \u001b[0;36m<cell line: 0>\u001b[0;34m()\u001b[0m\n\u001b[1;32m     23\u001b[0m   \u001b[0;32mfor\u001b[0m \u001b[0mj\u001b[0m \u001b[0;32min\u001b[0m \u001b[0mrange\u001b[0m\u001b[0;34m(\u001b[0m\u001b[0;36m3\u001b[0m\u001b[0;34m)\u001b[0m\u001b[0;34m:\u001b[0m\u001b[0;34m\u001b[0m\u001b[0;34m\u001b[0m\u001b[0m\n\u001b[1;32m     24\u001b[0m     \u001b[0;32mif\u001b[0m \u001b[0mmatriz\u001b[0m\u001b[0;34m[\u001b[0m\u001b[0mi\u001b[0m\u001b[0;34m]\u001b[0m\u001b[0;34m[\u001b[0m\u001b[0mj\u001b[0m\u001b[0;34m]\u001b[0m \u001b[0;34m!=\u001b[0m \u001b[0mmatriz\u001b[0m\u001b[0;34m[\u001b[0m\u001b[0mj\u001b[0m\u001b[0;34m]\u001b[0m\u001b[0;34m[\u001b[0m\u001b[0mi\u001b[0m\u001b[0;34m]\u001b[0m\u001b[0;34m:\u001b[0m\u001b[0;34m\u001b[0m\u001b[0;34m\u001b[0m\u001b[0m\n\u001b[0;32m---> 25\u001b[0;31m       \u001b[0merros\u001b[0m \u001b[0;34m+=\u001b[0m \u001b[0;36m1\u001b[0m\u001b[0;34m\u001b[0m\u001b[0;34m\u001b[0m\u001b[0m\n\u001b[0m\u001b[1;32m     26\u001b[0m \u001b[0;32mif\u001b[0m \u001b[0merros\u001b[0m \u001b[0;34m==\u001b[0m \u001b[0;36m0\u001b[0m\u001b[0;34m:\u001b[0m\u001b[0;34m\u001b[0m\u001b[0;34m\u001b[0m\u001b[0m\n\u001b[1;32m     27\u001b[0m   \u001b[0mprint\u001b[0m\u001b[0;34m(\u001b[0m\u001b[0;34m'Matriz simétrica!'\u001b[0m\u001b[0;34m)\u001b[0m\u001b[0;34m\u001b[0m\u001b[0;34m\u001b[0m\u001b[0m\n",
            "\u001b[0;31mNameError\u001b[0m: name 'erros' is not defined"
          ]
        }
      ]
    },
    {
      "cell_type": "code",
      "source": [
        "#15. Crie uma matriz 5x3 onde cada elemento é igual ao produto de sua linha pelo valor da coluna. Exiba a matriz completa.\n",
        "matriz = []\n",
        "n_linhas= int(input('Digite a quantidade linhas: '))\n",
        "n_colunas= int(input('Digite a quantidade colunas: '))\n",
        "for i in range(n_linhas):\n",
        "    linha = []\n",
        "    for j in range(n_colunas):\n",
        "        linha.append(i * j)\n",
        "    matriz.append(linha)\n",
        "\n",
        "for linha in matriz:\n",
        "    print(linha)"
      ],
      "metadata": {
        "id": "O7tCebfseP5Z",
        "colab": {
          "base_uri": "https://localhost:8080/"
        },
        "outputId": "2730df87-0c7d-40ef-d553-b94c49af32c1"
      },
      "execution_count": null,
      "outputs": [
        {
          "output_type": "stream",
          "name": "stdout",
          "text": [
            "Digite a quantidade linhas: 5\n",
            "Digite a quantidade colunas: 3\n",
            "[0, 0, 0]\n",
            "[0, 1, 2]\n",
            "[0, 2, 4]\n",
            "[0, 3, 6]\n",
            "[0, 4, 8]\n"
          ]
        }
      ]
    },
    {
      "cell_type": "code",
      "source": [
        "#16. Crie uma matriz 4x4 com números fornecidos pelo usuário. Encontre o menor valor de cada coluna e armazene em uma lista separada.\n",
        "numeros = []\n",
        "for i in range(4):\n",
        "    linha = []\n",
        "    for j in range(4):\n",
        "        numero = int(input(f\"({i+1}, {j+1}): \"))\n",
        "        linha.append(numero)\n",
        "    numeros.append(linha)\n",
        "\n"
      ],
      "metadata": {
        "id": "Pjotdblp2OUW",
        "colab": {
          "base_uri": "https://localhost:8080/"
        },
        "outputId": "e11814fa-62a0-4475-e686-485a0b51c81a"
      },
      "execution_count": null,
      "outputs": [
        {
          "name": "stdout",
          "output_type": "stream",
          "text": [
            "(1, 1): 1\n",
            "(1, 2): 2\n",
            "(1, 3): 3\n",
            "(1, 4): 4\n",
            "(2, 1): 9\n",
            "(2, 2): 8\n",
            "(2, 3): 7\n",
            "(2, 4): 6\n",
            "(3, 1): 5\n",
            "(3, 2): 2\n",
            "(3, 3): 5\n",
            "(3, 4): 8\n",
            "(4, 1): 7\n",
            "(4, 2): 0\n",
            "(4, 3): 1\n",
            "(4, 4): 4\n"
          ]
        }
      ]
    },
    {
      "cell_type": "code",
      "source": [
        "#17. Dada uma matriz 3x3 com valores reais, calcule o determinante (sem usar bibliotecas externas).\n",
        "matriz = []\n",
        "for i in range(3):\n",
        "    linha = []\n",
        "    for j in range(3):\n",
        "        numero = int(input(f\"6({i+1}, {j+1}): \"))\n",
        "        linha.append(numero)\n",
        "    matriz.append(linha)\n",
        "    for j in range(3):\n",
        "        numero = int(input(f\"6({i+1}, {j+1}): \"))\n",
        "        linha.append(numero)\n",
        "    numeros.append(linha)\n",
        "print(matriz)\n"
      ],
      "metadata": {
        "colab": {
          "base_uri": "https://localhost:8080/"
        },
        "id": "Y14LN1rNnHkU",
        "outputId": "43033109-af70-42d6-d89b-9f5547cdc5f9"
      },
      "execution_count": null,
      "outputs": [
        {
          "output_type": "stream",
          "name": "stdout",
          "text": [
            "6(1, 1): 9\n",
            "6(1, 2): 6\n",
            "6(1, 3): 3\n",
            "6(1, 1): 8\n",
            "6(1, 2): 5\n",
            "6(1, 3): 2\n",
            "6(2, 1): 7\n",
            "6(2, 2): 4\n",
            "6(2, 3): 1\n",
            "6(2, 1): 0\n",
            "6(2, 2): 3\n",
            "6(2, 3): 2\n",
            "6(3, 1): 1\n",
            "6(3, 2): 6\n",
            "6(3, 3): 5\n",
            "6(3, 1): 4\n",
            "6(3, 2): 9\n",
            "6(3, 3): 8\n",
            "[[9, 6, 3, 8, 5, 2], [7, 4, 1, 0, 3, 2], [1, 6, 5, 4, 9, 8]]\n"
          ]
        }
      ]
    },
    {
      "cell_type": "code",
      "source": [
        "#18. Faça um programa que leia duas matrizes 3x3 e calcule a matriz soma e a matriz diferença.\n",
        "matriz1 = []\n",
        "for i in range(3):\n",
        "    linha = []\n",
        "    for j in range(3):\n",
        "        numero = int(input(f\"matriz1({i+1}, {j+1}): \"))\n",
        "        linha.append(numero)\n",
        "    matriz1.append(linha)\n",
        "\n",
        "matriz2 = []\n",
        "for i in range(3):\n",
        "    linha = []\n",
        "    for j in range(3):\n",
        "        numero = int(input(f\"matriz2({i+1}, {j+1}): \"))\n",
        "        linha.append(numero)\n",
        "    matriz2.append(linha)\n",
        "\n",
        "matriz_soma = []\n",
        "matriz_diferenca = []\n",
        "for i in range(3):\n",
        "    linha_soma = []\n",
        "    linha_diferenca = []\n",
        "    for j in range(3):\n",
        "        linha_soma.append(matriz1[i][j] + matriz2[i][j])\n",
        "        linha_diferenca.append(matriz1[i][j] - matriz2[i][j])\n",
        "    matriz_soma.append(linha_soma)\n",
        "    matriz_diferenca.append(linha_diferenca)\n",
        "\n",
        "print(\"Matriz 1:\")\n",
        "for linha in matriz1:\n",
        "    print(linha)\n",
        "\n",
        "print(\"Matriz 2:\")\n",
        "for linha in matriz2:\n",
        "    print(linha)\n",
        "\n",
        "print(\"Matriz Soma:\")\n",
        "for linha in matriz_soma:\n",
        "    print(linha)\n",
        "\n",
        "print(\"Matriz Diferença:\")\n",
        "for linha in matriz_diferenca:\n",
        "    print(linha)\n",
        "    for j in range(3):\n",
        "        numero = int(input(f\"6({i+1}, {j+1}): \"))\n",
        "        linha.append(numero)\n",
        "    matriz.append(linha)\n",
        "    for j in range(3):\n",
        "        numero = int(input(f\"6({i+1}, {j+1}): \"))\n",
        "        linha.append(numero)\n",
        "    numeros.append(linha)\n",
        "print(matriz)\n",
        "\n"
      ],
      "metadata": {
        "colab": {
          "base_uri": "https://localhost:8080/"
        },
        "id": "u_FUmyrSryIE",
        "outputId": "8dbaf7a7-b8d6-483f-f4b8-9458112e4205"
      },
      "execution_count": null,
      "outputs": [
        {
          "output_type": "stream",
          "name": "stdout",
          "text": [
            "matriz1(1, 1): 9\n",
            "matriz1(1, 2): 6\n",
            "matriz1(1, 3): 3\n",
            "matriz1(2, 1): 8\n",
            "matriz1(2, 2): 5\n",
            "matriz1(2, 3): 2\n",
            "matriz1(3, 1): 7\n",
            "matriz1(3, 2): 4\n",
            "matriz1(3, 3): 1\n",
            "matriz2(1, 1): 0\n",
            "matriz2(1, 2): 3\n",
            "matriz2(1, 3): 2\n",
            "matriz2(2, 1): 1\n",
            "matriz2(2, 2): 4\n",
            "matriz2(2, 3): 5\n",
            "matriz2(3, 1): 6\n",
            "matriz2(3, 2): 8\n",
            "matriz2(3, 3): 9\n",
            "Matriz 1:\n",
            "[9, 6, 3]\n",
            "[8, 5, 2]\n",
            "[7, 4, 1]\n",
            "\n",
            "Matriz 2:\n",
            "[0, 3, 2]\n",
            "[1, 4, 5]\n",
            "[6, 8, 9]\n",
            "\n",
            "Matriz Soma:\n",
            "[9, 9, 5]\n",
            "[9, 9, 7]\n",
            "[13, 12, 10]\n",
            "\n",
            "Matriz Diferença:\n",
            "[9, 3, 1]\n",
            "6(3, 1): 7\n",
            "6(3, 2): 5\n",
            "6(3, 3): 3\n",
            "6(3, 1): 1\n",
            "6(3, 2): 9\n",
            "6(3, 3): 6\n",
            "[7, 1, -3]\n",
            "6(3, 1): 1\n",
            "6(3, 2): 7\n",
            "6(3, 3): 8\n",
            "6(3, 1): 9\n",
            "6(3, 2): 10\n",
            "6(3, 3): 5\n",
            "[1, -4, -8]\n",
            "6(3, 1): 9\n",
            "6(3, 2): 6\n",
            "6(3, 3): 3\n",
            "6(3, 1): 7\n",
            "6(3, 2): 4\n",
            "6(3, 3): 1\n",
            "[[9, 6, 3, 8, 5, 2], [7, 4, 1, 0, 3, 2], [1, 6, 5, 4, 9, 8], [9, 3, 1, 7, 5, 3, 1, 9, 6], [7, 1, -3, 1, 7, 8, 9, 10, 5], [1, -4, -8, 9, 6, 3, 7, 4, 1]]\n"
          ]
        }
      ]
    },
    {
      "cell_type": "code",
      "source": [
        "#19. Solicite dois conjuntos de 10 elementos fornecidos pelo usuário. Mostre a interseção, união e diferença (A - B e B - A).\n",
        "conjunto1 = set()\n",
        "for i in range(10):\n",
        "    elemento = input(f\"Conjunto 1 ({i+1}): \")\n",
        "    conjunto1.add(elemento)\n",
        "    conjunto2 = set()\n",
        "for i in range(10):\n",
        "    elemento = input(f\"Conjunto 2 ({i+1}): \")\n",
        "    conjunto2.add(elemento)\n",
        "    intersecao = conjunto1.intersection(conjunto2)\n",
        "    uniao = conjunto1.union(conjunto2)\n",
        "    diferenca_a_b = conjunto1.difference(conjunto2)\n",
        "    diferenca_b_a = conjunto2.difference(conjunto1)\n",
        "    print(\"Interseção:\", intersecao)\n",
        "    print(\"União:\", uniao)\n",
        "    print(\"Diferença (A - B):\", diferenca_a_b)\n",
        "    print(\"Diferença (B - A):\", diferenca_b_a)"
      ],
      "metadata": {
        "id": "fBF_kk51wBT2",
        "colab": {
          "base_uri": "https://localhost:8080/"
        },
        "outputId": "d046bcf1-1f18-4ca8-9a58-291dea9e45cd"
      },
      "execution_count": null,
      "outputs": [
        {
          "output_type": "stream",
          "name": "stdout",
          "text": [
            "Conjunto 1 (1): 0\n",
            "Conjunto 1 (2): 1\n",
            "Conjunto 1 (3): 5\n",
            "Conjunto 1 (4): 9\n",
            "Conjunto 1 (5): 3\n",
            "Conjunto 1 (6): 6\n",
            "Conjunto 1 (7): 7\n",
            "Conjunto 1 (8): 2\n",
            "Conjunto 1 (9): 0\n",
            "Conjunto 1 (10): 3\n",
            "Conjunto 2 (1): 2\n",
            "\n",
            "Interseção: {'2'}\n",
            "União: {'7', '9', '6', '1', '2', '5', '0', '3'}\n",
            "Diferença (A - B): {'7', '9', '6', '1', '5', '0', '3'}\n",
            "Diferença (B - A): set()\n",
            "Conjunto 2 (2): 7\n",
            "\n",
            "Interseção: {'7', '2'}\n",
            "União: {'7', '9', '6', '1', '2', '5', '0', '3'}\n",
            "Diferença (A - B): {'9', '6', '5', '0', '3', '1'}\n",
            "Diferença (B - A): set()\n",
            "Conjunto 2 (3): 5\n",
            "\n",
            "Interseção: {'7', '2', '5'}\n",
            "União: {'7', '9', '6', '1', '2', '5', '0', '3'}\n",
            "Diferença (A - B): {'9', '6', '1', '0', '3'}\n",
            "Diferença (B - A): set()\n",
            "Conjunto 2 (4): 8\n",
            "\n",
            "Interseção: {'7', '2', '5'}\n",
            "União: {'7', '9', '6', '1', '2', '5', '0', '8', '3'}\n",
            "Diferença (A - B): {'9', '6', '1', '0', '3'}\n",
            "Diferença (B - A): {'8'}\n",
            "Conjunto 2 (5): 9\n",
            "\n",
            "Interseção: {'7', '2', '9', '5'}\n",
            "União: {'7', '9', '6', '1', '2', '5', '0', '8', '3'}\n",
            "Diferença (A - B): {'0', '6', '3', '1'}\n",
            "Diferença (B - A): {'8'}\n",
            "Conjunto 2 (6): 10\n",
            "\n",
            "Interseção: {'7', '2', '9', '5'}\n",
            "União: {'7', '9', '6', '10', '1', '2', '5', '0', '8', '3'}\n",
            "Diferença (A - B): {'0', '6', '3', '1'}\n",
            "Diferença (B - A): {'10', '8'}\n",
            "Conjunto 2 (7): 3\n",
            "\n",
            "Interseção: {'7', '9', '2', '5', '3'}\n",
            "União: {'7', '9', '6', '10', '1', '2', '5', '0', '8', '3'}\n",
            "Diferença (A - B): {'0', '6', '1'}\n",
            "Diferença (B - A): {'10', '8'}\n",
            "Conjunto 2 (8): 4\n",
            "\n",
            "Interseção: {'7', '9', '2', '5', '3'}\n",
            "União: {'7', '9', '6', '10', '4', '1', '2', '5', '0', '8', '3'}\n",
            "Diferença (A - B): {'0', '6', '1'}\n",
            "Diferença (B - A): {'8', '10', '4'}\n",
            "Conjunto 2 (9): 6\n",
            "\n",
            "Interseção: {'7', '9', '6', '2', '5', '3'}\n",
            "União: {'7', '9', '6', '10', '4', '1', '2', '5', '0', '8', '3'}\n",
            "Diferença (A - B): {'0', '1'}\n",
            "Diferença (B - A): {'8', '10', '4'}\n",
            "Conjunto 2 (10): 2\n",
            "\n",
            "Interseção: {'7', '9', '6', '2', '5', '3'}\n",
            "União: {'7', '9', '6', '10', '4', '1', '2', '5', '0', '8', '3'}\n",
            "Diferença (A - B): {'0', '1'}\n",
            "Diferença (B - A): {'8', '10', '4'}\n"
          ]
        }
      ]
    },
    {
      "cell_type": "code",
      "source": [
        "#20. Crie um conjunto com todas as letras usadas em uma frase digitada pelo usuário, excluindo espaços e pontuação.\n",
        "frase = input(\"Digite uma frase: \")\n",
        "letras = set()\n",
        "for letra in frase:\n",
        "    if letra.isalpha():\n",
        "        letras.add(letra.lower())\n",
        "print(\"Letras usadas na frase:\", letras)"
      ],
      "metadata": {
        "id": "aYSSSGEiwBeu",
        "colab": {
          "base_uri": "https://localhost:8080/"
        },
        "outputId": "668a44f9-2932-4799-8026-67124796219f"
      },
      "execution_count": null,
      "outputs": [
        {
          "output_type": "stream",
          "name": "stdout",
          "text": [
            "Digite uma frase: boa noite\n",
            "Letras usadas na frase: {'a', 'e', 'n', 'o', 'i', 'b', 't'}\n"
          ]
        }
      ]
    },
    {
      "cell_type": "code",
      "source": [
        "#21. Escreva um programa que armazene em um conjunto todos os números entre 1 e 100 que não são múltiplos de 2 nem de 3.\n",
        "numeros = set()\n",
        "for i in range(1, 101):\n",
        "    if i % 2 != 0 and i % 3 != 0:\n",
        "        numeros.add(i)\n",
        "print(\"Números não múltiplos de 2 nem de 3:\", numeros)\n"
      ],
      "metadata": {
        "id": "wclFo5L5wBlL",
        "colab": {
          "base_uri": "https://localhost:8080/"
        },
        "outputId": "ed11eec4-81b9-492b-ce0b-d93e636a0038"
      },
      "execution_count": null,
      "outputs": [
        {
          "output_type": "stream",
          "name": "stdout",
          "text": [
            "Números não múltiplos de 2 nem de 3: {1, 5, 7, 11, 13, 17, 19, 23, 25, 29, 31, 35, 37, 41, 43, 47, 49, 53, 55, 59, 61, 65, 67, 71, 73, 77, 79, 83, 85, 89, 91, 95, 97}\n"
          ]
        }
      ]
    },
    {
      "cell_type": "code",
      "source": [
        "#22. Solicite ao usuário que digite 10 palavras. Armazene em um conjunto todas as palavras distintas com mais de 5 letras.\n",
        "palavras = set()\n",
        "for i in range(10):\n",
        "    palavra = input(f\"Palavra {i+1}: \")\n",
        "    if len(palavra) > 5:\n",
        "        palavras.add(palavra)\n",
        "print(\"Palavras com mais de 5 letras distintas:\", palavras)\n"
      ],
      "metadata": {
        "id": "NOZhh6jswBr_",
        "colab": {
          "base_uri": "https://localhost:8080/"
        },
        "outputId": "c1eb596b-01b4-4bfc-dd02-43bfea76e39e"
      },
      "execution_count": null,
      "outputs": [
        {
          "output_type": "stream",
          "name": "stdout",
          "text": [
            "Palavra 1: pao\n",
            "Palavra 2: cafe\n",
            "Palavra 3: ovo\n",
            "Palavra 4: leite\n",
            "Palavra 5: doce\n",
            "Palavra 6: açucar\n",
            "Palavra 7: mel\n",
            "Palavra 8: colher\n",
            "Palavra 9: garfo\n",
            "Palavra 10: prato\n",
            "Palavras com mais de 5 letras distintas: {'colher', 'açucar'}\n"
          ]
        }
      ]
    },
    {
      "cell_type": "code",
      "source": [
        "#23. Leia dois conjuntos de inteiros. Verifique se um é subconjunto do outro.\n",
        "conjunto1 = set()\n",
        "conjunto2 = set()\n",
        "for i in range(10):\n",
        "    elemento = int(input(f\"Conjunto 1 ({i+1}): \"))\n",
        "    conjunto1.add(elemento)\n",
        "for i in range(10):\n",
        "    elemento = int(input(f\"Conjunto 2 ({i+1}): \"))\n",
        "    conjunto2.add(elemento)\n",
        "    if conjunto1.issubset(conjunto2):\n",
        "        print(\"Conjunto 1 é subconjunto de Conjunto 2\")\n",
        "    elif conjunto2.issubset(conjunto1):\n",
        "        print(\"Conjunto 2 é subconjunto de Conjunto 1\")\n",
        "    else:\n",
        "        print(\"Nenhum conjunto é subconjunto do outro\")\n"
      ],
      "metadata": {
        "colab": {
          "base_uri": "https://localhost:8080/"
        },
        "id": "uY10xfNcavHv",
        "outputId": "7d7bc3f4-5d9c-4c62-d6a0-40df44a18dd2"
      },
      "execution_count": null,
      "outputs": [
        {
          "output_type": "stream",
          "name": "stdout",
          "text": [
            "Conjunto 1 (1): 0\n",
            "Conjunto 1 (2): 1\n",
            "Conjunto 1 (3): 2\n",
            "Conjunto 1 (4): 3\n",
            "Conjunto 1 (5): 4\n",
            "Conjunto 1 (6): 5\n",
            "Conjunto 1 (7): 6\n",
            "Conjunto 1 (8): 7\n",
            "Conjunto 1 (9): 8\n",
            "Conjunto 1 (10): 9\n",
            "Conjunto 2 (1): 11\n",
            "Nenhum conjunto é subconjunto do outro\n",
            "Conjunto 2 (2): 12\n",
            "Nenhum conjunto é subconjunto do outro\n",
            "Conjunto 2 (3): 13\n",
            "Nenhum conjunto é subconjunto do outro\n",
            "Conjunto 2 (4): 5\n",
            "Nenhum conjunto é subconjunto do outro\n",
            "Conjunto 2 (5): 8\n",
            "Nenhum conjunto é subconjunto do outro\n",
            "Conjunto 2 (6): 6\n",
            "Nenhum conjunto é subconjunto do outro\n",
            "Conjunto 2 (7): 14\n",
            "Nenhum conjunto é subconjunto do outro\n",
            "Conjunto 2 (8): 15\n",
            "Nenhum conjunto é subconjunto do outro\n",
            "Conjunto 2 (9): 16\n",
            "Nenhum conjunto é subconjunto do outro\n",
            "Conjunto 2 (10): 17\n",
            "Nenhum conjunto é subconjunto do outro\n"
          ]
        }
      ]
    },
    {
      "cell_type": "code",
      "source": [
        "#24. Dado um conjunto de números inteiros, crie um novo conjunto com apenas os quadrados perfeitos encontrados.\n",
        "conjunto = set()\n",
        "for i in range(10):\n",
        "    numero = int(input(f\"Conjunto ({i+1}): \"))\n",
        "    conjunto.add(numero)\n",
        "    quadrados_perfeitos = set()\n",
        "for numero in conjunto:\n",
        "    raiz = int(numero ** 0.5)\n",
        "    if raiz * raiz == numero:\n",
        "        quadrados_perfeitos.add(numero)\n",
        "        print(\"Quadrados perfeitos:\", quadrados_perfeitos)"
      ],
      "metadata": {
        "colab": {
          "base_uri": "https://localhost:8080/"
        },
        "id": "KRCJ6sAAavSQ",
        "outputId": "ad8a811a-c47f-4d50-edbf-e9a6e91cf6a9"
      },
      "execution_count": null,
      "outputs": [
        {
          "output_type": "stream",
          "name": "stdout",
          "text": [
            "Conjunto (1): 10\n",
            "Conjunto (2): 11\n",
            "Conjunto (3): 12\n",
            "Conjunto (4): 13\n",
            "Conjunto (5): 14\n",
            "Conjunto (6): 15\n",
            "Conjunto (7): 16\n",
            "Conjunto (8): 17\n",
            "Conjunto (9): 18\n",
            "Conjunto (10): 19\n",
            "Quadrados perfeitos: {16}\n"
          ]
        }
      ]
    },
    {
      "cell_type": "code",
      "source": [
        "#25. Crie um dicionário que armazene o nome e o salário de 5 funcionários. Calcule o reajuste de 10% para salários inferiores a R$ 2.000 e atualize o dicionário.\n",
        "funcionarios = {\n",
        "    \"Ana\": 1800.00,\n",
        "    \"Bruno\": 2500.00,\n",
        "    \"Carlos\": 1700.00,\n",
        "    \"Daniela\": 2100.00,\n",
        "    \"Eduardo\": 1950.00\n",
        "}\n",
        "for nome in funcionarios:\n",
        "    if funcionarios[nome] < 2000:\n",
        "        funcionarios[nome] *= 1.10\n",
        "for nome, salario in funcionarios.items():\n",
        "    print(f\"{nome}: R$ {salario:.2f}\")"
      ],
      "metadata": {
        "id": "mFhztb8Pavbf",
        "colab": {
          "base_uri": "https://localhost:8080/"
        },
        "outputId": "596524fe-25c0-4bca-a70b-be444cb3c0f3"
      },
      "execution_count": null,
      "outputs": [
        {
          "output_type": "stream",
          "name": "stdout",
          "text": [
            "Ana: R$ 1980.00\n",
            "Bruno: R$ 2500.00\n",
            "Carlos: R$ 1870.00\n",
            "Daniela: R$ 2100.00\n",
            "Eduardo: R$ 2145.00\n"
          ]
        }
      ]
    },
    {
      "cell_type": "code",
      "source": [
        "#26. Faça um programa que armazene em um dicionário o nome de 5 alunos e uma lista com suas 3 notas. Depois, exiba o nome e a média de cada aluno\n",
        "alunos = {}\n",
        "for i in range(5):\n",
        "    nome = input(f\"Nome do aluno {i+1}: \")\n",
        "    notas = []\n",
        "    for j in range(3):\n",
        "        nota = float(input(f\"Nota {j+1}: \"))\n",
        "        notas.append(nota)\n",
        "    alunos[nome] = notas\n",
        "for nome, notas in alunos.items():\n",
        "    media = sum(notas) / len(notas)\n",
        "    print(f\"{nome}: Média = {media:.2f}\")\n",
        "    for j in range(3):\n",
        "        print(f\"{j+1}ª nota: {notas[j]}\")\n"
      ],
      "metadata": {
        "id": "SZbfu-isHuI7",
        "colab": {
          "base_uri": "https://localhost:8080/"
        },
        "outputId": "76c4bc81-2f4f-46aa-8ced-92112abbec3a"
      },
      "execution_count": null,
      "outputs": [
        {
          "output_type": "stream",
          "name": "stdout",
          "text": [
            "Nome do aluno 1: Rianny\n",
            "Nota 1: 5\n",
            "Nota 2: 8\n",
            "Nota 3: 6\n",
            "Nome do aluno 2: Braun\n",
            "Nota 1: 9\n",
            "Nota 2: 4\n",
            "Nota 3: 7\n",
            "Nome do aluno 3: Maffoletti\n",
            "Nota 1: 1\n",
            "Nota 2: 8\n",
            "Nota 3: 4\n",
            "Nome do aluno 4: Bernardo\n",
            "Nota 1: 7\n",
            "Nota 2: 4\n",
            "Nota 3: 1\n",
            "Nome do aluno 5: Wilson\n",
            "Nota 1: 9\n",
            "Nota 2: 6\n",
            "Nota 3: 3\n",
            "Rianny: Média = 6.33\n",
            "1ª nota: 5.0\n",
            "2ª nota: 8.0\n",
            "3ª nota: 6.0\n",
            "Braun: Média = 6.67\n",
            "1ª nota: 9.0\n",
            "2ª nota: 4.0\n",
            "3ª nota: 7.0\n",
            "Maffoletti: Média = 4.33\n",
            "1ª nota: 1.0\n",
            "2ª nota: 8.0\n",
            "3ª nota: 4.0\n",
            "Bernardo: Média = 4.00\n",
            "1ª nota: 7.0\n",
            "2ª nota: 4.0\n",
            "3ª nota: 1.0\n",
            "Wilson: Média = 6.00\n",
            "1ª nota: 9.0\n",
            "2ª nota: 6.0\n",
            "3ª nota: 3.0\n"
          ]
        }
      ]
    },
    {
      "cell_type": "code",
      "source": [
        "#27. Crie um dicionário que armazene palavras e seus sinônimos. Depois, permita que o usuário digite uma palavra e veja seus sinônimos (se existirem).\n",
        "sinonimos = {\n",
        "    \"feliz\": [\"contente\", \"alegre\", \"satisfeito\", \"radiante\"],\n",
        "    \"triste\": [\"melancólico\", \"abatido\", \"desanimado\", \"infeliz\"],\n",
        "    \"rápido\": [\"veloz\", \"ágil\", \"depressa\", \"ligeiro\"],\n",
        "    \"inteligente\": [\"esperto\", \"sagaz\", \"perspicaz\", \"genial\"],\n",
        "    \"bonito\": [\"belo\", \"lindo\", \"atraente\", \"encantador\"]\n",
        "}\n",
        "palavra = input(\"Digite uma palavra para ver seus sinônimos: \").strip().lower()\n",
        "if palavra in sinonimos:\n",
        "    print(f\"Sinônimos de '{palavra}': {', '.join(sinonimos[palavra])}\")\n",
        "else:\n",
        "    print(f\"Nenhum sinônimo encontrado para '{palavra}'.\")\n",
        ""
      ],
      "metadata": {
        "id": "3EwnDmngHuRI",
        "colab": {
          "base_uri": "https://localhost:8080/"
        },
        "outputId": "d91b9d10-cabd-4091-cd6e-ecd0229af31b"
      },
      "execution_count": 4,
      "outputs": [
        {
          "output_type": "stream",
          "name": "stdout",
          "text": [
            "Digite uma palavra para ver seus sinônimos: dançar\n",
            "Nenhum sinônimo encontrado para 'dançar'.\n"
          ]
        }
      ]
    },
    {
      "cell_type": "code",
      "source": [
        "#28. Solicite ao usuário 10 palavras e armazene em um dicionário onde a chave é a primeira letra e o valor é uma lista de palavras que começam com essa letra.\n",
        "palavras_dict = {}\n",
        "for i in range(10):\n",
        "    palavra = input(f\"Digite a palavra {i+1}: \").strip().lower()\n",
        "    primeira_letra = palavra[0]\n",
        "    if primeira_letra in palavras_dict:\n",
        "        palavras_dict[primeira_letra].append(palavra)\n",
        "    else:\n",
        "        palavras_dict[primeira_letra] = [palavra]\n",
        "print(\"\\nDicionário de palavras agrupadas pela primeira letra:\")\n",
        "for letra, lista in palavras_dict.items():\n",
        "    print(f\"{letra}: {lista}\")"
      ],
      "metadata": {
        "id": "O_of-7AoHuXe",
        "colab": {
          "base_uri": "https://localhost:8080/"
        },
        "outputId": "e47b08c2-bc32-4a13-acea-d8fe0e2f2885"
      },
      "execution_count": 1,
      "outputs": [
        {
          "output_type": "stream",
          "name": "stdout",
          "text": [
            "Digite a palavra 1: carregador\n",
            "Digite a palavra 2: ventilador\n",
            "Digite a palavra 3: bolsa\n",
            "Digite a palavra 4: mochila\n",
            "Digite a palavra 5: amor\n",
            "Digite a palavra 6: cabelo\n",
            "Digite a palavra 7: praia\n",
            "Digite a palavra 8: roupa\n",
            "Digite a palavra 9: sapato\n",
            "Digite a palavra 10: travesseiro\n",
            "\n",
            "Dicionário de palavras agrupadas pela primeira letra:\n",
            "c: ['carregador', 'cabelo']\n",
            "v: ['ventilador']\n",
            "b: ['bolsa']\n",
            "m: ['mochila']\n",
            "a: ['amor']\n",
            "p: ['praia']\n",
            "r: ['roupa']\n",
            "s: ['sapato']\n",
            "t: ['travesseiro']\n"
          ]
        }
      ]
    },
    {
      "cell_type": "code",
      "source": [
        "#29. Crie um dicionário onde as chaves são nomes de produtos e os valores são listas com preços praticados em três lojas diferentes. Encontre o produto com maior variação de preço.\n",
        "produtos = {}\n",
        "for i in range(3):\n",
        "    nome = input(f\"Nome do produto {i+1}: \")\n",
        "    precos = []\n",
        "    for j in range(3):\n",
        "        preco = float(input(f\"Preço na loja {j+1}: \"))\n",
        "        precos.append(preco)\n",
        "    produtos[nome] = precos\n",
        "maior_variacao = None\n",
        "produto_variacao = None\n",
        "for nome, precos in produtos.items():\n",
        "    variacao = max(precos) - min(precos)\n",
        "    if maior_variacao is None or variacao > maior_variacao:\n",
        "        maior_variacao = variacao\n",
        "        produto_variacao = nome\n",
        "print(f\"Produto com maior variação de preço: {produto_variacao}\")\n",
        "print(f\"Maior variação de preço: {maior_variacao}\")"
      ],
      "metadata": {
        "id": "zPTzjPVAHvXF",
        "colab": {
          "base_uri": "https://localhost:8080/"
        },
        "outputId": "18788047-4b9f-418b-d8e1-141c2d5c0976"
      },
      "execution_count": null,
      "outputs": [
        {
          "output_type": "stream",
          "name": "stdout",
          "text": [
            "Nome do produto 1: biscoito\n",
            "Preço na loja 1: 4\n",
            "Preço na loja 2: 6\n",
            "Preço na loja 3: 5\n",
            "Nome do produto 2: maça\n",
            "Preço na loja 1: 3\n",
            "Preço na loja 2: 1\n",
            "Preço na loja 3: 2\n",
            "Nome do produto 3: chocolate\n",
            "Preço na loja 1: 8\n",
            "Preço na loja 2: 6\n",
            "Preço na loja 3: 9\n",
            "Produto com maior variação de preço: chocolate\n",
            "Maior variação de preço: 3.0\n"
          ]
        }
      ]
    },
    {
      "cell_type": "code",
      "source": [
        "#30. Implemente um programa que leia uma frase e armazene em um dicionário o número de ocorrências de cada palavra (ignorando letras maiúsculas/minúsculas).\n",
        "frase = input(\"Digite uma frase: \")\n",
        "palavras = frase.split()\n",
        "ocorrencias = {}\n",
        "for palavra in palavras:\n",
        "    palavra = palavra.lower()\n",
        "    if palavra in ocorrencias:\n",
        "        ocorrencias[palavra] += 1\n",
        "    else:\n",
        "        ocorrencias[palavra] = 1\n",
        "for palavra, ocorrencia in ocorrencias.items():\n",
        "    print(f\"{palavra}: {ocorrencia}\")\n",
        "\n",
        "\n"
      ],
      "metadata": {
        "id": "mGjwqmg0HvfX",
        "colab": {
          "base_uri": "https://localhost:8080/"
        },
        "outputId": "b3185b63-a0b7-4c7c-f1aa-2ab0f094d1bc"
      },
      "execution_count": null,
      "outputs": [
        {
          "output_type": "stream",
          "name": "stdout",
          "text": [
            "Digite uma frase: Eu vou para Praia\n",
            "eu: 1\n",
            "vou: 1\n",
            "para: 1\n",
            "praia: 1\n"
          ]
        }
      ]
    }
  ]
}