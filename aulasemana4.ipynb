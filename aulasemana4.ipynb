{
  "nbformat": 4,
  "nbformat_minor": 0,
  "metadata": {
    "colab": {
      "provenance": [],
      "authorship_tag": "ABX9TyPwix8wKKH9smiPEyzYED9m",
      "include_colab_link": true
    },
    "kernelspec": {
      "name": "python3",
      "display_name": "Python 3"
    },
    "language_info": {
      "name": "python"
    }
  },
  "cells": [
    {
      "cell_type": "markdown",
      "metadata": {
        "id": "view-in-github",
        "colab_type": "text"
      },
      "source": [
        "<a href=\"https://colab.research.google.com/github/rybraun06/ALGESTDADOS_20251/blob/main/aulasemana4.ipynb\" target=\"_parent\"><img src=\"https://colab.research.google.com/assets/colab-badge.svg\" alt=\"Open In Colab\"/></a>"
      ]
    },
    {
      "cell_type": "code",
      "execution_count": null,
      "metadata": {
        "colab": {
          "base_uri": "https://localhost:8080/"
        },
        "id": "RtLJQyTcWGd9",
        "outputId": "c82f2aee-6e14-4d02-b039-fa526ac217c8"
      },
      "outputs": [
        {
          "output_type": "stream",
          "name": "stdout",
          "text": [
            "digite um numero: 10\n",
            "10 não é maior que 10.\n"
          ]
        }
      ],
      "source": [
        "# 1 - Peçaum número e informe se ele é maior que 10 . Crie um algoritmo em Pyton para fazer essa variação.\n",
        "numero = int(input( 'digite um numero: '))\n",
        "if numero > 10:\n",
        "  print(f'{numero} é maior que 10.')\n",
        "else:\n",
        "  print(f'{numero} não é maior que 10.')\n"
      ]
    },
    {
      "cell_type": "code",
      "source": [
        "# 2 Peça um número inteiro e informe se ele é par. Crie um algoritmo em Python que verifique se o número é divisível por 2.\n",
        "numero = int(input( 'digite um numero: '))\n",
        "if numero %2 == 0:\n",
        "  print(f'{numero} é par .')\n",
        "else:\n",
        "  print(f'{numero} é impar.')"
      ],
      "metadata": {
        "colab": {
          "base_uri": "https://localhost:8080/"
        },
        "id": "ZG1N3O7eZN9L",
        "outputId": "2d2997b3-decc-459a-b626-1a61dcad3a75"
      },
      "execution_count": null,
      "outputs": [
        {
          "output_type": "stream",
          "name": "stdout",
          "text": [
            "digite um numero: 8\n",
            "8 é par .\n"
          ]
        }
      ]
    },
    {
      "cell_type": "code",
      "source": [
        "# 3 Peça um nome e informe se ele contém a letra \"a\". Crie um algoritmo em Python que faça essa verificação.\n",
        "nome = input( 'digite um nome: ')\n",
        "if \"a\" in nome :\n",
        " print( 'contem a letra  a')\n",
        "else:\n",
        "   print('Nao tem a letra A')"
      ],
      "metadata": {
        "colab": {
          "base_uri": "https://localhost:8080/"
        },
        "id": "5wnppmSVavEq",
        "outputId": "cefa5ba8-6c3a-4010-eb70-fc1bcc6b0121"
      },
      "execution_count": null,
      "outputs": [
        {
          "output_type": "stream",
          "name": "stdout",
          "text": [
            "digite um nome: paralelepipedo\n",
            "contem a letra  a\n"
          ]
        }
      ]
    },
    {
      "cell_type": "code",
      "source": [
        "# 4 Peça um número e informe se ele é múltiplo de 5. Crie um algoritmo em Python que verifique se o número é divisível por 5.'\n",
        "numero = int(input( 'digite um numero: '))\n",
        "if numero % 5 == 0:\n",
        "  print(f'{numero} o numero é multiplo de 5.')\n",
        "else:\n",
        "  print(f'{numero} o numero nao é multiplo de 5 .')\n"
      ],
      "metadata": {
        "colab": {
          "base_uri": "https://localhost:8080/"
        },
        "id": "2U3BF4JYdxJl",
        "outputId": "13ea9b5e-8092-42f2-dde9-629dd9611bbe"
      },
      "execution_count": null,
      "outputs": [
        {
          "output_type": "stream",
          "name": "stdout",
          "text": [
            "digite um numero: 25\n",
            "25 o numero é multiplo de 5.\n"
          ]
        }
      ]
    },
    {
      "cell_type": "code",
      "source": [
        "# 5 Peça a temperatura atual e informe se está quente (acima de 30°C) ou frio (30°C ou menos). Crie um algoritmo em Python para essa verificação.\n",
        "temperatura = float(input( 'digite a temperatura : '))\n",
        "if temperatura > 30:\n",
        "   print('está quente (acima de 3O°).')\n",
        "else:\n",
        "  print('não está quente (abaixo de 30°).')"
      ],
      "metadata": {
        "colab": {
          "base_uri": "https://localhost:8080/"
        },
        "id": "-t4MWoCjgA7N",
        "outputId": "0e5931de-1633-4095-93f0-66cde5c4ffcc"
      },
      "execution_count": null,
      "outputs": [
        {
          "output_type": "stream",
          "name": "stdout",
          "text": [
            "digite a temperatura : 33\n",
            "está quente (acima de 3O°).\n"
          ]
        }
      ]
    },
    {
      "cell_type": "code",
      "source": [
        "# 6 Peça ao usuário para digitar \"S\" para continuar ou \"N\" para sair e informe a ação correspondente. Crie um algoritmo em Python que faça essa validação e exiba a mensagem correta.\n",
        "X = input ('deseja continuar a açao:' )\n",
        "X = X.upper()\n",
        "if X == 'S':\n",
        "  print('continuar a açao:')\n",
        "elif X == 'N':\n",
        " print('cancelar a açao:')\n",
        "else:\n",
        "   print('resposta inválida:')"
      ],
      "metadata": {
        "colab": {
          "base_uri": "https://localhost:8080/"
        },
        "id": "-bvLc-Lskhie",
        "outputId": "f355208d-0526-443a-ed54-7a921a0beff1"
      },
      "execution_count": null,
      "outputs": [
        {
          "output_type": "stream",
          "name": "stdout",
          "text": [
            "deseja continuar a açao:S\n",
            "continuar a açao:\n"
          ]
        }
      ]
    },
    {
      "cell_type": "code",
      "source": [
        "# 7 Peça um número e informe se ele é negativo, zero ou positivo. Crie um algoritmo em Python para classificar o número\n",
        "num = float(input('qual o numero'))\n",
        "if num > 0:\n",
        "  print('esse numero é postivo')\n",
        "elif num == 0:\n",
        "  print('esse numero é 0')\n",
        "else:\n",
        "  print('esse numero é negativo')"
      ],
      "metadata": {
        "id": "l1-beaQEntgD",
        "colab": {
          "base_uri": "https://localhost:8080/"
        },
        "outputId": "c5aab796-cdad-4b99-feda-3f33a36c0f71"
      },
      "execution_count": 1,
      "outputs": [
        {
          "output_type": "stream",
          "name": "stdout",
          "text": [
            "qual o numero6\n",
            "esse numero é postivo\n"
          ]
        }
      ]
    },
    {
      "cell_type": "code",
      "source": [
        "# 8 Peça um número de 1 a 7 e informe o dia da semana correspondente. Crie um algoritmo em Python que associe o número ao dia correto.\n",
        "ds= int(input('qual o dia da semana ( de 1  7)'))\n",
        "if ds == 1:\n",
        "  print('é domingo')\n",
        "elif ds == 2:\n",
        "  print( ' é segunda')\n",
        "elif ds == 3:\n",
        "  print( ' é  quarta ')\n",
        "elif ds == 4:\n",
        "  print ( 'é quinta' )\n",
        "elif ds == 5:\n",
        "  print ( 'é sexta' )\n",
        "elif ds == 6:\n",
        "  print (' é sabado')\n",
        "else:\n",
        "  print('numero invalido')"
      ],
      "metadata": {
        "colab": {
          "base_uri": "https://localhost:8080/"
        },
        "id": "AgI5vlN04iLN",
        "outputId": "e90d7b65-b745-4e45-8cde-6da76e5a73fc"
      },
      "execution_count": 2,
      "outputs": [
        {
          "output_type": "stream",
          "name": "stdout",
          "text": [
            "qual o dia da semana ( de 1  7)2\n",
            " é segunda\n"
          ]
        }
      ]
    },
    {
      "cell_type": "code",
      "source": [
        "# 9 Peça um ano e informe se ele é bissexto. Crie um algoritmo em Python que verifique se o ano é divisível por 4 e não por 100, exceto se também for divisível por 400.\n",
        "ano = int(input('qual o ano?'))\n",
        "if ano%4==0 and ano%100!=0 or ano%400 == 0:\n",
        "  print('ano é bissexto')\n",
        "else:\n",
        "  print ('ano não é bissexto')\n"
      ],
      "metadata": {
        "colab": {
          "base_uri": "https://localhost:8080/"
        },
        "id": "JfYWtfNm4ojy",
        "outputId": "4ba5274d-86c5-4581-c734-3d055c6b1486"
      },
      "execution_count": 13,
      "outputs": [
        {
          "output_type": "stream",
          "name": "stdout",
          "text": [
            "qual o ano?100\n",
            "ano não é bissexto\n"
          ]
        }
      ]
    },
    {
      "cell_type": "code",
      "source": [
        "# 10 Peça a quantidade de horas trabalhadas e o valor por hora. Se trabalhou até 40 horas, calcule o salário normalmente (horas × valor por hora). Se trabalhou mais de 40 horas, as horas extras devem ter um adicional de 50% (horas extras × valor por hora × 1.5). Crie um algoritmo em Python que realize esse cálculo corretamente.\n",
        "horas_trabalhadas = int(input('quantas horas trabalhadas: '))\n",
        "valor_hora = float(input('valor/hora: '))\n",
        "salario = horas_trabalhadas * valor_hora\n",
        "if horas_trabalhadas > 40 :\n",
        "  hora_extra = (horas_trabalhadas - 40)\n",
        "  salario = (40 * valor_hora) + (hora_extra * 1.5 * valor_hora)\n",
        "print(f'seu salario é: R$ {salario:.2f}')\n"
      ],
      "metadata": {
        "colab": {
          "base_uri": "https://localhost:8080/"
        },
        "id": "1siJt_KO42Jr",
        "outputId": "fb75684c-6665-466c-d82c-69d1a31439d5"
      },
      "execution_count": 24,
      "outputs": [
        {
          "output_type": "stream",
          "name": "stdout",
          "text": [
            "quantas horas trabalhadas: 41\n",
            "valor/hora: 10\n",
            "seu salario é: R$ 415.00\n"
          ]
        }
      ]
    }
  ]
}