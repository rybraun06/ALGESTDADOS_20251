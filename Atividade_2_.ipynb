{
  "nbformat": 4,
  "nbformat_minor": 0,
  "metadata": {
    "colab": {
      "provenance": [],
      "include_colab_link": true
    },
    "kernelspec": {
      "name": "python3",
      "display_name": "Python 3"
    },
    "language_info": {
      "name": "python"
    }
  },
  "cells": [
    {
      "cell_type": "markdown",
      "metadata": {
        "id": "view-in-github",
        "colab_type": "text"
      },
      "source": [
        "<a href=\"https://colab.research.google.com/github/rybraun06/ALGESTDADOS_20251/blob/main/Atividade_2_.ipynb\" target=\"_parent\"><img src=\"https://colab.research.google.com/assets/colab-badge.svg\" alt=\"Open In Colab\"/></a>"
      ]
    },
    {
      "cell_type": "markdown",
      "source": [
        "Atividade 2 - Estruturas Condicionais - Valor: 10 pontos / Marlon Prenholato de Jesus / Rianny Braun Maffioletti"
      ],
      "metadata": {
        "id": "RAnnVyiCK3NM"
      }
    },
    {
      "cell_type": "code",
      "source": [
        "#01 Crie um algoritmo que receba o horário (hora e minuto) de entrada e saída de um funcionário em um dia de trabalho.\n",
        "#Calcule o tempo total trabalhado em horas e minutos, considerando que ele teve uma pausa de 1h para almoço, e diga se ele cumpriu uma jornada de pelo menos 8h diárias.\n",
        "from datetime import datetime\n",
        "import math\n",
        "\n",
        "horário_correto= input('Digite o a hora de chegada no trabalho %H:%M: ')\n",
        "horário_real = input('Digite o a hora de saída do trabalho %H:%M: ')\n",
        "\n",
        "hora_corret= int(datetime.strptime(horário_correto, '%H:%M').hour)*60\n",
        "minuto_corret= (int(datetime.strptime(horário_correto, '%H:%M').minute))\n",
        "soma1=hora_corret+minuto_corret\n",
        "\n",
        "hora_real= int(datetime.strptime(horário_real, '%H:%M').hour)*60\n",
        "minuto_real= (int(datetime.strptime(horário_real, '%H:%M').minute))\n",
        "soma2=hora_real+minuto_real\n",
        "\n",
        "atraso= soma2-soma1\n",
        "if atraso>60 or atraso==60:\n",
        "  calc=atraso%60\n",
        "  print(f'Tempo de trabalho com horário de almoço: {math.floor(atraso/60)} horas e {calc} min')\n",
        "else:\n",
        "  print('Erro!')\n",
        "\n",
        "if ((atraso/60) - 1)>=8:\n",
        "  print(f'Cumpriu a jornada de trabalho, trabalhando {math.floor((atraso/60) - 1)} horas e {calc} min.')\n",
        "else:\n",
        "  print(f'NÂO umpriu a jornada de trabalho, tabalhando apenas {math.floor((atraso/60) - 1)} horas {calc} min.')"
      ],
      "metadata": {
        "colab": {
          "base_uri": "https://localhost:8080/"
        },
        "id": "3J9MH_IF9Ycs",
        "outputId": "ad7c5fde-58cd-4c35-8a50-a5bec7017750"
      },
      "execution_count": null,
      "outputs": [
        {
          "output_type": "stream",
          "name": "stdout",
          "text": [
            "Digite o a hora de chegada no trabalho %H:%M: 7:00\n",
            "Digite o a hora de saída do trabalho %H:%M: 18:48\n",
            "Tempo de trabalho com horário de almoço: 11 horas e 48 min\n",
            "Cumpriu a jornada de trabalho, trabalhando 10 horas e 48 min.\n"
          ]
        }
      ]
    },
    {
      "cell_type": "code",
      "source": [
        "#02 Crie um algoritmo que receba a data de nascimento (dia, mês e ano) de uma pessoa e a data atual, e diga com precisão sua idade em anos, meses e dias.\n",
        "#Use condicionais para lidar com casos em que o mês ou dia ainda não tenha sido atingido no ano corrente.\n",
        "\n",
        "dia_nasc = int(input('Dia de nascimento: '))\n",
        "mes_nasc = int(input('Mês de nascimento: '))\n",
        "ano_nasc = int(input('Ano de nascimento: '))\n",
        "\n",
        "dia_atual = int(input('Dia atual: '))\n",
        "mes_atual = int(input('Mês atual: '))\n",
        "ano_atual = int(input('Ano atual: '))\n",
        "\n",
        "anos = ano_atual - ano_nasc\n",
        "meses = mes_atual - mes_nasc\n",
        "dias = dia_atual - dia_nasc\n",
        "\n",
        "if dias < 0:\n",
        "  meses -= 1\n",
        "\n",
        "  dias_mes_anterior = [31, 28 + int((ano_atual % 4 == 0 and ano_atual % 100 != 0) or (ano_atual % 400 == 0)), 31, 30, 31, 30, 31, 31, 30, 31, 30, 31]\n",
        "  dias += dias_mes_anterior[mes_atual - 2] if mes_atual > 1 else dias_mes_anterior[11]\n",
        "\n",
        "if meses < 0:\n",
        "        anos -= 1\n",
        "        meses += 12\n",
        "else:\n",
        "  print()\n",
        "\n",
        "if meses!=0 and dias!=0:\n",
        "  print(f'Faltam: {11-(meses)} meses e {30-(dias)} dias')\n",
        "\n",
        "  if meses<(12-(meses)):\n",
        "    print(f'Já fez aniversário esse ano!!')\n",
        "\n",
        "  else:\n",
        "    print(f'Ainda vai fazer aniversário esse ano!!')\n",
        "\n",
        "else:\n",
        "  print('Erro!')\n",
        "\n",
        "print(f'Idade: {anos} anos, {meses} meses e {dias} dias')"
      ],
      "metadata": {
        "id": "IBk_cFJkLVr4",
        "colab": {
          "base_uri": "https://localhost:8080/"
        },
        "outputId": "91b30f18-bbd4-4933-bb77-7d7782165166"
      },
      "execution_count": null,
      "outputs": [
        {
          "output_type": "stream",
          "name": "stdout",
          "text": [
            "Dia de nascimento: 10\n",
            "Mês de nascimento: 06\n",
            "Ano de nascimento: 2005\n",
            "Dia atual: 7\n",
            "Mês atual: 5\n",
            "Ano atual: 2025\n",
            "Faltam: 1 meses e 3 dias\n",
            "Ainda vai fazer aniversário esse ano!\n",
            "Idade: 19 anos, 10 meses e 27 dias\n"
          ]
        }
      ]
    },
    {
      "cell_type": "code",
      "source": [
        "#03 Elabore um algoritmo que simule um monitor de qualidade do ar.\n",
        "#O usuário informará 3 valores de índice de poluentes de diferentes horários de um mesmo dia.\n",
        "#O programa deve calcular a média e classificar como \"bom\", \"moderado\", \"ruim\", \"muito ruim\" ou \"péssimo\", com base em faixas fornecidas pelo código.\n",
        "\n",
        "def classificar_qualidade_ar(media):\n",
        "    if 0 <= media <= 50:\n",
        "        return 'Bom'\n",
        "    elif 51 <= media <= 100:\n",
        "        return 'Moderado'\n",
        "    elif 101 <= media <= 150:\n",
        "        return 'Ruim'\n",
        "    elif 151 <= media <= 200:\n",
        "        return 'Muito Ruim'\n",
        "    else:\n",
        "        return 'Péssimo'\n",
        "\n",
        "print('Monitor de Qualidade do Ar')\n",
        "valores = []\n",
        "for i in range(1, 4):\n",
        "    valor = float(input(f'Digite o índice de poluentes do horário {i} (valor não negativo): '))\n",
        "    valores.append(valor)\n",
        "\n",
        "media = sum(valores) / len(valores)\n",
        "\n",
        "classificacao = classificar_qualidade_ar(media)\n",
        "\n",
        "print(f'Valores informados: {valores}')\n",
        "print(f'Média do índice de poluentes: {media:.2f}')\n",
        "print(f'Classificação da qualidade do ar: {classificacao}')"
      ],
      "metadata": {
        "id": "sSMDnvucLV7x",
        "colab": {
          "base_uri": "https://localhost:8080/"
        },
        "outputId": "4d959354-42d3-4507-b565-fba13a2bb184"
      },
      "execution_count": null,
      "outputs": [
        {
          "output_type": "stream",
          "name": "stdout",
          "text": [
            "Monitor de Qualidade do Ar\n",
            "Digite o índice de poluentes do horário 1 (valor não negativo): 30\n",
            "Digite o índice de poluentes do horário 2 (valor não negativo): 29\n",
            "Digite o índice de poluentes do horário 3 (valor não negativo): 50\n",
            "Valores informados: [30.0, 29.0, 50.0]\n",
            "Média do índice de poluentes: 36.33\n",
            "Classificação da qualidade do ar: Bom\n"
          ]
        }
      ]
    },
    {
      "cell_type": "code",
      "source": [
        "#04 Desenvolva um algoritmo que simule a geração de um extrato de abastecimento de combustível.\n",
        "#O usuário deve informar o valor em reais que abasteceu, o preço do litro e a quilometragem inicial e final da viagem.\n",
        "#Calcule quantos litros foram colocados e a média de km/l, informando se o carro teve desempenho bom (acima de 12 km/l), médio (8-12 km/l) ou ruim (abaixo de 8 km/l).\n",
        "\n",
        "valor_abast= float(input('Digite qual foi o valor do abastecimento: '))\n",
        "preço_l= float(input('Digite o preço do litro de combustível: '))\n",
        "km_inicial= float(input('Quilometragem inicial do carro: '))\n",
        "km_final= float(input('Quilometragem final do carro: '))\n",
        "\n",
        "litros=valor_abast/preço_l\n",
        "km_l= (km_final-km_inicial)/litros\n",
        "\n",
        "if km_l>12:\n",
        "  print(f'Foram colocados {litros:.2f} litros de combustível, o desempenho do carro foi bom e a média de km/l foi de {km_l:.0f}.')\n",
        "\n",
        "elif km_l>8:\n",
        "  print(f'Foram colocados {litros:.2f} litros de combustível, o desempenho do carro foi médio e a média de km/l foi de {km_l:.0f}.')\n",
        "\n",
        "else:\n",
        "  print(f'Foram colocados {litros:.2f} litros de combustível, o desempenho do carro foi ruim e a média de km/l foi de {km_l:.0f}.')"
      ],
      "metadata": {
        "colab": {
          "base_uri": "https://localhost:8080/"
        },
        "id": "sESRb9IeLWHw",
        "outputId": "7350c643-f3dc-4aa5-8fbc-3c2d2a474ecb"
      },
      "execution_count": null,
      "outputs": [
        {
          "output_type": "stream",
          "name": "stdout",
          "text": [
            "Digite qual foi o valor do abastecimento: 250\n",
            "Digite o preço do litro de combustível: 6.76\n",
            "Quilometragem inicial do carro: 50789\n",
            "Quilometragem final do carro: 51010\n",
            "Foram colocados 36.98 litros de combustível, o desempenho do carro foi ruim e a média de km/l foi de 6.\n"
          ]
        }
      ]
    },
    {
      "cell_type": "code",
      "source": [
        "#05 Crie um algoritmo que pergunte o nome e o tempo total (em minutos) gasto por uma pessoa em atividades físicas durante 7 dias.\n",
        "#Ao final, mostre a média diária, a soma total e diga se ela atingiu o mínimo recomendado de 150 minutos semanais.\n",
        "\n",
        "ativ1= input('Digite a atividade física diária: ')\n",
        "tempo_ativ1=int(input('Digite o tempo de atividade física diária: '))\n",
        "\n",
        "ativ2= input('Digite a atividade física diária: ')\n",
        "tempo_ativ2=int(input('Digite o tempo de atividade física diária: '))\n",
        "\n",
        "ativ3= input('Digite a atividade física diária: ')\n",
        "tempo_ativ3=int(input('Digite o tempo de atividade física diária: '))\n",
        "\n",
        "ativ4= input('Digite a atividade física diária: ')\n",
        "tempo_ativ4=int(input('Digite o tempo de atividade física diária: '))\n",
        "\n",
        "ativ5= input('Digite a atividade física diária: ')\n",
        "tempo_ativ5=int(input('Digite o tempo de atividade física diária: '))\n",
        "\n",
        "ativ6= input('Digite a atividade física diária: ')\n",
        "tempo_ativ6=int(input('Digite o tempo de atividade física diária: '))\n",
        "\n",
        "ativ7= input('Digite a atividade física diária: ')\n",
        "\n",
        "tempo_ativ7=int(input('Digite o tempo de atividade física diária: '))\n",
        "\n",
        "lista= [ativ1,ativ2,ativ3,ativ4,ativ5,ativ6,ativ7]\n",
        "soma= tempo_ativ1+tempo_ativ2+tempo_ativ3+tempo_ativ4+tempo_ativ5+tempo_ativ6+tempo_ativ7\n",
        "print(f'tempo total foi de: {soma} min')\n",
        "\n",
        "print(f'A média diária foi de: {(soma/3):.0f} min')\n",
        "\n",
        "print(f'A tividades da semana: {lista}')\n",
        "\n",
        "if soma>=150:\n",
        "  print('Atingiu o tempo mínimo recomendade de tempo de atividade físicas semanais.')\n",
        "\n",
        "else:\n",
        "  print('Não tingiu o tempo mínimo recomendade de tempo de atividade físicas semanais.')\n"
      ],
      "metadata": {
        "id": "a-WA3lCyLWSj",
        "colab": {
          "base_uri": "https://localhost:8080/"
        },
        "outputId": "46696324-4b0e-4e74-9631-77b089c59252"
      },
      "execution_count": null,
      "outputs": [
        {
          "output_type": "stream",
          "name": "stdout",
          "text": [
            "Digite a atividade física diária: gsghs\n",
            "Digite o tempo de atividade física diária: 20\n",
            "Digite a atividade física diária: gsg\n",
            "Digite o tempo de atividade física diária: 64\n",
            "Digite a atividade física diária: xfgbz\n",
            "Digite o tempo de atividade física diária: 67\n",
            "Digite a atividade física diária: zfgbazf\n",
            "Digite o tempo de atividade física diária: 33\n",
            "Digite a atividade física diária: zfbz\n",
            "Digite o tempo de atividade física diária: 60\n",
            "Digite a atividade física diária: argarg\n",
            "Digite o tempo de atividade física diária: 40\n",
            "Digite a atividade física diária: dfgDFG\n",
            "Digite o tempo de atividade física diária: 30\n",
            "tempo total foi de: 314 min\n",
            "A média diária foi de: 105 min\n",
            "A tividades da semana: ['gsghs', 'gsg', 'xfgbz', 'zfgbazf', 'zfbz', 'argarg', 'dfgDFG']\n",
            "Atingiu o tempo mínimo recomendade de tempo de atividade físicas semanais.\n"
          ]
        }
      ]
    },
    {
      "cell_type": "code",
      "source": [
        "#06 Desenvolva um algoritmo que simule o acompanhamento de consumo de água em uma residência. O usuário informará o valor do hidrômetro no início e no fim do mês.\n",
        "#O sistema calculará o total consumido e o valor a pagar, seguindo uma tabela de faixas de consumo (ex: até 10 m³, tarifa fixa; de 11 a 20, valor extra por m³; acima de 20, tarifa mais alta).\n",
        "\n",
        "hidro_inicio= float(input('Digite qual foi o valor hidrômetro no ínicio do mês: '))\n",
        "hidro_fim= float(input('Digite qual foi o valor hidrômetro no final do mês: '))\n",
        "\n",
        "consumo= hidro_fim-hidro_inicio\n",
        "\n",
        "#Tarifas\n",
        "tarifa1= 3.5\n",
        "tarifa2= tarifa1+1.25\n",
        "tarifa3= tarifa2+2.65\n",
        "\n",
        "if consumo<=10:\n",
        "  print(f'O valor da tarifa é R${consumo*tarifa1:.2f}.')\n",
        "\n",
        "elif consumo<=20:\n",
        "  print(f'O valor da tarifa é R${consumo*tarifa2:.2f}.')\n",
        "\n",
        "else:\n",
        "  print(f'O valor da tarifa é R${consumo*tarifa3:.2f}.')\n"
      ],
      "metadata": {
        "id": "HtIhu3ptLWkc",
        "colab": {
          "base_uri": "https://localhost:8080/"
        },
        "outputId": "872471cd-3cb7-4def-ae06-5ddfe1b007d3"
      },
      "execution_count": null,
      "outputs": [
        {
          "output_type": "stream",
          "name": "stdout",
          "text": [
            "Digite qual foi o valor hidrômetro no ínicio do mês: 40\n",
            "Digite qual foi o valor hidrômetro no final do mês: 107\n",
            "O valor da tarifa é R$495.80.\n"
          ]
        }
      ]
    },
    {
      "cell_type": "code",
      "source": [
        "#07 Elabore um algoritmo que simule a pontualidade de voos. Receba o horário previsto e o horário real de chegada (hora e minuto).\n",
        "#Informe o tempo de atraso ou adiantamento e classifique o voo como “pontual” (diferença ≤ 5 min), “ligeiramente atrasado/adiantado” (até 30 min) ou “muito atrasado/adiantado” (> 30 min).\n",
        "from datetime import datetime\n",
        "import math\n",
        "\n",
        "horário_correto= input('Digite o a hora prevista de chegada %H:%M: ')\n",
        "horário_real = input('Digite o a hora real de chegada %H:%M: ')\n",
        "\n",
        "hora_corret= int(datetime.strptime(horário_correto, '%H:%M').hour)*60\n",
        "minuto_corret= (int(datetime.strptime(horário_correto, '%H:%M').minute))\n",
        "soma1=hora_corret+minuto_corret\n",
        "\n",
        "hora_real= int(datetime.strptime(horário_real, '%H:%M').hour)*60\n",
        "minuto_real= (int(datetime.strptime(horário_real, '%H:%M').minute))\n",
        "soma2=hora_real+minuto_real\n",
        "\n",
        "atraso= soma2-soma1\n",
        "print(f'{atraso} min')\n",
        "if atraso>60 or atraso==60:\n",
        "  calc=atraso%60\n",
        "  print(f'{math.floor(atraso/60)} horas e {calc} min')\n",
        "else:\n",
        "  print('Erro!')\n",
        "\n",
        "if atraso<= 5 and atraso>=-5:\n",
        "  print(f'Pontual.')\n",
        "\n",
        "elif -30<=atraso<-5:\n",
        "  print(f'Ligeiramente adiantado.')\n",
        "\n",
        "elif 5<atraso<30:\n",
        "  print(f'Ligeiramente atrasado.')\n",
        "\n",
        "elif atraso<-30:\n",
        "  print(f'Muito adiantado.')\n",
        "\n",
        "else:\n",
        "  print(f'muito atrasado.')\n"
      ],
      "metadata": {
        "id": "jT6w-Vz9LWx6",
        "colab": {
          "base_uri": "https://localhost:8080/"
        },
        "outputId": "d9ff9229-3dfa-4feb-b528-1b9027b6a583"
      },
      "execution_count": null,
      "outputs": [
        {
          "output_type": "stream",
          "name": "stdout",
          "text": [
            "Digite o a hora prevista de chegada %H:%M: 12:00\n",
            "Digite o a hora real de chegada %H:%M: 13:06\n",
            "66 min\n",
            "1 horas e 6 min\n",
            "muito atrasado.\n"
          ]
        }
      ]
    },
    {
      "cell_type": "code",
      "source": [
        "#08 Crie um algoritmo que simule o cálculo de tempo total de tela (TV, celular, computador). Para cada dispositivo, o usuário informa quanto tempo usou por dia (em horas e minutos) por 3 dias.\n",
        "#O sistema deve apresentar o tempo total em horas e minutos, destacando o aparelho com maior uso e emitindo um alerta caso o total passe de 10 horas diárias.\n",
        "from datetime import datetime\n",
        "import math\n",
        "\n",
        "#Primeiro dia:\n",
        "ttt1= input('Digite quanto tempo de tela do 1º dia na TV %H:%M: ')\n",
        "ttt0= int(datetime.strptime(ttt1, '%H:%M').hour)*60\n",
        "ttt01= (int(datetime.strptime(ttt1, '%H:%M').minute))\n",
        "ttt10= ttt0+ttt01\n",
        "\n",
        "ttc1= input('Digite quanto tempo de tela do 1º dia no celular %H:%M: ')\n",
        "ttc0= int(datetime.strptime(ttc1, '%H:%M').hour)*60\n",
        "ttc01= (int(datetime.strptime(ttc1, '%H:%M').minute))\n",
        "ttc10= ttc0+ttc01\n",
        "\n",
        "ttcom1= input('Digite quanto tempo de tela do 1º dia no computador %H:%M: ')\n",
        "ttcom0= int(datetime.strptime(ttcom1, '%H:%M').hour)*60\n",
        "ttcom01= (int(datetime.strptime(ttcom1, '%H:%M').minute))\n",
        "ttcom10= ttcom0+ttcom01\n",
        "\n",
        "#Segundo dia:\n",
        "ttt2= input('Digite quanto tempo de tela do 2º dia na TV %H:%M: ')\n",
        "ttt00= int(datetime.strptime(ttt2, '%H:%M').hour)*60\n",
        "ttt02= (int(datetime.strptime(ttt2, '%H:%M').minute))\n",
        "ttt20= ttt00+ttt02\n",
        "\n",
        "ttc2= input('Digite quanto tempo de tela do 2º dia no celular %H:%M: ')\n",
        "ttc00= int(datetime.strptime(ttc2, '%H:%M').hour)*60\n",
        "ttc02= (int(datetime.strptime(ttc2, '%H:%M').minute))\n",
        "ttc20= ttc00+ttc02\n",
        "\n",
        "ttcom2= input('Digite quanto tempo de tela do 2º dia no computador %H:%M: ')\n",
        "ttcom00= int(datetime.strptime(ttcom2, '%H:%M').hour)*60\n",
        "ttcom02= (int(datetime.strptime(ttcom2, '%H:%M').minute))\n",
        "ttcom20= ttcom00+ttcom02\n",
        "\n",
        "#Terceiro dia:\n",
        "ttt3= input('Digite quanto tempo de tela do 3º dia na TV %H:%M: ')\n",
        "ttt000= int(datetime.strptime(ttt3, '%H:%M').hour)*60\n",
        "ttt03= (int(datetime.strptime(ttt3, '%H:%M').minute))\n",
        "ttt30= ttt000+ttt03\n",
        "\n",
        "ttc3= input('Digite quanto tempo de tela do 3º dia no celular %H:%M: ')\n",
        "ttc000= int(datetime.strptime(ttc3, '%H:%M').hour)*60\n",
        "ttc03= (int(datetime.strptime(ttc3, '%H:%M').minute))\n",
        "ttc30= ttc000+ttc03\n",
        "\n",
        "ttcom3= input('Digite quanto tempo de tela do 3º dia no computador %H:%M: ')\n",
        "ttcom000= int(datetime.strptime(ttcom3, '%H:%M').hour)*60\n",
        "ttcom03= (int(datetime.strptime(ttcom3, '%H:%M').minute))\n",
        "ttcom30= ttcom000+ttcom03\n",
        "\n",
        "ttt_total = ttt10 + ttt20+ttt30\n",
        "ttc_total= ttc10+ttc20+ttc30\n",
        "ttcom_total= ttcom10+ttcom20+ttcom30\n",
        "\n",
        "tt_diario=(ttt_total+ttc_total+ttcom_total)/3\n",
        "\n",
        "\n",
        "if tt_diario>60 or tt_diario==60:\n",
        "  calc=tt_diario%60\n",
        "  print(f'Tempo de tela diário é de: {math.floor(tt_diario/60)} horas e {calc:.0f} min')\n",
        "else:\n",
        "  print('Erro!')\n",
        "\n",
        "\n",
        "if ttt_total>ttc_total and ttt_total>ttcom_total:\n",
        "  print(f'O aparelho com mais tempo de tela foi a TV.')\n",
        "\n",
        "elif ttc_total>ttt_total and ttc_total>ttcom_total:\n",
        "  print(f'O aparelho com mais tempo de tela foi o celular.')\n",
        "\n",
        "else:\n",
        "  print(f'O aparelho com mais tempo de tela foi o computador.')\n",
        "\n",
        "\n",
        "if (tt_diario/60) >10:\n",
        "  print(f'CUIDADO, ESTÁ A TEMPO DEMAIS NAS TELAS.')\n",
        "else:\n",
        "  print('Erro!')"
      ],
      "metadata": {
        "id": "XRvWWpKFLW-U",
        "colab": {
          "base_uri": "https://localhost:8080/"
        },
        "outputId": "bc6c1ae6-1169-427e-b8cd-ed6026e4f945"
      },
      "execution_count": null,
      "outputs": [
        {
          "output_type": "stream",
          "name": "stdout",
          "text": [
            "Digite quanto tempo de tela do 1º dia na TV %H:%M: 1:00\n",
            "Digite quanto tempo de tela do 1º dia no celular %H:%M: 1:00\n",
            "Digite quanto tempo de tela do 1º dia no computador %H:%M: 1:10\n",
            "Digite quanto tempo de tela do 2º dia na TV %H:%M: 1:20\n",
            "Digite quanto tempo de tela do 2º dia no celular %H:%M: 2:00\n",
            "Digite quanto tempo de tela do 2º dia no computador %H:%M: 2:00\n",
            "Digite quanto tempo de tela do 3º dia na TV %H:%M: 2:00\n",
            "Digite quanto tempo de tela do 3º dia no celular %H:%M: 2:00\n",
            "Digite quanto tempo de tela do 3º dia no computador %H:%M: 2:00\n",
            "Tempo de tela diário é de: 4 horas e 50 min\n",
            "O aparelho com mais tempo de tela foi o computador.\n",
            "\n"
          ]
        }
      ]
    },
    {
      "cell_type": "code",
      "source": [
        "#09 Elabore um algoritmo que simule o rendimento de um plantio de hortaliças. Receba a área (em m²), o tipo da planta (cenoura, alface ou couve) e o rendimento médio por m².\n",
        "#Calcule a produção esperada e diga se será suficiente para abastecer um mercado local (mínimo de 100 kg).\n",
        "\n",
        "# Entrada de dados\n",
        "area = float(input('Digite a área do plantio (em m²): '))\n",
        "tipo_planta = input('Digite o tipo da planta (cenoura, alface ou couve): ').lower()\n",
        "rendimento_por_m2 = float(input('Digite o rendimento médio por m² (em kg/m²): '))\n",
        "\n",
        "# Validação do tipo de planta\n",
        "plantas_validas = ['cenoura', 'alface', 'couve']\n",
        "if tipo_planta not in plantas_validas:\n",
        "    print('Erro: Tipo de planta inválido! Escolha entre cenoura, alface ou couve.')\n",
        "else:\n",
        "    # Cálculo da produção\n",
        "    #producao, suficiente = calcular_producao(area, tipo_planta, rendimento_por_m2)\n",
        "    producao = area * rendimento_por_m2\n",
        "    # Exibindo resultados\n",
        "    print(f'Resultados para o plantio de {tipo_planta}: ')\n",
        "    print(f'Área plantada: {area:.2f} m²')\n",
        "    print(f'Rendimento médio: {rendimento_por_m2:.2f} kg/m²')\n",
        "    print(f'Produção esperada: {producao:.2f} kg')\n",
        "\n",
        "    if producao >= 100:\n",
        "        print('A produção é suficiente para abastecer o mercado local (mínimo de 100 kg).')\n",
        "    else:\n",
        "        print('A produção NÃO é suficiente para abastecer o mercado local (mínimo de 100 kg).')"
      ],
      "metadata": {
        "id": "Yg3L6Zh8LXMK",
        "colab": {
          "base_uri": "https://localhost:8080/"
        },
        "outputId": "06d85ff6-9349-4e22-b657-f35348b15f70"
      },
      "execution_count": null,
      "outputs": [
        {
          "output_type": "stream",
          "name": "stdout",
          "text": [
            "Digite a área do plantio (em m²): 60\n",
            "Digite o tipo da planta (cenoura, alface ou couve): couve\n",
            "Digite o rendimento médio por m² (em kg/m²): 4\n",
            "Resultados para o plantio de couve: \n",
            "Área plantada: 60.00 m²\n",
            "Rendimento médio: 4.00 kg/m²\n",
            "Produção esperada: 240.00 kg\n",
            "A produção é suficiente para abastecer o mercado local (mínimo de 100 kg).\n"
          ]
        }
      ]
    },
    {
      "cell_type": "code",
      "source": [
        "#10 Crie um algoritmo que simule um plano de leitura.\n",
        "#O usuário informa a quantidade de páginas de um livro, o tempo diário disponível para leitura (em minutos) e a velocidade média de leitura (páginas por minuto).\n",
        "#O programa deve estimar quantos dias ele levará para terminar e sugerir um cronograma diário.\n",
        "from datetime import datetime\n",
        "import math\n",
        "\n",
        "quant_pg_livro= int(input('Digite a qunatidade de páginas de uma livro: '))\n",
        "\n",
        "tempo_d= input('Digite o tempo diponível para leitura %H:%M: ')\n",
        "th= int(datetime.strptime(tempo_d, '%H:%M').hour)*60\n",
        "tmin= (int(datetime.strptime(tempo_d, '%H:%M').minute))\n",
        "td_total= th+tmin\n",
        "\n",
        "vel= int(input('Digite velocidade média de leitura (páginas por minuto): '))\n",
        "\n",
        "x = (quant_pg_livro) / (vel)\n",
        "\n",
        "dias_p_ler= x / td_total\n",
        "\n",
        "\n",
        "if dias_p_ler<1:\n",
        "  print(f'É necessário {x%td_total} min para ler o livro de {quant_pg_livro} páginas.')\n",
        "\n",
        "else:\n",
        "  print(f'É necessário {math.floor(dias_p_ler)} dias e {x%td_total} min para ler um livro de {quant_pg_livro} páginas.')\n"
      ],
      "metadata": {
        "id": "G5rsDDt7LXZ4",
        "colab": {
          "base_uri": "https://localhost:8080/"
        },
        "outputId": "97cfb490-f483-4a2a-da59-16074eea1b2d"
      },
      "execution_count": null,
      "outputs": [
        {
          "output_type": "stream",
          "name": "stdout",
          "text": [
            "Digite a qunatidade de páginas de uma livro: 950\n",
            "Digite o tempo diponível para leitura %H:%M: 0:15\n",
            "Digite velocidade média de leitura (páginas por minuto): 1\n",
            "É necessário 63 dias e 5.0 min para ler um livro de 950 páginas.\n"
          ]
        }
      ]
    },
    {
      "cell_type": "code",
      "source": [
        "#11 Desenvolva um algoritmo que simule o tempo de espera em uma fila de atendimento.\n",
        "#O usuário informa o número de pessoas na frente e o tempo médio de atendimento por pessoa.\n",
        "#O programa deve exibir o tempo total estimado de espera em horas e minutos e indicar se é melhor voltar depois.\n",
        "import math\n",
        "\n",
        "pessoas= int(input('Digite quantas pessoas tem na fila: '))\n",
        "temp_m= int(input('Digite o tempo de atendimento por pessoa (em minutos): '))\n",
        "\n",
        "tempo_total= pessoas*temp_m\n",
        "\n",
        "#Voltar depois, tempo de fila > 60 min\n",
        "\n",
        "if tempo_total>60:\n",
        "  calc=tempo_total%60\n",
        "  calch= tempo_total/60\n",
        "  print(f'O tempo estimado de espera é de {math.floor(calch)} horas e {calc} min.')\n",
        "  print('Volte depois!')\n",
        "\n",
        "else:\n",
        "  print(f'O tempo estimado de espera é de {tempo_total} min.')"
      ],
      "metadata": {
        "colab": {
          "base_uri": "https://localhost:8080/"
        },
        "id": "mH50dFhVIIlj",
        "outputId": "4a4d4cb9-4eb1-44ba-e11e-affc0b1c4877"
      },
      "execution_count": null,
      "outputs": [
        {
          "output_type": "stream",
          "name": "stdout",
          "text": [
            "Digite quantas pessoas tem na fila: 11\n",
            "Digite o tempo de atendimento por pessoa (em minutos): 3\n",
            "O tempo estimado de espera é de 33 min.\n"
          ]
        }
      ]
    },
    {
      "cell_type": "code",
      "source": [
        "#12 Elabore um algoritmo que ajude no controle de validade de alimentos.\n",
        "#O usuário informa a data de fabricação e a validade (em dias).\n",
        "#O programa calcula quantos dias faltam para vencer e emite alertas em cores (texto) se estiver perto de vencer (menos de 5 dias) ou já vencido.\n",
        "from datetime import datetime\n",
        "\n",
        "data_f= input('Digite a data de fabricação (dd/mm/aaaa):  ')\n",
        "data_fa= datetime.strptime(data_f, '%d/%m/%Y').date()\n",
        "data_v=int(input('Digite a data de validade (em dias): '))\n",
        "\n",
        "\n",
        "calc= (date.today() - data_fa).days\n",
        "\n",
        "x=calc-data_v\n",
        "\n",
        "if x>=0:\n",
        "  print('ALERTA VERMELHO!!!')\n",
        "  print(f'O produto está vencido há {x} dias.')\n",
        "\n",
        "elif x >-5:\n",
        "  print('ALERTA AMARELO!!!')\n",
        "  print(f'O produto está perto de vencer, possui {x*(-1)} dias.')\n",
        "\n",
        "else:\n",
        "  print('ALERTA VERDE!!!')\n",
        "  print(f'O produto está com a validade boa ainda, com {x*(-1)} dias.')\n",
        "\n"
      ],
      "metadata": {
        "colab": {
          "base_uri": "https://localhost:8080/"
        },
        "id": "3vkfLjn5IIzF",
        "outputId": "0d0abe4c-4f35-4354-b64d-50d044f61ab4"
      },
      "execution_count": null,
      "outputs": [
        {
          "output_type": "stream",
          "name": "stdout",
          "text": [
            "Digite a data de fabricação (dd/mm/aaaa):  02/04/2025\n",
            "Digite a data de validade (em dias): 60\n",
            "ALERTA VERDE!!!\n",
            "O produto está com a validade boa ainda, com 30 dias.\n"
          ]
        }
      ]
    },
    {
      "cell_type": "code",
      "source": [
        "#13 Crie um algoritmo que receba a data atual e a data de um evento (em qualquer ano) e informe quantos dias faltam.\n",
        "#O programa deve considerar se o evento está no mesmo ano, em um ano futuro ou se já passou.\n",
        "from datetime import datetime, date\n",
        "\n",
        "data_event = input('Digite quando será o evento (DD/MM/YYYY):')\n",
        "data_event_De = datetime.strptime(data_event, '%d/%m/%Y') . date()\n",
        "calc = (data_event_De - date.today()).days\n",
        "\n",
        "if calc < -1:\n",
        "  print(f'Este evento já passou!!')\n",
        "\n",
        "elif calc < 365:\n",
        "  print(f'O evento ainda será este ano, faltam {calc} dias para o evento.')\n",
        "\n",
        "elif (calc/365) > 1:\n",
        "  print(f'O evento ainda será daqui {calc/365:.0f} anos, faltam {calc} dias para o evento.')\n",
        "\n",
        "else:\n",
        "  print('Erro!')\n"
      ],
      "metadata": {
        "colab": {
          "base_uri": "https://localhost:8080/"
        },
        "id": "QOA8FHWNIJKs",
        "outputId": "4c35c139-37ad-4c4c-d55d-70932693033b"
      },
      "execution_count": null,
      "outputs": [
        {
          "output_type": "stream",
          "name": "stdout",
          "text": [
            "digite quando será o evento (DD/MM/YYYY):14/12/2024\n",
            "Este evento já passou!!\n"
          ]
        }
      ]
    },
    {
      "cell_type": "code",
      "source": [
        "#14 Desenvolva um algoritmo que ajude a controlar o tempo de tela de crianças.\n",
        "#O usuário deve informar a idade da criança e o tempo de uso de dispositivos eletrônicos.\n",
        "#Com base na recomendação da OMS para cada faixa etária, diga se o uso está adequado ou exagerado.\n",
        "\n",
        "#Recomendação da OMS:\n",
        "# Menos de 2 anos, nenhum tempo de tela\n",
        "# 2 a 5 anos, máximo de 1 hora por dia\n",
        "# 6 a 10 anos, máximo de 2 horas por dia\n",
        "\n",
        "import math\n",
        "\n",
        "idade= int(input('Digite a idade da criança: '))\n",
        "temp_tela= int(input('Digite o tempo de tela da criança (em minutos): '))\n",
        "\n",
        "calc_h= temp_tela/60\n",
        "calc_min= temp_tela%60\n",
        "\n",
        "if idade<2:\n",
        "  if temp_tela==0:\n",
        "    print(f'Uso adequado, pois a idade da criaça não permite uso de tela de acordo a OMS.')\n",
        "  else:\n",
        "    print(f'Uso inadequado, pois a idade da criaça não permite uso de tela de acordo a OMS.')\n",
        "\n",
        "elif idade<5:\n",
        "  if calc_h<=1:\n",
        "    print(f'Uso adequado de tela de acordo a OMS para a idade da criança.')\n",
        "    print(f'Uso de tela de {math.floor(calc_h)} horas e {calc_min} minutos.')\n",
        "  else:\n",
        "    print(f'Uso exagerado de tela de acordo a OMS para a idade da criança.')\n",
        "    print(f'Uso de tela de {math.floor(calc_h)} horas e {calc_min} minutos.')\n",
        "\n",
        "elif idade<10:\n",
        "  if calc_h<=2:\n",
        "    print(f'Uso adequado de tela de acordo a OMS para a idade da criança.')\n",
        "    print(f'Uso de tela de {math.floor(calc_h)} horas e {calc_min} minutos.')\n",
        "  else:\n",
        "    print(f'Uso exagerado de tela de acordo a OMS para a idade da criança.')\n",
        "    print(f'Uso de tela de {math.floor(calc_h)} horas e {calc_min} minutos.')\n",
        "\n",
        "else:\n",
        "  print('Erro!')\n"
      ],
      "metadata": {
        "id": "hQ-znSDMIeBX",
        "colab": {
          "base_uri": "https://localhost:8080/"
        },
        "outputId": "dc89b18f-94d3-4313-f6a6-a1aa02f105b8"
      },
      "execution_count": null,
      "outputs": [
        {
          "output_type": "stream",
          "name": "stdout",
          "text": [
            "Digite a idade da criança: 4\n",
            "Digite o tempo de tela da criança (em minutos): 128\n",
            "Uso exagerado de tela de acordo a OMS para a idade da criança.\n",
            "Uso de tela de 2:8 horas.\n"
          ]
        }
      ]
    },
    {
      "cell_type": "code",
      "source": [
        "#15 Elabore um algoritmo que calcule o tempo exato de um voo com escalas.\n",
        "#O usuário informa o horário de saída, o tempo de voo e o tempo total de espera em escalas.\n",
        "#O sistema deve calcular o horário final de chegada e a duração total da viagem.\n",
        "\n",
        "from datetime import datetime, timedelta\n",
        "\n",
        "hora_sai = input('Digite a hora de saída da viagem HH:MM: ')\n",
        "temp_voo = int(input('Digite o tempo de voo (em minutos): '))\n",
        "temp_espera = int(input('Digite o tempo de espera em escalas (em minutos): '))\n",
        "\n",
        "hora_sai = datetime.strptime(hora_sai, '%H:%M')\n",
        "temp_viagem = timedelta(minutes=temp_voo + temp_espera)\n",
        "temp_viagem_h = (temp_voo + temp_espera) // 60\n",
        "temp_viagem_min = (temp_voo + temp_espera) % 60\n",
        "\n",
        "hora_chegada = hora_sai + temp_viagem\n",
        "\n",
        "print(f'O tempo de viagem é de {temp_viagem_h} horas e {temp_viagem_min} minutos')\n",
        "print(f'O horário de chegada é {hora_chegada.strftime(\"%H:%M\")}.')\n"
      ],
      "metadata": {
        "id": "HMLhShqNIeVF",
        "colab": {
          "base_uri": "https://localhost:8080/"
        },
        "outputId": "0742562d-a99e-4341-c452-e7913cb26a54"
      },
      "execution_count": null,
      "outputs": [
        {
          "output_type": "stream",
          "name": "stdout",
          "text": [
            "Digite a hora de saída da viagem HH:MM: 18:00\n",
            "Digite o tempo de voo (em minutos): 80\n",
            "Digite o tempo de espera em escalas (em minutos): 50\n",
            "O tempo de viagem é de 2 horas e 10 minutos\n",
            "O horário de chegada é 20:10.\n"
          ]
        }
      ]
    },
    {
      "cell_type": "code",
      "source": [
        "#16 Crie um algoritmo que calcule a economia gerada por um desconto progressivo.\n",
        "#O usuário informa o valor de uma compra e o sistema aplica descontos por faixa: até R$100 (5%), até R$200 (10%), acima disso (15%). Exiba o valor com desconto e a economia obtida.\n",
        "valor_compra= float(input('Digite o valor da compra: R$ '))\n",
        "desconto_total = 0.0\n",
        "valor_com_desconto = 0.0\n",
        "economia = 0.0\n",
        "if valor_compra <= 100:\n",
        "    desconto_total = valor_compra * 0.05\n",
        "    valor_com_desconto = valor_compra - desconto_total\n",
        "    economia = desconto_total\n",
        "elif valor_compra <= 200:\n",
        "     desconto_faixa1 + 100 * 0.05\n",
        "     valor_excedente = valor_da_compra - 100\n",
        "     desconto_faixa2 = valor_excedente * 0.10\n",
        "     desconto_total = desconto_faixa1 + desconto_faixa2\n",
        "     valor_com_desconto = valor_compra - desconto_total\n",
        "     economia = desconto_total\n",
        "else:\n",
        "     desconto_faixa1 = 100 * 0.05\n",
        "     desconto_faixa2 = 100 * 0.10\n",
        "     valor_excedente = valor_compra - 200\n",
        "     desconto_faixa3 = valor_excedente * 0.15\n",
        "     desconto_total = desconto_faixa1 + desconto_faixa2 + desconto_faixa3\n",
        "     economia = desconto_total\n",
        "print(f'Valor original da compra: R$ {valor_compra:.2f}')\n",
        "print(f'Valor com desconto: R$ {valor_com_desconto:.2f}')\n",
        "print(f'Economia obtida: R$ {economia:.2f}')\n"
      ],
      "metadata": {
        "id": "-QXl1052lOdK",
        "colab": {
          "base_uri": "https://localhost:8080/"
        },
        "outputId": "172a7fa5-f8cb-48e5-eca6-e4c9ddbe7deb"
      },
      "execution_count": null,
      "outputs": [
        {
          "output_type": "stream",
          "name": "stdout",
          "text": [
            "Digite o valor da compra: R$ 10\n",
            "Valor original da compra: R$ 10.00\n",
            "Valor com desconto: R$ 9.50\n",
            "Economia obtida: R$ 0.50\n"
          ]
        }
      ]
    },
    {
      "cell_type": "code",
      "source": [
        "#17 Elabore um algoritmo que simule a passagem de anos em um relógio biológico. O usuário informa a idade e o tempo (em anos) em que pretende manter hábitos saudáveis. O sistema deve estimar, com base em dados simulados, quanto de expectativa de vida ele “ganharia” a mais, usando faixas de ganho por período.\n",
        "def calcular_ganho_vida(idade, anos_habitos):\n",
        "    anos_restantes = idade + anos_habitos\n",
        "    faixas_ganho = {\n",
        "        (0, 5): 0.5,\n",
        "        (6, 10): 1.0,\n",
        "        (11, 15): 1.5,\n",
        "        (16, 20): 2.0,\n",
        "        (21, 99): 2.5\n",
        "    }\n",
        "    ganho_total = 0.0\n",
        "    anos_restantes = anos_habitos\n",
        "    while anos_restantes > 0:\n",
        "        for faixa, ganho in faixas_ganho.items():\n",
        "            inicio, fim = faixa\n",
        "            duracao_faixa = fim - inicio + 1\n",
        "            if anos_restantes <= duracao_faixa:\n",
        "                ganho_total += ganho * anos_restantes\n",
        "                anos_restantes = 0\n",
        "                break\n",
        "            else:\n",
        "                ganho_total += ganho * duracao_faixa\n",
        "                anos_restantes -= duracao_faixa\n",
        "\n",
        "    return ganho_total\n",
        "try:\n",
        "    idade = int(input(\"Digite sua idade atual: \"))\n",
        "    tempo_habitos = int(input(\"Por quanto tempo (em anos) pretende manter hábitos saudáveis? \"))\n",
        "except ValueError:\n",
        "    print(\"Por favor, insira números inteiros válidos.\")\n",
        "    exit()\n",
        "ganho_vida = calcular_ganho_vida(idade, tempo_habitos)\n",
        "expectativa_vida_base = 80\n",
        "nova_expectativa = expectativa_vida_base + ganho_vida\n",
        "\n",
        "print(f\"Estima-se que, mantendo hábitos saudáveis por {tempo_habitos} anos,\")\n",
        "print(f\"você pode ganhar aproximadamente {ganho_vida:.1f} anos de expectativa de vida extra.\")\n",
        "print(f\"Sua expectativa de vida estimada, considerando a média de 80 anos, é de aproximadamente {nova_expectativa:.1f} anos.\")"
      ],
      "metadata": {
        "id": "qSQMrtnBtHEx",
        "colab": {
          "base_uri": "https://localhost:8080/"
        },
        "outputId": "5dfba8a5-d820-4a1a-c6e8-801d61cd949c"
      },
      "execution_count": null,
      "outputs": [
        {
          "output_type": "stream",
          "name": "stdout",
          "text": [
            "Digite sua idade atual: 18\n",
            "Por quanto tempo (em anos) pretende manter hábitos saudáveis? 30\n",
            "Estima-se que, mantendo hábitos saudáveis por 30 anos,\n",
            "você pode ganhar aproximadamente 48.0 anos de expectativa de vida extra.\n",
            "Sua expectativa de vida estimada, considerando a média de 80 anos, é de aproximadamente 128.0 anos.\n"
          ]
        }
      ]
    },
    {
      "cell_type": "code",
      "source": [
        "#18 Crie um algoritmo que simule o horário ideal de sono. O usuário informa a hora em que precisa acordar e o sistema sugere três horários para dormir com base em ciclos de 90 minutos (recomendação médica).\n",
        "def calcular_horario_sono(hora_acordar):\n",
        "    try:\n",
        "        horas, minutos = map(int, hora_acordar.split(':'))\n",
        "        if not (0 <= horas <= 23 and 0 <= minutos <= 59):\n",
        "            raise ValueError\n",
        "    except ValueError:\n",
        "        return \"Formato de hora inválido. Use HH:MM (24 horas).\"\n",
        "\n",
        "    minutos_acordar = horas * 60 + minutos\n",
        "    horarios_ideais = []\n",
        "    for i in range(1, 4):\n",
        "        minutos_sono = minutos_acordar - i * 90\n",
        "        if minutos_sono < 0:\n",
        "            minutos_sono += 24 * 60\n",
        "\n",
        "        horas_sono = minutos_sono // 60\n",
        "        minutos_sono = minutos_sono % 60\n",
        "        horarios_ideais.append(f\"{horas_sono:02d}:{minutos_sono:02d}\")\n",
        "\n",
        "    return horarios_ideais\n",
        "\n",
        "hora_acordar = input(\"Digite a hora em que você precisa acordar (formato HH:MM): \")\n",
        "sugestoes = calcular_horario_sono(hora_acordar)\n",
        "\n",
        "if isinstance(sugestoes, list):\n",
        "    print(\"Horários ideais para dormir:\")\n",
        "    for i, horario in enumerate(sugestoes):\n",
        "        print(f\"{i+1}. {horario}\")\n"
      ],
      "metadata": {
        "id": "cDSeaRbMtHif",
        "colab": {
          "base_uri": "https://localhost:8080/"
        },
        "outputId": "87b336c0-f731-4307-9b80-874e059d6b52"
      },
      "execution_count": null,
      "outputs": [
        {
          "output_type": "stream",
          "name": "stdout",
          "text": [
            "Digite a hora em que você precisa acordar (formato HH:MM): 06:30\n",
            "Horários ideais para dormir:\n",
            "1. 05:00\n",
            "2. 03:30\n",
            "3. 02:00\n"
          ]
        }
      ]
    },
    {
      "cell_type": "code",
      "source": [
        "#19 Desenvolva um algoritmo que simule uma caminhada virtual. O usuário informa quantos passos dá por minuto e quanto tempo caminhou. O programa calcula quantos quilômetros percorreu, sabendo que 1.300 passos equivalem a 1 km, e fornece uma estimativa de calorias gastas.\n",
        "passos_por_minuto = int(input(\"Quantos passos você dá por minuto? \"))\n",
        "tempo_caminhada_minutos = int(input(\"Por quantos minutos você caminhou? \"))\n",
        "\n",
        "passos_totais = passos_por_minuto * tempo_caminhada_minutos\n",
        "quilometros = passos_totais / 1300\n",
        "calorias_gastas = passos_totais * 0.04\n",
        "\n",
        "print(f\"\\nVocê caminhou aproximadamente {quilometros:.2f} quilômetros.\")\n",
        "print(f\"Estimativa de calorias gastas: {calorias_gastas:.2f} calorias.\")"
      ],
      "metadata": {
        "id": "8vbBAeJItHzK",
        "colab": {
          "base_uri": "https://localhost:8080/"
        },
        "outputId": "4b47ad6b-70b5-4e98-f7c4-bf5a27699ab3"
      },
      "execution_count": null,
      "outputs": [
        {
          "output_type": "stream",
          "name": "stdout",
          "text": [
            "Quantos passos você dá por minuto? 50\n",
            "Por quantos minutos você caminhou? 3\n",
            "\n",
            "Você caminhou aproximadamente 0.12 quilômetros.\n",
            "Estimativa de calorias gastas: 6.00 calorias.\n"
          ]
        }
      ]
    },
    {
      "cell_type": "code",
      "source": [
        "#20 Elabore um algoritmo que leia a data e hora atual e informe em quanto tempo (em horas e minutos) acontecerá o pôr do sol, considerando que ele ocorrerá às 18h. Se o horário atual for após esse horário, exiba que o sol já se pôs.\n",
        "import pytz\n",
        "import datetime\n",
        "fuso_horario = pytz.timezone(\"America/Sao_Paulo\")\n",
        "horario_atual = datetime.datetime.now(fuso_horario)\n",
        "por_do_sol =horario_atual . replace(hour=18, minute=0, second=0)\n",
        "if horario_atual > por_do_sol:\n",
        "        print(\"O sol já se pôs.\")\n",
        "else:\n",
        "        diferenca = por_do_sol - horario_atual\n",
        "        horas = diferenca.seconds // 3600\n",
        "        minutos = (diferenca.seconds % 3600) // 60\n",
        "        print(f\"Faltam {horas} horas e {minutos} minutos para o pôr do sol.\")\n",
        "\n"
      ],
      "metadata": {
        "id": "D1ZfF2HwtRp4",
        "colab": {
          "base_uri": "https://localhost:8080/"
        },
        "outputId": "6ea82ac4-6a2e-4f80-90c8-adfc3e9d5b26"
      },
      "execution_count": null,
      "outputs": [
        {
          "output_type": "stream",
          "name": "stdout",
          "text": [
            "Faltam 3 horas e 56 minutos para o pôr do sol.\n"
          ]
        }
      ]
    },
    {
      "cell_type": "code",
      "source": [
        "#21 Crie um algoritmo que simule o tempo de preparo de uma refeição. O usuário escolhe 3 pratos (entrada, principal, sobremesa), cada um com seu tempo de preparo. O sistema informa o tempo total e sugere uma ordem de preparo para otimizar o tempo, se possível.\n",
        "entrada = input(\"Digite a entrada que deseja: \")\n",
        "principal = input(\"Digite o prato principal que deseja: \")\n",
        "sobremesa = input(\"Digite a sobremesa que deseja: \")\n",
        "tempo_de_preparo_entrada = int(input(f\"Digite o tempo de preparo do {entrada} em minutos: \"))\n",
        "tempo_de_preparo_principal = int(input(f\"Digite o tempo de preparo do {principal} em minutos: \"))\n",
        "tempo_de_preparo_sobremesa = int(input(f\"Digite o tempo de preparo da {sobremesa} em minutos: \"))\n",
        "tempo_total = tempo_de_preparo_entrada + tempo_de_preparo_principal + tempo_de_preparo_sobremesa\n",
        "print(f\"Tempo total de preparo: {tempo_total} minutos\")"
      ],
      "metadata": {
        "id": "x7S2MC97tnpI",
        "colab": {
          "base_uri": "https://localhost:8080/"
        },
        "outputId": "b01bacc0-71c6-4df2-8a7c-a27cc6a2a3f1"
      },
      "execution_count": null,
      "outputs": [
        {
          "output_type": "stream",
          "name": "stdout",
          "text": [
            "Digite a entrada que deseja: pastel\n",
            "Digite o prato principal que deseja: macarrao\n",
            "Digite a sobremesa que deseja: brigadeiro\n",
            "Digite o tempo de preparo do pastel em minutos: 40\n",
            "Digite o tempo de preparo do macarrao em minutos: 60\n",
            "Digite o tempo de preparo da brigadeiro em minutos: 110\n",
            "Tempo total de preparo: 210 minutos\n"
          ]
        }
      ]
    },
    {
      "cell_type": "code",
      "source": [
        "#22 Elabore um algoritmo que ajude um motorista a planejar uma viagem de ida e volta. Receba a distância (em km), o tempo de parada previsto na cidade de destino e a velocidade média. Calcule o tempo total da jornada e o tempo disponível para descanso antes do retorno.\n",
        "def planejar_viagem(distancia, tempo_parada, velocidade_media):\n",
        "    tempo_ida = distancia / velocidade_media\n",
        "    tempo_volta = distancia / velocidade_media\n",
        "    tempo_total = tempo_ida + tempo_volta + tempo_parada\n",
        "    tempo_descanso = tempo_parada\n",
        "\n",
        "    return tempo_total, tempo_descanso\n",
        "distancia = float(input(\"Informe a distância da viagem (em km): \"))\n",
        "tempo_parada = float(input(\"Informe o tempo de parada na cidade de destino (em horas): \"))\n",
        "velocidade_media = float(input(\"Informe a velocidade média esperada (em km/h): \"))\n",
        "\n",
        "tempo_total, tempo_descanso = planejar_viagem(distancia, tempo_parada, velocidade_media)\n",
        "\n",
        "print(f\"\\nTempo total da viagem (ida e volta): {tempo_total:.2f} horas\")\n",
        "print(f\"Tempo disponível para descanso antes do retorno: {tempo_descanso:.2f} horas\")"
      ],
      "metadata": {
        "colab": {
          "base_uri": "https://localhost:8080/"
        },
        "id": "UQghKbCCG07l",
        "outputId": "3709c4e5-6ca7-4bbd-80a7-1f01f78b0449"
      },
      "execution_count": null,
      "outputs": [
        {
          "output_type": "stream",
          "name": "stdout",
          "text": [
            "Informe a distância da viagem (em km): 40\n",
            "Informe o tempo de parada na cidade de destino (em horas): 1\n",
            "Informe a velocidade média esperada (em km/h): 80\n",
            "\n",
            "Tempo total da viagem (ida e volta): 2.00 horas\n",
            "Tempo disponível para descanso antes do retorno: 1.00 horas\n"
          ]
        }
      ]
    },
    {
      "cell_type": "code",
      "source": [
        "#23 Desenvolva um algoritmo que calcule quantos segundos faltam para o ano novo, recebendo a data e hora atual. O sistema deve considerar se o ano é bissexto ou não.\n",
        "import datetime\n",
        "ano_atual = datetime.datetime.now().year\n",
        "ano_novo = datetime.datetime(ano_atual + 1, 12, 31, 23, 59, 59)\n",
        "diferenca = ano_novo - datetime.datetime.now()\n",
        "dias_restantes = diferenca.days\n",
        "horas_restantes = diferenca.seconds // 360\n",
        "minutos_restantes = (diferenca.seconds % 360) // 60\n",
        "segundos_restantes = diferenca.seconds % 60\n",
        "print(f\"Faltam {dias_restantes} dias, {horas_restantes} horas, {minutos_restantes} minutos e {segundos_restantes} segundos para o ano novo.\")\n"
      ],
      "metadata": {
        "colab": {
          "base_uri": "https://localhost:8080/"
        },
        "id": "Fvl3iu8fG1G3",
        "outputId": "56c7db3b-33e1-4056-871d-28cd0edb5877"
      },
      "execution_count": null,
      "outputs": [
        {
          "output_type": "stream",
          "name": "stdout",
          "text": [
            "Faltam 607 dias, 67 horas, 0 minutos e 9 segundos para o ano novo.\n"
          ]
        }
      ]
    },
    {
      "cell_type": "code",
      "source": [
        "#24 Crie um algoritmo que simule a leitura de um termômetro inteligente. O usuário informa temperaturas de manhã, tarde e noite por 5 dias. O sistema deve exibir a maior e menor temperatura da semana, a média geral e se houve risco de insolação (temperaturas acima de 35ºC em dois períodos do mesmo dia).\n",
        "temperaturas = []\n",
        "for dia in range(5):\n",
        "  print(f\"Dia {dia + 1}:\")\n",
        "  manhã = float(input(\"Temperatura da manhã: \"))\n",
        "  tarde = float(input(\"Temperatura da tarde: \"))\n",
        "  noite = float(input(\"Temperatura da noite: \"))\n",
        "  38\n",
        "  temperaturas.extend([manhã, tarde, noite])\n",
        "\n",
        "maior_temp = max(temperaturas)\n",
        "menor_temp = min(temperaturas)\n",
        "media_temp = sum(temperaturas) / len(temperaturas)\n",
        "\n",
        "risco_insolacao = False\n",
        "for dia in range(5):\n",
        "  inicio_dia = dia * 3\n",
        "  if temperaturas[inicio_dia] > 35 and temperaturas[inicio_dia + 1] > 35:\n",
        "            risco_insolacao = True\n",
        "            break\n",
        "            if temperaturas[inicio_dia] > 35 and temperaturas[inicio_dia + 2] > 35:\n",
        "              risco_insolacao = True\n",
        "            break\n",
        "            if temperaturas[inicio_dia+1] > 35 and temperaturas[inicio_dia + 2] > 35:\n",
        "              risco_insolacao = True\n",
        "            break\n",
        "print(f\"Maior temperatura da semana: {maior_temp}°C\")\n",
        "print(f\"Menor temperatura da semana: {menor_temp}°C\")\n",
        "print(f\"Média das temperaturas da semana: {media_temp:.2f}°C\")\n",
        "if risco_insolacao:\n",
        "  print(\"Houve risco de insolação.\")\n",
        "else:\n",
        "  print(\"Não houve risco de insolação.\")"
      ],
      "metadata": {
        "colab": {
          "base_uri": "https://localhost:8080/"
        },
        "id": "zDZ2WLs-G1Qv",
        "outputId": "5d0ca1cb-ff1c-44c6-89dc-8a350a476aae"
      },
      "execution_count": null,
      "outputs": [
        {
          "output_type": "stream",
          "name": "stdout",
          "text": [
            "\n",
            "Dia 1:\n",
            "Temperatura da manhã: 22\n",
            "Temperatura da tarde: 30\n",
            "Temperatura da noite: 20\n",
            "\n",
            "Dia 2:\n",
            "Temperatura da manhã: 25\n",
            "Temperatura da tarde: 33\n",
            "Temperatura da noite: 23\n",
            "\n",
            "Dia 3:\n",
            "Temperatura da manhã: 25\n",
            "Temperatura da tarde: 34\n",
            "Temperatura da noite: 25\n",
            "\n",
            "Dia 4:\n",
            "Temperatura da manhã: 20\n",
            "Temperatura da tarde: 26\n",
            "Temperatura da noite: 23\n",
            "\n",
            "Dia 5:\n",
            "Temperatura da manhã: 22\n",
            "Temperatura da tarde: 27\n",
            "Temperatura da noite: 24\n",
            "Maior temperatura da semana: 34.0°C\n",
            "Menor temperatura da semana: 20.0°C\n",
            "Média das temperaturas da semana: 25.27°C\n",
            "Não houve risco de insolação.\n"
          ]
        }
      ]
    },
    {
      "cell_type": "code",
      "source": [
        "#25 Elabore um algoritmo que simule o deslocamento de um ciclista. O usuário informa a velocidade média (em km/h) e a duração da pedalada em dias diferentes. O programa calcula a distância total percorrida e destaca o dia de maior rendimento.\n",
        "dias = int(input(\"Informe a quantidade de dias de pedalada: \"))\n",
        "velocidades = []\n",
        "duracoes = []\n",
        "for i in range(dias):\n",
        "        velocidade = float(input(f\"Informe a velocidade média no dia {i+1} (em km/h): \"))\n",
        "        duracao = float(input(f\"Informe a duração da pedalada no dia {i+1} (em horas): \"))\n",
        "        velocidades.append(velocidade)\n",
        "        duracoes.append(duracao)\n",
        "distancias = [velocidade * duracao for velocidade, duracao in zip(velocidades, duracoes)]\n",
        "distancia_total = sum(distancias)\n",
        "dia_maior_rendimento = distancias.index(max(distancias)) + 1\n",
        "print(f\"A distância total percorrida foi de {distancia_total:.2f} km.\")\n",
        "print(f\"O dia de maior rendimento foi o dia {dia_maior_rendimento}, com {max(distancias):.2f} km percorridos.\")"
      ],
      "metadata": {
        "colab": {
          "base_uri": "https://localhost:8080/"
        },
        "id": "9BPMPjkNG_Zk",
        "outputId": "4a6d0599-9101-4c80-d9cd-1a4caa9597e4"
      },
      "execution_count": null,
      "outputs": [
        {
          "output_type": "stream",
          "name": "stdout",
          "text": [
            "Informe a quantidade de dias de pedalada: 5\n",
            "Informe a velocidade média no dia 1 (em km/h): 100\n",
            "Informe a duração da pedalada no dia 1 (em horas): 3\n",
            "Informe a velocidade média no dia 2 (em km/h): 80\n",
            "Informe a duração da pedalada no dia 2 (em horas): 2\n",
            "Informe a velocidade média no dia 3 (em km/h): 90\n",
            "Informe a duração da pedalada no dia 3 (em horas): 2\n",
            "Informe a velocidade média no dia 4 (em km/h): 70\n",
            "Informe a duração da pedalada no dia 4 (em horas): 1\n",
            "Informe a velocidade média no dia 5 (em km/h): 80\n",
            "Informe a duração da pedalada no dia 5 (em horas): 2\n",
            "A distância total percorrida foi de 870.00 km.\n",
            "O dia de maior rendimento foi o dia 1, com 300.00 km percorridos.\n"
          ]
        }
      ]
    },
    {
      "cell_type": "code",
      "source": [
        "#26 Crie um algoritmo que simule o registro de tempo de uso de energia por aparelhos domésticos. Para três aparelhos, o usuário informa a potência (em watts) e o tempo de uso diário (em horas). O sistema deve calcular o consumo mensal (em kWh) de cada aparelho e o total da residência.\n",
        "aparelhos = []\n",
        "for i in range(3):\n",
        "  potencia = float(input(f\"Informe a potência do aparelho {i+1} (em watts): \"))\n",
        "  tempo_uso_diario = float(input(f\"Informe o tempo de uso diário do aparelho {i+1} (em horas): \"))\n",
        "  aparelhos.append((potencia, tempo_uso_diario))\n",
        "\n",
        "consumo_mensal_total = 0\n",
        "for i, (potencia, tempo_uso_diario) in enumerate(aparelhos):\n",
        "  consumo_diario_kWh = (potencia / 1000) * tempo_uso_diario\n",
        "  consumo_mensal_kWh = consumo_diario_kWh * 30\n",
        "  consumo_mensal_total += consumo_mensal_kWh\n",
        "  print(f\"Consumo mensal do aparelho {i+1}: {consumo_mensal_kWh:.2f} kWh\")\n",
        "\n",
        "print(f\"Consumo mensal total da residência: {consumo_mensal_total:.2f} kWh\")"
      ],
      "metadata": {
        "colab": {
          "base_uri": "https://localhost:8080/"
        },
        "id": "D8k086QqG_qs",
        "outputId": "5bfe2c70-5d28-4117-8f3a-24456b3858f2"
      },
      "execution_count": null,
      "outputs": [
        {
          "output_type": "stream",
          "name": "stdout",
          "text": [
            "Informe a potência do aparelho 1 (em watts): 4\n",
            "Informe o tempo de uso diário do aparelho 1 (em horas): 2\n",
            "Informe a potência do aparelho 2 (em watts): 3\n",
            "Informe o tempo de uso diário do aparelho 2 (em horas): 2\n",
            "Informe a potência do aparelho 3 (em watts): 2\n",
            "Informe o tempo de uso diário do aparelho 3 (em horas): 1\n",
            "Consumo mensal do aparelho 1: 0.24 kWh\n",
            "Consumo mensal do aparelho 2: 0.18 kWh\n",
            "Consumo mensal do aparelho 3: 0.06 kWh\n",
            "Consumo mensal total da residência: 0.48 kWh\n"
          ]
        }
      ]
    },
    {
      "cell_type": "code",
      "source": [
        "#27 Desenvolva um algoritmo que receba a hora e minuto em que um paciente tomou um remédio e calcule os próximos 3 horários ideais para as próximas doses, considerando que o medicamento deve ser tomado a cada 8 horas.\n",
        "import datetime\n",
        "\n",
        "def calcular_proximos_horarios(hora, minuto):\n",
        "    horario_atual = datetime.datetime.now().replace(hour=hora, minute=minuto, second=0, microsecond=0)\n",
        "    proximos_horarios = []\n",
        "    for i in range(1, 4):\n",
        "        proximo_horario = horario_atual + datetime.timedelta(hours=8 * i)\n",
        "        proximos_horarios.append(proximo_horario.strftime(\"%H:%M\"))\n",
        "    return proximos_horarios\n",
        "\n",
        "hora_inicial = int(input(\"Digite a hora em que o remédio foi tomado: \"))\n",
        "minuto_inicial = int(input(\"Digite o minuto em que o remédio foi tomado: \"))\n",
        "\n",
        "proximos_horarios = calcular_proximos_horarios(hora_inicial, minuto_inicial)\n",
        "\n",
        "print(\"Os próximos 3 horários para tomar o remédio são:\")\n",
        "for horario in proximos_horarios:\n",
        "    print(horario)"
      ],
      "metadata": {
        "colab": {
          "base_uri": "https://localhost:8080/"
        },
        "id": "BHfLuU8QHEn1",
        "outputId": "291be6e4-fe4b-4cb7-d328-f10efa5072be"
      },
      "execution_count": null,
      "outputs": [
        {
          "output_type": "stream",
          "name": "stdout",
          "text": [
            "Digite a hora em que o remédio foi tomado: 8\n",
            "Digite o minuto em que o remédio foi tomado: 30\n",
            "Os próximos 3 horários para tomar o remédio são:\n",
            "16:30\n",
            "00:30\n",
            "08:30\n"
          ]
        }
      ]
    },
    {
      "cell_type": "code",
      "source": [
        "#28 Elabore um algoritmo que receba a hora atual e diga quanto tempo falta para o início de um filme, que sempre começa às 20h em ponto. Se já passou desse horário, informe quanto tempo de filme a pessoa perdeu, assumindo que o filme tem 2h de duração.\n",
        "import pytz\n",
        "import datetime\n",
        "\n",
        "fuso_horario = pytz.timezone(\"America/Sao_Paulo\")\n",
        "horario_atual = datetime.datetime.now(fuso_horario)\n",
        "inicio_filme = horario_atual.replace(hour=20, minute=0, second=0)\n",
        "\n",
        "tempo_perdido_horas = 0\n",
        "tempo_perdido_minutos = 0\n",
        "if horario_atual < inicio_filme:\n",
        "  diferenca = inicio_filme - horario_atual\n",
        "  horas = diferenca.seconds // 3600\n",
        "  minutos = (diferenca.seconds % 3600) // 60\n",
        "  print(f\"Faltam {horas} horas e {minutos} minutos para o início do filme.\")\n",
        "else:\n",
        "  diferenca = horario_atual - inicio_filme\n",
        "  tempo_perdido_horas = diferenca.seconds // 3600\n",
        "  tempo_perdido_minutos = (diferenca.seconds % 3600) // 60\n",
        "\n",
        "if tempo_perdido_horas < 2 :\n",
        "  tempo_filme_restante_horas = 2 - tempo_perdido_horas\n",
        "  tempo_filme_restante_minutos = 60 - tempo_perdido_minutos\n",
        "  print(f\"Você perdeu {tempo_perdido_horas} horas e {tempo_perdido_minutos} minutos de filme.\")\n",
        "  print(f\"Ainda faltam {tempo_filme_restante_horas} horas e {tempo_filme_restante_minutos} minutos de filme.\")\n",
        "else:\n",
        "  print(f\"Você perdeu {tempo_perdido_horas} horas e {tempo_perdido_minutos} minutos de filme.\")\n",
        "  print(f\"O filme já acabou.\")"
      ],
      "metadata": {
        "colab": {
          "base_uri": "https://localhost:8080/"
        },
        "id": "cIg5GLwHHJHw",
        "outputId": "4158730b-3944-4e8b-c586-ec011e0a9024"
      },
      "execution_count": null,
      "outputs": [
        {
          "output_type": "stream",
          "name": "stdout",
          "text": [
            "Faltam 5 horas e 43 minutos para o início do filme.\n",
            "Você perdeu 0 horas e 0 minutos de filme.\n",
            "Ainda faltam 2 horas e 60 minutos de filme.\n"
          ]
        }
      ]
    },
    {
      "cell_type": "code",
      "source": [
        "#29 Crie um algoritmo que ajude a calcular o tempo ideal de estudo. O usuário informa o total de horas disponíveis na semana e a quantidade de disciplinas. O sistema calcula quantas horas deve dedicar a cada matéria e alerta se alguma ficar com menos de 1h\n",
        "def calcular_tempo_estudo(horas_disponiveis, num_disciplinas):\n",
        "    tempo_por_disciplina = horas_disponiveis / num_disciplinas\n",
        "    tempos = {}\n",
        "    alerta = False\n",
        "    for i in range(num_disciplinas):\n",
        "        tempos[f'disciplina_{i+1}'] = tempo_por_disciplina\n",
        "        if tempo_por_disciplina < 1:\n",
        "            alerta = True\n",
        "    return tempos, alerta\n",
        "\n",
        "horas_disponiveis = float(input(\"Digite o total de horas disponíveis na semana para estudo: \"))\n",
        "num_disciplinas = int(input(\"Digite a quantidade de disciplinas: \"))\n",
        "\n",
        "tempos_estudo, alerta = calcular_tempo_estudo(horas_disponiveis, num_disciplinas)\n",
        "\n",
        "for disciplina, tempo in tempos_estudo.items():\n",
        "    print(f\"{disciplina}: {tempo:.2f} horas\")\n",
        "\n",
        "if alerta:\n",
        "    print(\"Alerta: Pelo menos uma disciplina tem menos de 1 hora de estudo.\")"
      ],
      "metadata": {
        "colab": {
          "base_uri": "https://localhost:8080/"
        },
        "id": "czxspzi-HLu2",
        "outputId": "b4bd4e22-299f-43a3-9a5b-82c39c87ef5e"
      },
      "execution_count": null,
      "outputs": [
        {
          "output_type": "stream",
          "name": "stdout",
          "text": [
            "Digite o total de horas disponíveis na semana para estudo: 8\n",
            "Digite a quantidade de disciplinas: 4\n",
            "disciplina_1: 2.00 horas\n",
            "disciplina_2: 2.00 horas\n",
            "disciplina_3: 2.00 horas\n",
            "disciplina_4: 2.00 horas\n"
          ]
        }
      ]
    },
    {
      "cell_type": "code",
      "source": [
        "#30 Desenvolva um algoritmo que simule o acompanhamento de produtividade de um trabalhador remoto. Receba o número de tarefas concluídas por dia durante 5 dias e calcule a média. Se a produtividade cair por dois dias consecutivos, o sistema emite um alerta.\n",
        "tarefas_diarias = []\n",
        "for dia in range(5):\n",
        "  tarefas = int(input(f\"Digite o número de tarefas concluídas no dia {dia + 1}: \"))\n",
        "  tarefas_diarias.append(tarefas)\n",
        "  media_tarefas = sum(tarefas_diarias) / len(tarefas_diarias)\n",
        "  print(f\"\\nA média de tarefas concluídas por dia é: {media_tarefas:.2f}\")\n",
        "  queda_consecutiva = 0\n",
        "for i in range(1, len(tarefas_diarias)):\n",
        "  if tarefas_diarias[i] < tarefas_diarias[i - 1]:\n",
        "    queda_consecutiva += 1\n",
        "    if queda_consecutiva >= 2:\n",
        "      print(\"\\nAlerta: Produtividade caiu por dois dias consecutivos!\")\n",
        "      break\n",
        "else:\n",
        "  queda_consecutiva = 0"
      ],
      "metadata": {
        "colab": {
          "base_uri": "https://localhost:8080/"
        },
        "id": "voJQkTLzHPU2",
        "outputId": "96fe4e2d-3889-4723-90f3-8572fd2374da"
      },
      "execution_count": null,
      "outputs": [
        {
          "output_type": "stream",
          "name": "stdout",
          "text": [
            "Digite o número de tarefas concluídas no dia 1: 3\n",
            "\n",
            "A média de tarefas concluídas por dia é: 3.00\n",
            "Digite o número de tarefas concluídas no dia 2: 5\n",
            "\n",
            "A média de tarefas concluídas por dia é: 4.00\n",
            "Digite o número de tarefas concluídas no dia 3: 4\n",
            "\n",
            "A média de tarefas concluídas por dia é: 4.00\n",
            "Digite o número de tarefas concluídas no dia 4: 2\n",
            "\n",
            "A média de tarefas concluídas por dia é: 3.50\n",
            "Digite o número de tarefas concluídas no dia 5: 1\n",
            "\n",
            "A média de tarefas concluídas por dia é: 3.00\n",
            "\n",
            "Alerta: Produtividade caiu por dois dias consecutivos!\n"
          ]
        }
      ]
    }
  ]
}