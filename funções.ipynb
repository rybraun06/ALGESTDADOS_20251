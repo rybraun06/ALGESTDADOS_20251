{
  "nbformat": 4,
  "nbformat_minor": 0,
  "metadata": {
    "colab": {
      "provenance": [],
      "authorship_tag": "ABX9TyOghGtUVy0fQb6SPCRLexZn",
      "include_colab_link": true
    },
    "kernelspec": {
      "name": "python3",
      "display_name": "Python 3"
    },
    "language_info": {
      "name": "python"
    }
  },
  "cells": [
    {
      "cell_type": "markdown",
      "metadata": {
        "id": "view-in-github",
        "colab_type": "text"
      },
      "source": [
        "<a href=\"https://colab.research.google.com/github/rybraun06/ALGESTDADOS_20251/blob/main/fun%C3%A7%C3%B5es.ipynb\" target=\"_parent\"><img src=\"https://colab.research.google.com/assets/colab-badge.svg\" alt=\"Open In Colab\"/></a>"
      ]
    },
    {
      "cell_type": "code",
      "execution_count": null,
      "metadata": {
        "colab": {
          "base_uri": "https://localhost:8080/"
        },
        "id": "xuVYmSyD8vIQ",
        "outputId": "97af9648-bd08-452b-f72a-ebabe73aae52"
      },
      "outputs": [
        {
          "output_type": "stream",
          "name": "stdout",
          "text": [
            "Par\n",
            "Impar\n",
            "Par\n",
            "Impar\n",
            "Par\n",
            "Impar\n",
            "Par\n",
            "Impar\n",
            "Par\n",
            "Impar\n"
          ]
        }
      ],
      "source": [
        "def par0uImpar(x):\n",
        "  if x%2==1:\n",
        "     return 'Impar'\n",
        "  else:\n",
        "    return 'Par'\n",
        "\n",
        "\n",
        "for i in range(10):\n",
        "    print(par0uImpar(i))\n",
        "\n"
      ]
    },
    {
      "cell_type": "code",
      "source": [
        "def pode_votar(idade):\n",
        "    if idade >= 16:\n",
        "      return 'Pode votar'\n",
        "    else:\n",
        "      return 'Não pode votar'\n",
        "\n",
        "idade = int(input(\"Digite sua idade: \"))\n",
        "print(pode_votar(idade))"
      ],
      "metadata": {
        "colab": {
          "base_uri": "https://localhost:8080/"
        },
        "id": "wCJNrUev_XNc",
        "outputId": "857bd709-012b-45e2-ff00-1b54fd7fecf1"
      },
      "execution_count": null,
      "outputs": [
        {
          "output_type": "stream",
          "name": "stdout",
          "text": [
            "Digite sua idade: 18\n",
            "Pode votar\n"
          ]
        }
      ]
    },
    {
      "cell_type": "code",
      "source": [
        "#Peça um número e informe se ele é maior que 10. Crie uma função em Python para fazer essa verificação.\n",
        "def maior_que_10(numero):\n",
        "    if numero > 10:\n",
        "        return True\n",
        "    else:\n",
        "        return False\n",
        "\n",
        "numero = int(input(\"Digite um número: \"))\n",
        "if maior_que_10(numero):\n",
        "    print(\"O número é maior que 10.\")\n",
        "else:\n",
        "    print(\"O número não é maior que 10.\")"
      ],
      "metadata": {
        "colab": {
          "base_uri": "https://localhost:8080/"
        },
        "id": "V-DIud3HAD6T",
        "outputId": "b52c18b1-b5c9-4864-d719-d63f05dcaa1f"
      },
      "execution_count": null,
      "outputs": [
        {
          "output_type": "stream",
          "name": "stdout",
          "text": [
            "Digite um número: 1\n",
            "O número não é maior que 10.\n"
          ]
        }
      ]
    },
    {
      "cell_type": "code",
      "source": [
        "#Peça um número inteiro e informe se ele é par. Crie uma função em Python que verifique se o número é divisível por 2.\n",
        "def par(numero):\n",
        "    if numero % 2 == 0:\n",
        "        return True\n",
        "    else:\n",
        "        return False\n",
        "\n",
        "numero = int(input(\"Digite um número inteiro: \"))\n",
        "if par(numero):\n",
        "    print(\"O número é par.\")\n",
        "else:\n",
        "    print(\"O número não é par.\")"
      ],
      "metadata": {
        "colab": {
          "base_uri": "https://localhost:8080/"
        },
        "id": "VGcPXurZDQM2",
        "outputId": "fcdae33f-4459-4ac9-b737-1a086cf7edcb"
      },
      "execution_count": null,
      "outputs": [
        {
          "output_type": "stream",
          "name": "stdout",
          "text": [
            "Digite um número inteiro: 6\n",
            "O número é par.\n"
          ]
        }
      ]
    },
    {
      "cell_type": "code",
      "source": [
        "#Peça um nome e informe se ele contém a letra \"a\". Crie uma função em Python que faça essa verificação.\n",
        "def nome_tem_a(nome):\n",
        "    if 'a' in nome.lower():\n",
        "        return True\n",
        "    else:\n",
        "        return False\n",
        "\n",
        "nome = input(\"Digite um nome: \")\n",
        "if nome_tem_a(nome):\n",
        "    print(\"O nome contém a letra 'a'.\")\n",
        "else:\n",
        "    print(\"O nome não contém a letra 'a'.\")\n",
        "    print(\"O nome não contém a letra 'a'.\")"
      ],
      "metadata": {
        "id": "HD_S6wCtF4E-",
        "colab": {
          "base_uri": "https://localhost:8080/"
        },
        "outputId": "f0c5cd27-35f6-4408-b0f9-45defdd09e20"
      },
      "execution_count": 13,
      "outputs": [
        {
          "output_type": "stream",
          "name": "stdout",
          "text": [
            "Digite um nome: Bernardo\n",
            "O nome contém a letra 'a'.\n"
          ]
        }
      ]
    },
    {
      "cell_type": "code",
      "source": [
        "#Peça um número e informe se ele é múltiplo de 5. Crie uma função em Python que verifique se o número é divisível por 5.\n",
        "def multiplo_de_5(numero):\n",
        "    if numero % 5 == 0:\n",
        "        return True\n",
        "    else:\n",
        "        return False\n",
        "\n",
        "\n",
        "numero = int(input(\"Digite um número: \"))\n",
        "if multiplo_de_5(numero):\n",
        "    print(\"O número é múltiplo de 5.\")\n",
        "else:\n",
        "    print(\"O número não é múltiplo de 5.\")\n",
        "    print(\"O número não é múltiplo de 5.\")\n",
        "\n"
      ],
      "metadata": {
        "colab": {
          "base_uri": "https://localhost:8080/"
        },
        "id": "eME-3rrIcSUd",
        "outputId": "142bc7d1-994c-46e8-d2d9-c071e0228986"
      },
      "execution_count": 18,
      "outputs": [
        {
          "output_type": "stream",
          "name": "stdout",
          "text": [
            "Digite um número: 50\n",
            "O número é múltiplo de 5.\n"
          ]
        }
      ]
    },
    {
      "cell_type": "code",
      "source": [
        "#Peça a temperatura atual e informe se está quente (acima de 30°C) ou frio (30°C ou menos). Crie uma função em Python para essa verificação\n",
        "def verificar_temperatura(temperatura):\n",
        "    if temperatura > 30:\n",
        "        return \"Quente\"\n",
        "    else:\n",
        "        return \"Frio\"\n",
        "\n",
        "temperatura = float(input(\"Digite a temperatura atual em graus Celsius: \"))\n",
        "print(verificar_temperatura(temperatura))"
      ],
      "metadata": {
        "colab": {
          "base_uri": "https://localhost:8080/"
        },
        "id": "7jr0zrxOc9Mk",
        "outputId": "cb9c3a47-ffb7-44f9-be27-5473c0844de5"
      },
      "execution_count": 19,
      "outputs": [
        {
          "output_type": "stream",
          "name": "stdout",
          "text": [
            "Digite a temperatura atual em graus Celsius: 23\n",
            "Frio\n"
          ]
        }
      ]
    },
    {
      "cell_type": "code",
      "source": [
        "#Peça ao usuário para digitar \"S\" para continuar ou \"N\" para sair e informe a ação correspondente. Crie uma função em Python que faça essa validação e exiba a mensagem correta.\n",
        "def continuar_ou_sair():\n",
        "    while True:\n",
        "        resposta = input(\"Digite 'S' para continuar ou 'N' para sair: \")\n",
        "        if resposta.lower() == 's':\n",
        "            print(\"Você decidiu continuar.\")\n",
        "        elif resposta.lower() == 'n':\n",
        "            print(\"Você decidiu sair.\")\n",
        "            break\n",
        "        else:\n",
        "\n",
        "            print(\"Resposta inválida.\")\n",
        "\n",
        "continuar_ou_sair()"
      ],
      "metadata": {
        "colab": {
          "base_uri": "https://localhost:8080/"
        },
        "id": "N1jZKwsWdXQB",
        "outputId": "e0eb02c1-563e-46fc-8de5-655a46d29680"
      },
      "execution_count": 23,
      "outputs": [
        {
          "output_type": "stream",
          "name": "stdout",
          "text": [
            "Digite 'S' para continuar ou 'N' para sair: s\n",
            "Você decidiu continuar.\n",
            "Digite 'S' para continuar ou 'N' para sair: s\n",
            "Você decidiu continuar.\n",
            "Digite 'S' para continuar ou 'N' para sair: n\n",
            "Você decidiu sair.\n"
          ]
        }
      ]
    },
    {
      "cell_type": "code",
      "source": [
        "#Peça um número e informe se ele é negativo, zero ou positivo. Crie uma função em Python para classificar o número.\n",
        "def posnegzero(numero):\n",
        "    if numero < 0:\n",
        "        return \"Negativo\"\n",
        "    elif numero == 0:\n",
        "        return \"Zero\"\n",
        "    else:\n",
        "        return \"Positivo\"\n",
        "\n",
        "\n",
        "numero = float(input(\"Digite um número: \"))\n",
        "print(posnegzero(numero))"
      ],
      "metadata": {
        "colab": {
          "base_uri": "https://localhost:8080/"
        },
        "id": "qI6orj29eKvR",
        "outputId": "5c369099-028b-4c7e-cda5-d25bcabb9aca"
      },
      "execution_count": 24,
      "outputs": [
        {
          "output_type": "stream",
          "name": "stdout",
          "text": [
            "Digite um número: 9\n",
            "Positivo\n"
          ]
        }
      ]
    },
    {
      "cell_type": "code",
      "source": [
        "#Peça um número de 1 a 7 e informe o dia da semana correspondente. Crie uma função em Python que associe o número ao dia correto.\n",
        "def dia_da_semana(numero):\n",
        "    if numero == 1:\n",
        "        return \"Domingo\"\n",
        "    elif numero == 2:\n",
        "        return \"Segunda-feira\"\n",
        "    elif numero == 3:\n",
        "        return \"Terça-feira\"\n",
        "    elif numero == 4:\n",
        "        return \"Quarta-feira\"\n",
        "    elif numero == 5:\n",
        "        return \"Quinta-feira\"\n",
        "    elif numero == 6:\n",
        "        return \"Sexta-feira\"\n",
        "    elif numero == 7:\n",
        "        return \"Sábado\"\n",
        "    else:\n",
        "        return \"Número inválido. Digite um número de 1 a 7.\"\n",
        "\n",
        "numero = int(input(\"Digite um número de 1 a 7: \"))\n",
        "print(dia_da_semana(numero))\n"
      ],
      "metadata": {
        "colab": {
          "base_uri": "https://localhost:8080/"
        },
        "id": "YMqfTy3beQII",
        "outputId": "872e16b8-fc2a-4862-8e73-55bcfe5561a6"
      },
      "execution_count": 28,
      "outputs": [
        {
          "output_type": "stream",
          "name": "stdout",
          "text": [
            "Digite um número de 1 a 7: 7\n",
            "Sábado\n"
          ]
        }
      ]
    },
    {
      "cell_type": "code",
      "source": [
        "#Peça um ano e informe se ele é bissexto. Crie uma função em Python que verifique se o ano é divisível por 4 e não por 100, exceto se também for divisível por 400\n",
        ", exceto se também for\n",
        "def ano_bissexto(ano):\n",
        "    if (ano % 4 == 0 and ano % 100 != 0) or (ano % 400 == 0):\n",
        "        return True\n",
        "    else:\n",
        "        return False\n",
        "        return False\n",
        "\n",
        "ano = int(input(\"Digite um ano: \"))\n",
        "if ano_bissexto(ano):\n",
        "    print(\"O ano é bissexto.\")\n",
        "else:\n",
        "    print(\"O ano não é bissexto.\")"
      ],
      "metadata": {
        "colab": {
          "base_uri": "https://localhost:8080/"
        },
        "id": "9U9CrIBPeS4H",
        "outputId": "a1431122-a2cd-4781-975d-600574491979"
      },
      "execution_count": 29,
      "outputs": [
        {
          "output_type": "stream",
          "name": "stdout",
          "text": [
            "Digite um ano: 2022\n",
            "O ano não é bissexto.\n"
          ]
        }
      ]
    },
    {
      "cell_type": "code",
      "source": [
        "#Peça a quantidade de horas trabalhadas e o valor por hora. Se trabalhou até 40 horas, calcule o salário normalmente (horas × valor por hora). Se trabalhou mais de 40 horas, as horas extras devem ter um adicional de 50% (horas extras × valor por hora × 1.5). Crie uma função em Python que realize esse cálculo corretamente\n",
        "def calcular_salario(horas_trabalhadas, valor_por_hora):\n",
        "    if horas_trabalhadas <= 40:\n",
        "      return horas_trabalhadas * valor_por_hora\n",
        "    else:\n",
        "      return 40*valor_por_hora + (horas_trabalhadas - 40) * valor_por_hora * 1.5\n",
        "\n",
        "print(calcular_salario(42,10))\n"
      ],
      "metadata": {
        "colab": {
          "base_uri": "https://localhost:8080/"
        },
        "id": "nXCFQOY0eY2A",
        "outputId": "e65d1baa-a86f-43fc-837f-9964516c6068"
      },
      "execution_count": 32,
      "outputs": [
        {
          "output_type": "stream",
          "name": "stdout",
          "text": [
            "430.0\n"
          ]
        }
      ]
    }
  ]
}