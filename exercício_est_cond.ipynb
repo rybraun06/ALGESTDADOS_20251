{
  "nbformat": 4,
  "nbformat_minor": 0,
  "metadata": {
    "colab": {
      "provenance": [],
      "authorship_tag": "ABX9TyNSr6idPhqg7k2t2zkaF1pk",
      "include_colab_link": true
    },
    "kernelspec": {
      "name": "python3",
      "display_name": "Python 3"
    },
    "language_info": {
      "name": "python"
    }
  },
  "cells": [
    {
      "cell_type": "markdown",
      "metadata": {
        "id": "view-in-github",
        "colab_type": "text"
      },
      "source": [
        "<a href=\"https://colab.research.google.com/github/rybraun06/ALGESTDADOS_20251/blob/main/exerc%C3%ADcio_est_cond.ipynb\" target=\"_parent\"><img src=\"https://colab.research.google.com/assets/colab-badge.svg\" alt=\"Open In Colab\"/></a>"
      ]
    },
    {
      "cell_type": "markdown",
      "source": [
        "Rianny Braun, Emanuelle Lima\n",
        "\n",
        "Lista de exercício 1"
      ],
      "metadata": {
        "id": "FG48y0CJztV0"
      }
    },
    {
      "cell_type": "code",
      "execution_count": null,
      "metadata": {
        "colab": {
          "base_uri": "https://localhost:8080/"
        },
        "id": "lxsxKjdPQKNz",
        "outputId": "3ed33dc4-4a3a-4367-e83a-1f536de6a04c"
      },
      "outputs": [
        {
          "output_type": "stream",
          "name": "stdout",
          "text": [
            "digite um numero:60\n",
            "o numero nao é menor que 50.\n"
          ]
        }
      ],
      "source": [
        "#1. Peça um número ao usuário e verifique se ele é menor que 50. Informe o resultado com uma mensagem\n",
        "num = int(input('digite um numero:'))\n",
        "if num < 50:\n",
        "   print(' o numero é menor que 50.')\n",
        "else:\n",
        "  print('o numero nao é menor que 50.')"
      ]
    },
    {
      "cell_type": "code",
      "source": [
        "#2. Solicite um número ao usuário e informe se ele é divisível por 7. Para isso, utilize uma verificação simples.\n",
        "num = int(input('digite um numero:'))\n",
        "if num % 7 == 0:\n",
        "  print('o numero é divisivel por 7.')\n",
        "else:\n",
        "  print('o numero não é divisivel por 7.')\n"
      ],
      "metadata": {
        "colab": {
          "base_uri": "https://localhost:8080/"
        },
        "id": "zQ0Pm4SrSeAG",
        "outputId": "7dc6b031-912d-4b3e-db36-45405df6257e"
      },
      "execution_count": null,
      "outputs": [
        {
          "output_type": "stream",
          "name": "stdout",
          "text": [
            "digite um numero:3\n",
            "o numero não é divisivel por 7.\n"
          ]
        }
      ]
    },
    {
      "cell_type": "code",
      "source": [
        "#3. Peça um nome ao usuário e verifique se ele contém a letra \"o\". Exiba uma mensagem informando o resultado.\n",
        "nome = input('digite um nome:')\n",
        "if \"o\" in nome:\n",
        "  print('o nome contém a letra \"o\".')\n",
        "else:\n",
        "  print('o nome nao contem a letra \"o\".')\n"
      ],
      "metadata": {
        "colab": {
          "base_uri": "https://localhost:8080/"
        },
        "id": "nSgovTDqTO2K",
        "outputId": "4a20cf2e-e5bc-4d38-94b9-1661482a52fe"
      },
      "execution_count": null,
      "outputs": [
        {
          "output_type": "stream",
          "name": "stdout",
          "text": [
            "digite um nome:Braun\n",
            "o nome nao contem a letra \"o\".\n"
          ]
        }
      ]
    },
    {
      "cell_type": "code",
      "source": [
        "#4. Solicite um número inteiro e verifique se ele termina em 0. Utilize operações matemáticas para essa verificação.\n",
        "num = int(input('digite um numero:'))\n",
        "if num % 10 == 0:\n",
        "  print('o numero termina em 0.')\n",
        "else:\n",
        "  print('o numero nao termina em 0.')"
      ],
      "metadata": {
        "id": "QzxvD8hlWHrJ",
        "colab": {
          "base_uri": "https://localhost:8080/"
        },
        "outputId": "63b8223d-2952-41a5-d636-2d8bb84ad37d"
      },
      "execution_count": 1,
      "outputs": [
        {
          "output_type": "stream",
          "name": "stdout",
          "text": [
            "digite um numero:5\n",
            "o numero nao termina em 0.\n"
          ]
        }
      ]
    },
    {
      "cell_type": "code",
      "source": [
        "#5. Peça a idade de uma pessoa e informe se ela tem idade suficiente para votar (considerando 16 anos como idade mínima)\n",
        "idade = int(input('digite sua idade:'))\n",
        "if idade >= 16:\n",
        "  print('voce tem idade suficiente para votar.')\n",
        "else:\n",
        "  print('voce nao tem idade suficiente para votar.')\n"
      ],
      "metadata": {
        "colab": {
          "base_uri": "https://localhost:8080/"
        },
        "id": "OV-Yow8Kpk1P",
        "outputId": "f99a4e08-e4c8-4391-9ca4-67bfe883b031"
      },
      "execution_count": 2,
      "outputs": [
        {
          "output_type": "stream",
          "name": "stdout",
          "text": [
            "digite sua idade:18\n",
            "voce tem idade suficiente para votar.\n"
          ]
        }
      ]
    },
    {
      "cell_type": "code",
      "source": [
        "#6. Solicite ao usuário que digite um único caractere e informe se ele é uma vogal (a, e, i, o, u).\n",
        "caractere = input('digite um caractere:')\n",
        "if caractere in 'aeiou':\n",
        "  print('o caractere é uma vogal.')\n",
        "else:\n",
        "  print('o caractere nao é uma vogal.')"
      ],
      "metadata": {
        "colab": {
          "base_uri": "https://localhost:8080/"
        },
        "id": "ZVArHf2dpyW3",
        "outputId": "60473048-593e-4372-b827-5ea7dd30a271"
      },
      "execution_count": 3,
      "outputs": [
        {
          "output_type": "stream",
          "name": "stdout",
          "text": [
            "digite um caractere:i\n",
            "o caractere é uma vogal.\n"
          ]
        }
      ]
    },
    {
      "cell_type": "code",
      "source": [
        "#7. Peça a temperatura atual em graus Celsius e classifique-a como \"abaixo de zero\", \"entre 0°C e 20°C\" ou \"acima de 20°C\".\n",
        "temperatura = float(input('digite a temperatura em graus celsius:'))\n",
        "if temperatura < 0:\n",
        "  print('a temperatura é abaixo de zero.')\n",
        "elif temperatura >= 0 and temperatura <= 20:\n",
        "  print('a temperatura é entre 0°C e 20°C.')\n",
        "else :\n",
        "  print('a temperatura é acima de 20°C.')"
      ],
      "metadata": {
        "colab": {
          "base_uri": "https://localhost:8080/"
        },
        "id": "ztP2ykgYp7X_",
        "outputId": "aa512682-c3b9-4355-c255-082b7e86a369"
      },
      "execution_count": 7,
      "outputs": [
        {
          "output_type": "stream",
          "name": "stdout",
          "text": [
            "digite a temperatura em graus celsius:36\n",
            "a temperatura é acima de 20°C.\n"
          ]
        }
      ]
    },
    {
      "cell_type": "code",
      "source": [
        "#8. Solicite um número e informe se ele é maior que 1000. Exiba uma mensagem apropriada.\n",
        "numero = int(input(\"Digite um número: \"))\n",
        "if numero > 1000:\n",
        "  print(\"O número é maior que 1000.\")\n",
        "else:\n",
        "  print(\"O número não é maior que 1000.\")"
      ],
      "metadata": {
        "colab": {
          "base_uri": "https://localhost:8080/"
        },
        "id": "qOpejiKRqarp",
        "outputId": "6ea0af19-a390-49a0-cdb7-7ab2d9b27ad0"
      },
      "execution_count": 8,
      "outputs": [
        {
          "output_type": "stream",
          "name": "stdout",
          "text": [
            "Digite um número: 55\n",
            "O número não é maior que 1000.\n"
          ]
        }
      ]
    },
    {
      "cell_type": "code",
      "source": [
        "#9. Peça um valor em reais e informe se ele é múltiplo de 50, ou seja, se o valor pode ser pago apenas com notas de R$50,00.\n",
        "valor = float(input(\"Digite um valor em reais: \"))\n",
        "if valor % 50 == 0:\n",
        "  print(\"O valor pode ser pago apenas com notas de R$50,00.\")\n",
        "  print(\"Notas de R$50,00: \", int(valor / 50))\n",
        "else:\n",
        "  print(\"O valor não pode ser pago apenas com notas de R$50,00.\")"
      ],
      "metadata": {
        "colab": {
          "base_uri": "https://localhost:8080/"
        },
        "id": "UgO99Yqaqt73",
        "outputId": "646545d4-2c5a-4746-aaca-25473b8665fe"
      },
      "execution_count": 13,
      "outputs": [
        {
          "output_type": "stream",
          "name": "stdout",
          "text": [
            "Digite um valor em reais: 100\n",
            "O valor pode ser pago apenas com notas de R$50,00.\n",
            "Notas de R$50,00:  2\n"
          ]
        }
      ]
    },
    {
      "cell_type": "code",
      "source": [
        "#10. Solicite um número ao usuário e verifique se ele está no intervalo entre 100 e 200 (inclusive). Informe o resultado.\n",
        "numero = int(input(\"Digite um número: \"))\n",
        "if numero >= 100 and numero <= 200:\n",
        "  print(\"O número está no intervalo entre 100 e 200.\")\n",
        "else:\n",
        "    print(\"O número não está no intervalo entre 100 e 200.\")\n"
      ],
      "metadata": {
        "colab": {
          "base_uri": "https://localhost:8080/"
        },
        "id": "JUxVPoFxquFZ",
        "outputId": "a0543110-75c0-4549-adc0-68de13b67301"
      },
      "execution_count": 16,
      "outputs": [
        {
          "output_type": "stream",
          "name": "stdout",
          "text": [
            "Digite um número: 69\n",
            "O número não está no intervalo entre 100 e 200.\n"
          ]
        }
      ]
    },
    {
      "cell_type": "code",
      "source": [
        "#11. Peça a altura de uma árvore em metros e informe se ela tem menos de 5 metros de altura.\n",
        "altura = float(input(\"Digite a altura da árvore em metros: \"))\n",
        "if altura < 5:\n",
        "  print(\"A árvore tem menos de 5 metros de altura.\")\n",
        "else:\n",
        "  print(\"A árvore tem 5 metros de altura ou mais.\")\n"
      ],
      "metadata": {
        "colab": {
          "base_uri": "https://localhost:8080/"
        },
        "id": "AB4NVeBOquMX",
        "outputId": "948aa86d-2728-4950-a355-e615257bf943"
      },
      "execution_count": 17,
      "outputs": [
        {
          "output_type": "stream",
          "name": "stdout",
          "text": [
            "Digite a altura da árvore em metros: 3\n",
            "A árvore tem menos de 5 metros de altura.\n"
          ]
        }
      ]
    },
    {
      "cell_type": "code",
      "source": [
        "#12. Solicite a temperatura de um líquido em graus Celsius e informe seu estado físico: \"congelado\" (≤0°C), \"líquido\" (0°C a 100°C) ou \"ebulição\" (>100°C).\n",
        "temperatura = float(input(\"Digite a temperatura do líquido em graus Celsius: \"))\n",
        "if temperatura <= 0:\n",
        "  print(\"O líquido está em estado congelado.\")\n",
        "elif temperatura > 0 and temperatura < 100:\n",
        "  print(\"O líquido está em estado líquido.\")\n",
        "else:\n",
        "  print(\"O líquido está em estado ebulição.\")"
      ],
      "metadata": {
        "colab": {
          "base_uri": "https://localhost:8080/"
        },
        "id": "sZgPAMNnquR4",
        "outputId": "36a479b1-b600-4dce-b177-cdbe35cd0150"
      },
      "execution_count": 19,
      "outputs": [
        {
          "output_type": "stream",
          "name": "stdout",
          "text": [
            "Digite a temperatura do líquido em graus Celsius: 33\n",
            "O líquido está em estado líquido.\n"
          ]
        }
      ]
    },
    {
      "cell_type": "code",
      "source": [
        "#13. Peça um número inteiro e verifique se ele é múltiplo de 10. Mostre uma mensagem indicando o resultado.\n",
        "numero = int(input(\"Digite um número inteiro: \"))\n",
        "if numero % 10 == 0:\n",
        "  print(\"O número é múltiplo de 10.\")\n",
        "else:\n",
        "  print(\"O número não é múltiplo de 10.\")\n"
      ],
      "metadata": {
        "colab": {
          "base_uri": "https://localhost:8080/"
        },
        "id": "-JdT-Jv1quYQ",
        "outputId": "8940f7f2-3b3a-4887-c6a2-eec5c1211b60"
      },
      "execution_count": 21,
      "outputs": [
        {
          "output_type": "stream",
          "name": "stdout",
          "text": [
            "Digite um número inteiro: 10\n",
            "O número é múltiplo de 10.\n"
          ]
        }
      ]
    },
    {
      "cell_type": "code",
      "source": [
        "#14. Solicite a nota final de dois alunos e exiba qual deles teve a maior pontuação.\n",
        "nota1 = float(input(\"Digite a nota do primeiro aluno: \"))\n",
        "nota2 = float(input(\"Digite a nota do segundo aluno: \"))\n",
        "if nota1 > nota2:\n",
        "  print(\"O primeiro aluno teve a maior pontuação.\")\n",
        "  print(\"Nota do primeiro aluno:\", nota1)\n",
        "  print(\"Nota do segundo aluno:\", nota2)"
      ],
      "metadata": {
        "colab": {
          "base_uri": "https://localhost:8080/"
        },
        "id": "4JCbaPeQrJuA",
        "outputId": "f2f4a177-1650-4ca9-9f6f-4b74c6e0437d"
      },
      "execution_count": 23,
      "outputs": [
        {
          "output_type": "stream",
          "name": "stdout",
          "text": [
            "Digite a nota do primeiro aluno: 6\n",
            "Digite a nota do segundo aluno: 4\n",
            "O primeiro aluno teve a maior pontuação.\n",
            "Nota do primeiro aluno: 6.0\n",
            "Nota do segundo aluno: 4.0\n"
          ]
        }
      ]
    },
    {
      "cell_type": "code",
      "source": [
        "#15. Peça o nome de uma fruta e verifique se ela contém a letra \"e\". Exiba o resultado.\n",
        "fruta = input(\"Digite o nome de uma fruta: \")\n",
        "if \"e\" in fruta:\n",
        "  print(\"A fruta contém a letra 'e'.\")\n",
        "else:\n",
        "  print(\"A fruta não contém a letra 'e'.\")"
      ],
      "metadata": {
        "colab": {
          "base_uri": "https://localhost:8080/"
        },
        "id": "3Em8JgbDrJ0_",
        "outputId": "2e804675-5032-41b1-f961-d20df64a9320"
      },
      "execution_count": 24,
      "outputs": [
        {
          "output_type": "stream",
          "name": "stdout",
          "text": [
            "Digite o nome de uma fruta: MORANGO\n",
            "A fruta não contém a letra 'e'.\n"
          ]
        }
      ]
    },
    {
      "cell_type": "code",
      "source": [
        "#16. Peça a velocidade de um carro em km/h e informe se ela ultrapassa o limite de 80 km/h.\n",
        "velocidade = float(input(\"Digite a velocidade do carro em km/h: \"))\n",
        "if velocidade > 80:\n",
        "  print(\"O carro ultrapassou o limite de velocidade de 80 km/h.\")\n",
        "else:\n",
        "  print(\"O carro está dentro do limite de velocidade de 80 km/h.\")"
      ],
      "metadata": {
        "colab": {
          "base_uri": "https://localhost:8080/"
        },
        "id": "J-fboNhUrJ8H",
        "outputId": "62925da1-08d8-423e-a6bc-6c737ddff716"
      },
      "execution_count": 28,
      "outputs": [
        {
          "output_type": "stream",
          "name": "stdout",
          "text": [
            "Digite a velocidade do carro em km/h: 50\n",
            "O carro está dentro do limite de velocidade de 80 km/h.\n"
          ]
        }
      ]
    },
    {
      "cell_type": "code",
      "source": [
        "#17. Solicite um número ao usuário e informe se ele é divisível por 4 ou por 5. Exiba uma mensagem adequada.\n",
        "numero = int(input(\"Digite um número: \"))\n",
        "if numero % 4 == 0:\n",
        "  print(\"O número é divisível por 4.\")\n",
        "elif numero % 5 == 0:\n",
        "  print(\"O número é divisível por 5.\")\n",
        "else:\n",
        "  print(\"O número não é divisível por 4 nem por 5.\")"
      ],
      "metadata": {
        "colab": {
          "base_uri": "https://localhost:8080/"
        },
        "id": "yl9Z2fxhrcuC",
        "outputId": "9415bd3f-285b-40dc-e496-7e69f18cdc06"
      },
      "execution_count": 31,
      "outputs": [
        {
          "output_type": "stream",
          "name": "stdout",
          "text": [
            "Digite um número: 45\n",
            "O número é divisível por 5.\n"
          ]
        }
      ]
    },
    {
      "cell_type": "code",
      "source": [
        "#18. Peça uma palavra ao usuário e verifique se ela contém a letra \"z\". Mostre uma mensagem informando o resultado.\n",
        "palavra = input(\"Digite uma palavra: \")\n",
        "if \"z\" in palavra:\n",
        "  print(\"A palavra contém a letra 'z'.\")\n",
        "else:\n",
        "  print(\"A palavra não contém a letra 'z'.\")"
      ],
      "metadata": {
        "colab": {
          "base_uri": "https://localhost:8080/"
        },
        "id": "Faygn3glrKAs",
        "outputId": "93d0f195-6aad-4203-8f4b-a2bc2fbf32b1"
      },
      "execution_count": 32,
      "outputs": [
        {
          "output_type": "stream",
          "name": "stdout",
          "text": [
            "Digite uma palavra: zebra\n",
            "A palavra contém a letra 'z'.\n"
          ]
        }
      ]
    },
    {
      "cell_type": "code",
      "source": [
        "#19. Solicite a quantidade de itens em um pedido e informe se ela é maior ou menor que 15 unidades.\n",
        "quantidade = int(input(\"Digite a quantidade de itens no pedido: \"))\n",
        "if quantidade > 15:\n",
        "  print(\"A quantidade de itens no pedido é maior que 15 unidades.\")\n",
        "else:\n",
        "  print(\"A quantidade de itens no pedido é menor ou igual a 15 unidades.\")"
      ],
      "metadata": {
        "colab": {
          "base_uri": "https://localhost:8080/"
        },
        "id": "PiBjFZgwrKE3",
        "outputId": "3cc21116-74e2-4efd-a5ce-eef2844114f5"
      },
      "execution_count": 33,
      "outputs": [
        {
          "output_type": "stream",
          "name": "stdout",
          "text": [
            "Digite a quantidade de itens no pedido: 24\n",
            "A quantidade de itens no pedido é maior que 15 unidades.\n"
          ]
        }
      ]
    },
    {
      "cell_type": "code",
      "source": [
        "#20. Peça um número e verifique se ele termina com o dígito 7. Informe o resultado.\n",
        "numero = int(input(\"Digite um número: \"))\n",
        "if numero % 10 == 7:\n",
        "  print(\"O número termina com o dígito 7.\")\n",
        "else:\n",
        "  print(\"O número não termina com o dígito 7.\")"
      ],
      "metadata": {
        "colab": {
          "base_uri": "https://localhost:8080/"
        },
        "id": "ucYjpGanrKJD",
        "outputId": "f3706f0f-0c80-4a35-dc32-8028248ce699"
      },
      "execution_count": 35,
      "outputs": [
        {
          "output_type": "stream",
          "name": "stdout",
          "text": [
            "Digite um número: 16\n",
            "O número não termina com o dígito 7.\n"
          ]
        }
      ]
    },
    {
      "cell_type": "code",
      "source": [
        "#21. Solicite o ano de fabricação de um veículo e informe se ele tem mais de 20 anos.\n",
        "ano_fabricacao = int(input(\"Digite o ano de fabricação do veículo: \"))\n",
        "ano_atual = 2023\n",
        "if ano_atual - ano_fabricacao > 20:\n",
        "  print(\"O veículo tem mais de 20 anos.\")\n",
        "elif ano_atual - ano_fabricacao == 20:\n",
        "  print(\"O veículo tem 20 anos.\")\n",
        "else:\n",
        "  print(\"O veículo tem menos de 20 anos.\")"
      ],
      "metadata": {
        "colab": {
          "base_uri": "https://localhost:8080/"
        },
        "id": "lcbD3Uixtfag",
        "outputId": "da9f576b-040f-463f-bf3f-2099af03ff39"
      },
      "execution_count": 36,
      "outputs": [
        {
          "output_type": "stream",
          "name": "stdout",
          "text": [
            "Digite o ano de fabricação do veículo: 2000\n",
            "O veículo tem mais de 20 anos.\n"
          ]
        }
      ]
    },
    {
      "cell_type": "code",
      "source": [
        "#22. Peça um número de telefone e verifique se ele contém o dígito 9. Exiba o resultado.\n",
        "telefone = input(\"Digite um número de telefone: \")\n",
        "if \"9\" in telefone:\n",
        "  print(\"O número de telefone contém o dígito 9.\")\n",
        "else:\n",
        "  print(\"O número de telefone não contém o dígito 9.\")"
      ],
      "metadata": {
        "colab": {
          "base_uri": "https://localhost:8080/"
        },
        "id": "2LK2qoeNtfhD",
        "outputId": "03b6f0db-dfaf-49d7-adc3-7de445dc3d02"
      },
      "execution_count": 38,
      "outputs": [
        {
          "output_type": "stream",
          "name": "stdout",
          "text": [
            "Digite um número de telefone: 12345678\n",
            "O número de telefone não contém o dígito 9.\n"
          ]
        }
      ]
    },
    {
      "cell_type": "code",
      "source": [
        "#23. Solicite um número e informe se ele possui exatamente 2 dígitos.\n",
        "numero = int(input(\"Digite um número: \"))\n",
        "if numero >= 10 and numero <= 99:\n",
        "  print(\"O número possui exatamente 2 dígitos.\")\n",
        "else:\n",
        "  print(\"O número não possui exatamente 2 dígitos.\")"
      ],
      "metadata": {
        "colab": {
          "base_uri": "https://localhost:8080/"
        },
        "id": "yxZMSgMdtfmC",
        "outputId": "9cf68235-0c1a-4b42-8f98-c9502be8885a"
      },
      "execution_count": 39,
      "outputs": [
        {
          "output_type": "stream",
          "name": "stdout",
          "text": [
            "Digite um número: 123\n",
            "O número não possui exatamente 2 dígitos.\n"
          ]
        }
      ]
    },
    {
      "cell_type": "code",
      "source": [
        "#24. Peça o preço de um ingresso e aplique um desconto de 15%. Verifique se o preço com desconto ainda é superior a R$50,00 e exiba uma mensagem informando o resultado.\n",
        "preco_ingresso = float(input(\"Digite o preço do ingresso: \"))\n",
        "desconto = 0.15\n",
        "preco_com_desconto = preco_ingresso * (1 - desconto)\n",
        "if preco_com_desconto > 50:\n",
        "  print(\"O preço com desconto ainda é superior a R$50,00.\")\n",
        "else:\n",
        "  print(\"O preço com desconto não é superior a R$50,00.\")"
      ],
      "metadata": {
        "id": "OO9WDL3RtfqN"
      },
      "execution_count": null,
      "outputs": []
    },
    {
      "cell_type": "code",
      "source": [
        "#25. Solicite um número ao usuário e informe se ele é divisível por 8. Exiba o resultado.\n",
        "numero = int(input(\"Digite um número: \"))\n",
        "if numero % 8 == 0:\n",
        "  print(\"O número é divisível por 8.\")\n",
        "else:\n",
        "  print(\"O número não é divisível por 8.\")"
      ],
      "metadata": {
        "colab": {
          "base_uri": "https://localhost:8080/"
        },
        "id": "8elTiqVCtft3",
        "outputId": "684ce7fe-1e00-402c-b794-f467c1512b9a"
      },
      "execution_count": 40,
      "outputs": [
        {
          "output_type": "stream",
          "name": "stdout",
          "text": [
            "Digite um número: 40\n",
            "O número é divisível por 8.\n"
          ]
        }
      ]
    },
    {
      "cell_type": "code",
      "source": [
        "#26. Peça um número e verifique se ele é divisível tanto por 5 quanto por 9. Informe o resultado.\n",
        "numero = int(input(\"Digite um número: \"))\n",
        "if numero % 5 == 0 and numero % 9 == 0:\n",
        "  print(\"O número é divisível tanto por 5 quanto por 9.\")\n",
        "else:\n",
        "  print(\"O número não é divisível tanto por 5 quanto por 9.\")"
      ],
      "metadata": {
        "id": "BNdQF2zxtgCu"
      },
      "execution_count": null,
      "outputs": []
    },
    {
      "cell_type": "code",
      "source": [
        "#27. Solicite o peso de um objeto em kg e informe se ele pesa mais de 25 kg.\n",
        "peso = float(input(\"Digite o peso do objeto em kg: \"))\n",
        "if peso > 25:\n",
        "  print(\"O objeto pesa mais de 25 kg.\")\n",
        "else:\n",
        "  print(\"O objeto não pesa mais de 25 kg.\")"
      ],
      "metadata": {
        "id": "9siyd1nYtgGI"
      },
      "execution_count": null,
      "outputs": []
    },
    {
      "cell_type": "code",
      "source": [
        "#28. Peça uma letra ao usuário e informe se ela é uma vogal ou uma consoante. Considere letras minúsculas e maiúsculas.\n",
        "letra = input(\"Digite uma letra: \")\n",
        "if letra.lower() in \"aeiou\":\n",
        "  print(\"A letra é uma vogal.\")\n",
        "else:\n",
        "  print(\"A letra é uma consoante.\")"
      ],
      "metadata": {
        "id": "OVS9FBxdt83A"
      },
      "execution_count": null,
      "outputs": []
    },
    {
      "cell_type": "code",
      "source": [
        "#29. Solicite a velocidade de um veículo e informe se ela está abaixo, dentro ou acima do limite de 60 km/h.\n",
        "velocidade = float(input(\"Digite a velocidade do veículo em km/h: \"))\n",
        "if velocidade < 60:\n",
        "  print(\"O veículo está abaixo do limite de velocidade de 60 km/h.\")\n",
        "elif velocidade == 60:\n",
        "  print(\"O veículo está na velocidade limite de 60 km/h.\")\n",
        "else:\n",
        "  print(\"O veículo está acima do limite de velocidade de 60 km/h.\")"
      ],
      "metadata": {
        "colab": {
          "base_uri": "https://localhost:8080/"
        },
        "id": "uvborYo_t9Aw",
        "outputId": "d67fc812-9726-455a-d721-7300b9821a81"
      },
      "execution_count": 42,
      "outputs": [
        {
          "output_type": "stream",
          "name": "stdout",
          "text": [
            "Digite a velocidade do veículo em km/h: 50\n",
            "O veículo está abaixo do limite de velocidade de 60 km/h.\n"
          ]
        }
      ]
    },
    {
      "cell_type": "code",
      "source": [
        "#30. Peça um valor em reais ao usuário e verifique se ele é suficiente para comprar um produto que custa R$200,00. Exiba uma mensagem com a resposta.\n",
        "valor = float(input(\"Digite o valor em reais: \"))\n",
        "if valor >= 200:\n",
        "  print(\"O valor é suficiente para comprar o produto de R$200,00.\")\n",
        "else:\n",
        "  print(\"O valor não é suficiente para comprar o produto de R$200,00.\")"
      ],
      "metadata": {
        "colab": {
          "base_uri": "https://localhost:8080/"
        },
        "id": "hEBj0EJJt9Rv",
        "outputId": "1ac1c117-a8a4-4430-d3a9-6bbbf45fc0ef"
      },
      "execution_count": 41,
      "outputs": [
        {
          "output_type": "stream",
          "name": "stdout",
          "text": [
            "Digite o valor em reais: 150\n",
            "O valor não é suficiente para comprar o produto de R$200,00.\n"
          ]
        }
      ]
    }
  ]
}