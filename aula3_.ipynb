{
  "nbformat": 4,
  "nbformat_minor": 0,
  "metadata": {
    "colab": {
      "provenance": [],
      "authorship_tag": "ABX9TyO8Vw6oErzuGuCWyLKv65Ih",
      "include_colab_link": true
    },
    "kernelspec": {
      "name": "python3",
      "display_name": "Python 3"
    },
    "language_info": {
      "name": "python"
    }
  },
  "cells": [
    {
      "cell_type": "markdown",
      "metadata": {
        "id": "view-in-github",
        "colab_type": "text"
      },
      "source": [
        "<a href=\"https://colab.research.google.com/github/rybraun06/ALGESTDADOS_20251/blob/main/aula3_.ipynb\" target=\"_parent\"><img src=\"https://colab.research.google.com/assets/colab-badge.svg\" alt=\"Open In Colab\"/></a>"
      ]
    },
    {
      "cell_type": "code",
      "execution_count": 8,
      "metadata": {
        "colab": {
          "base_uri": "https://localhost:8080/"
        },
        "id": "Jys_x5XavuC2",
        "outputId": "15e49e63-b710-4eb9-cef3-345dcb32b803"
      },
      "outputs": [
        {
          "output_type": "stream",
          "name": "stdout",
          "text": [
            "data e hora atual 2025-03-07 15:23:41.533380-03:00\n",
            "formato padrão: 2025-03-07 15:23:1741361021\n",
            "data por extenso: 07 de March de 2025\n",
            "hora formatada: 15:23:41\n"
          ]
        }
      ],
      "source": [
        "from datetime import datetime, date, time, timedelta\n",
        "import pytz\n",
        "fuso_horario = pytz.timezone(\"America/Sao_Paulo\")\n",
        "data_hora_atual = datetime.now(fuso_horario)\n",
        "print('data e hora atual', data_hora_atual)\n",
        "print(\"formato padrão:\", data_hora_atual.strftime(\"%Y-%m-%d %H:%M:%s\"))\n",
        "print(\"data por extenso:\", data_hora_atual.strftime(\"%d de %B de %Y\"))\n",
        "print(\"hora formatada:\",data_hora_atual.strftime(\"%H:%M:%S\"))\n",
        "\n",
        "\n"
      ]
    },
    {
      "cell_type": "code",
      "source": [
        "# crie algoritmos usando pyton para:\n",
        "from datetime import datetime, date, time, timedelta\n",
        "import pytz\n",
        "fuso_horario = pytz.timezone(\"America/São_Paulo\")\n",
        "fuso_horario = pytz.timezone(\"America/New_York\")\n",
        "fuso_horario = pytz.timezone(\"Asia/Tokyo\")\n",
        "nome =  input ('qual o seu nome ')\n",
        "data_nasc = ('qual ano você nasceu? (DD/MM/YYYY)'\n",
        "data_conv = datetime.strftime(data_nasc,(%d/%m/%Y)\n",
        "hoje =\n",
        "\n"
      ],
      "metadata": {
        "id": "R87cN5if8-u2"
      },
      "execution_count": null,
      "outputs": []
    }
  ]
}