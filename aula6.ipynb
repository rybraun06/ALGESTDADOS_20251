{
  "nbformat": 4,
  "nbformat_minor": 0,
  "metadata": {
    "colab": {
      "provenance": [],
      "authorship_tag": "ABX9TyNDkjGyT6BbZeUI7AktvARz",
      "include_colab_link": true
    },
    "kernelspec": {
      "name": "python3",
      "display_name": "Python 3"
    },
    "language_info": {
      "name": "python"
    }
  },
  "cells": [
    {
      "cell_type": "markdown",
      "metadata": {
        "id": "view-in-github",
        "colab_type": "text"
      },
      "source": [
        "<a href=\"https://colab.research.google.com/github/rybraun06/ALGESTDADOS_20251/blob/main/aula6.ipynb\" target=\"_parent\"><img src=\"https://colab.research.google.com/assets/colab-badge.svg\" alt=\"Open In Colab\"/></a>"
      ]
    },
    {
      "cell_type": "code",
      "source": [
        "#Exemplo:\n",
        "contador = 0\n",
        "while contador < 5:\n",
        "    print(f\"Iteração {contador}\")\n",
        "    contador += 1"
      ],
      "metadata": {
        "colab": {
          "base_uri": "https://localhost:8080/"
        },
        "id": "W9lHN0rs8Xc0",
        "outputId": "1edd913d-c5b3-4b54-9b29-70a496e2e44b"
      },
      "execution_count": 2,
      "outputs": [
        {
          "output_type": "stream",
          "name": "stdout",
          "text": [
            "Iteração 0\n",
            "Iteração 1\n",
            "Iteração 2\n",
            "Iteração 3\n",
            "Iteração 4\n"
          ]
        }
      ]
    },
    {
      "cell_type": "code",
      "source": [
        "#1-Escreva um programa que imprima os números de 1 a 10 utilizando um loop while.\n",
        "i = 1\n",
        "while i <= 10:\n",
        "    print(f\"Valor de i: {i}\")\n",
        "    i += 1"
      ],
      "metadata": {
        "colab": {
          "base_uri": "https://localhost:8080/"
        },
        "id": "OEyrryvA8Y0s",
        "outputId": "f5728600-7b25-4d3e-a0c0-62b8fc33fa08"
      },
      "execution_count": 4,
      "outputs": [
        {
          "output_type": "stream",
          "name": "stdout",
          "text": [
            "Valor de i: 1\n",
            "Valor de i: 2\n",
            "Valor de i: 3\n",
            "Valor de i: 4\n",
            "Valor de i: 5\n",
            "Valor de i: 6\n",
            "Valor de i: 7\n",
            "Valor de i: 8\n",
            "Valor de i: 9\n",
            "Valor de i: 10\n"
          ]
        }
      ]
    },
    {
      "cell_type": "code",
      "source": [
        "#2-Escreva um programa que imprima os números de 1 a 10 utilizando um loop for com range().\n",
        "for i in range(1, 11):\n",
        "    print(f\"Valor de i: {i}\")"
      ],
      "metadata": {
        "colab": {
          "base_uri": "https://localhost:8080/"
        },
        "id": "Ib1pgBab84bd",
        "outputId": "1f725217-df8f-4506-8e53-159b40703dee"
      },
      "execution_count": 5,
      "outputs": [
        {
          "output_type": "stream",
          "name": "stdout",
          "text": [
            "Valor de i: 1\n",
            "Valor de i: 2\n",
            "Valor de i: 3\n",
            "Valor de i: 4\n",
            "Valor de i: 5\n",
            "Valor de i: 6\n",
            "Valor de i: 7\n",
            "Valor de i: 8\n",
            "Valor de i: 9\n",
            "Valor de i: 10\n"
          ]
        }
      ]
    },
    {
      "cell_type": "code",
      "source": [
        "#3-Crie um loop for que percorra uma lista de frutas e imprima cada uma delas.\n",
        "frutas = [\"maçã\", \"banana\", \"laranja\", \"uva\"]\n",
        "for fruta in frutas:\n",
        "    print(fruta)"
      ],
      "metadata": {
        "colab": {
          "base_uri": "https://localhost:8080/"
        },
        "id": "lyAnPovdBBZa",
        "outputId": "24396dce-9154-43f0-8a3e-32f96df7a913"
      },
      "execution_count": 23,
      "outputs": [
        {
          "output_type": "stream",
          "name": "stdout",
          "text": [
            "maçã\n",
            "banana\n",
            "laranja\n",
            "uva\n"
          ]
        }
      ]
    },
    {
      "cell_type": "code",
      "source": [
        "#4-Utilize um while para imprimir os números pares de 0 a 20\n",
        "numero = 0\n",
        "while numero <= 20:\n",
        "    if numero % 2 == 0:\n",
        "        print(numero)\n",
        "    numero += 1"
      ],
      "metadata": {
        "colab": {
          "base_uri": "https://localhost:8080/"
        },
        "id": "pMRO683ABJO0",
        "outputId": "1ed930d2-d704-462b-f976-797d11dfa2c6"
      },
      "execution_count": 24,
      "outputs": [
        {
          "output_type": "stream",
          "name": "stdout",
          "text": [
            "0\n",
            "2\n",
            "4\n",
            "6\n",
            "8\n",
            "10\n",
            "12\n",
            "14\n",
            "16\n",
            "18\n",
            "20\n"
          ]
        }
      ]
    },
    {
      "cell_type": "code",
      "source": [
        "#5-Crie um loop for que utilize enumerate() para exibir os índices e valores de uma lista de nomes.\n",
        "# loop for que utilize enumerate() para exibir os índices e valores de uma lista de nomes.\n",
        "nomes = [\"Alice\", \"Bob\", \"Charlie\", \"David\"]\n",
        "for indice, nome in enumerate(nomes):\n",
        "    print(f\"Índice: {indice}, Nome: {nome}\")"
      ],
      "metadata": {
        "colab": {
          "base_uri": "https://localhost:8080/"
        },
        "id": "VtUrolDRCtVW",
        "outputId": "ec07506b-c0ba-49f1-bec5-85c42b6f3077"
      },
      "execution_count": 28,
      "outputs": [
        {
          "output_type": "stream",
          "name": "stdout",
          "text": [
            "Índice: 0, Nome: Alice\n",
            "Índice: 1, Nome: Bob\n",
            "Índice: 2, Nome: Charlie\n",
            "Índice: 3, Nome: David\n"
          ]
        }
      ]
    },
    {
      "cell_type": "code",
      "source": [
        "#6-Escreva um programa que peça um número ao usuário e continue pedindo até que o usuário digite um número positivo.\n",
        "while True:\n",
        "    numero = int(input(\"Digite um valor: \"))\n",
        "    if numero >= 0:\n",
        "        break\n",
        ""
      ],
      "metadata": {
        "colab": {
          "base_uri": "https://localhost:8080/"
        },
        "id": "JeH-ZrCHDGZN",
        "outputId": "b859ce7c-7c25-4c8e-f15e-1b32d97828e7"
      },
      "execution_count": 40,
      "outputs": [
        {
          "name": "stdout",
          "output_type": "stream",
          "text": [
            "Digite um valor: 22\n"
          ]
        }
      ]
    },
    {
      "cell_type": "code",
      "source": [
        "#7- Escreva um loop for que conte de 10 até 0 e, ao final, imprima \"Fim!\".\n",
        "# loop for que conte de 10 até 0 e, ao final, imprima \"Fim!\".\n",
        "for i in range(10, -1, -1):\n",
        "    print(i)\n",
        "print(\"Fim!\")"
      ],
      "metadata": {
        "colab": {
          "base_uri": "https://localhost:8080/"
        },
        "id": "rXGJDeO2FXdt",
        "outputId": "3cda666a-2504-43ea-b790-78764033802a"
      },
      "execution_count": 42,
      "outputs": [
        {
          "output_type": "stream",
          "name": "stdout",
          "text": [
            "10\n",
            "9\n",
            "8\n",
            "7\n",
            "6\n",
            "5\n",
            "4\n",
            "3\n",
            "2\n",
            "1\n",
            "0\n",
            "Fim!\n"
          ]
        }
      ]
    },
    {
      "cell_type": "code",
      "source": [
        "#8-Escreva um programa que use um while para calcular a soma dos números de 1 a 100.\n",
        "soma = 0\n",
        "numero = 1\n",
        "while numero <= 100:\n",
        "    soma += numero\n",
        "    numero += 1\n",
        "print(soma)"
      ],
      "metadata": {
        "colab": {
          "base_uri": "https://localhost:8080/"
        },
        "id": "UwYnjaHSLhR7",
        "outputId": "ba0db445-552a-482e-8dd2-2abd451228fa"
      },
      "execution_count": 52,
      "outputs": [
        {
          "output_type": "stream",
          "name": "stdout",
          "text": [
            "5050\n"
          ]
        }
      ]
    },
    {
      "cell_type": "code",
      "source": [
        "#9-Modifique o exercício anterior para parar a soma se o total ultrapassar 1000, usando break.\n",
        "n= 1\n",
        "soma = 0\n",
        "while n <= 1000:\n",
        "    soma += n\n",
        "    n += 1\n",
        "print(soma)\n"
      ],
      "metadata": {
        "colab": {
          "base_uri": "https://localhost:8080/"
        },
        "id": "R1Ck3cItL7Ya",
        "outputId": "aa609b48-76c0-4624-9091-5ad0dd19249b"
      },
      "execution_count": 56,
      "outputs": [
        {
          "output_type": "stream",
          "name": "stdout",
          "text": [
            "500500\n"
          ]
        }
      ]
    },
    {
      "cell_type": "code",
      "source": [
        "#10-Crie um programa que peça ao usuário para digitar palavras e as adicione a uma lista até que ele digite \"sair\".\n",
        "lista = []\n",
        "while True:\n",
        "    palavra = input(\"Digite uma palavra (ou 'sair' para encerrar): \")\n",
        "    if palavra.lower() == \"sair\":\n",
        "        break\n",
        "    lista.append(palavra)\n",
        "print(\"Lista de palavras:\", lista)\n"
      ],
      "metadata": {
        "colab": {
          "base_uri": "https://localhost:8080/"
        },
        "id": "y6UTLntaNjFN",
        "outputId": "5c2370d1-4490-4002-f0d6-b438f4a4842e"
      },
      "execution_count": 60,
      "outputs": [
        {
          "output_type": "stream",
          "name": "stdout",
          "text": [
            "Digite uma palavra (ou 'sair' para encerrar): copo\n",
            "Digite uma palavra (ou 'sair' para encerrar): agua\n",
            "Digite uma palavra (ou 'sair' para encerrar): sair\n",
            "Lista de palavras: ['copo', 'agua']\n"
          ]
        }
      ]
    }
  ]
}