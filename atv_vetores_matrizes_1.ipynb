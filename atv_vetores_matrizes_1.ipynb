{
  "nbformat": 4,
  "nbformat_minor": 0,
  "metadata": {
    "colab": {
      "provenance": [],
      "authorship_tag": "ABX9TyNLETsMVSQgDzcZWSnOZPod",
      "include_colab_link": true
    },
    "kernelspec": {
      "name": "python3",
      "display_name": "Python 3"
    },
    "language_info": {
      "name": "python"
    }
  },
  "cells": [
    {
      "cell_type": "markdown",
      "metadata": {
        "id": "view-in-github",
        "colab_type": "text"
      },
      "source": [
        "<a href=\"https://colab.research.google.com/github/rybraun06/ALGESTDADOS_20251/blob/main/atv_vetores_matrizes_1.ipynb\" target=\"_parent\"><img src=\"https://colab.research.google.com/assets/colab-badge.svg\" alt=\"Open In Colab\"/></a>"
      ]
    },
    {
      "cell_type": "code",
      "source": [
        "#1 - Crie um vetor com 10 números inteiros fornecidos pelo usuário e exiba a soma de todos os elementos.\n",
        "numeros = []\n",
        "for x in range(10):\n",
        "    numero = int(input(\"Digite um número: \"))\n",
        "    numeros.append(numero)\n",
        "soma = sum(numeros)\n",
        "print(\"A soma dos números é:\", soma)"
      ],
      "metadata": {
        "colab": {
          "base_uri": "https://localhost:8080/"
        },
        "id": "V84wQwhfcg6m",
        "outputId": "44fa7ab8-3407-4e86-95f3-7ce8a365f00b"
      },
      "execution_count": null,
      "outputs": [
        {
          "output_type": "stream",
          "name": "stdout",
          "text": [
            "Digite um número: 7\n",
            "Digite um número: 9\n",
            "Digite um número: 5\n",
            "Digite um número: 1\n",
            "Digite um número: 3\n",
            "Digite um número: 2\n",
            "Digite um número: 10\n",
            "Digite um número: 4\n",
            "Digite um número: 6\n",
            "Digite um número: 7\n",
            "A soma dos números é: 54\n"
          ]
        }
      ]
    },
    {
      "cell_type": "code",
      "source": [
        "#2 - Leia um vetor com 5 nomes de pessoas e exiba os nomes em ordem alfabética.\n",
        "nomes = []\n",
        "for x in range(5):\n",
        "    nome = input(\"Digite um nome: \")\n",
        "    nomes.append(nome)\n",
        "nomes.sort()\n",
        "print(\"Nomes em ordem alfabética:\", nomes)\n"
      ],
      "metadata": {
        "colab": {
          "base_uri": "https://localhost:8080/"
        },
        "id": "U9JzeCWef05_",
        "outputId": "13214d40-24b5-4867-8e7a-3cfab014980c"
      },
      "execution_count": null,
      "outputs": [
        {
          "output_type": "stream",
          "name": "stdout",
          "text": [
            "Digite um nome: Rianny\n",
            "Digite um nome: Braun\n",
            "Digite um nome: maffioletti\n",
            "Digite um nome: dinheiro\n",
            "Digite um nome: dinheiro\n",
            "Nomes em ordem alfabética: ['Braun', 'Rianny', 'dinheiro', 'dinheiro', 'maffioletti']\n"
          ]
        }
      ]
    },
    {
      "cell_type": "code",
      "source": [
        "#3 - Dado um vetor com 8 números inteiros, encontre e exiba o maior e o menor valor.\n",
        "numero = []\n",
        "for x in range(8):\n",
        "    numero.append(int(input(\"Digite um número: \")))\n",
        "maior = max(numero)\n",
        "menor = min(numero)\n",
        "print(\"O maior número é:\", maior)\n",
        "print(\"O menor número é:\", menor)"
      ],
      "metadata": {
        "id": "zv5BWKQdjq__",
        "colab": {
          "base_uri": "https://localhost:8080/"
        },
        "outputId": "0358bb53-df9c-4a33-eac4-1e2485cd4202"
      },
      "execution_count": 1,
      "outputs": [
        {
          "output_type": "stream",
          "name": "stdout",
          "text": [
            "Digite um número: 5\n",
            "Digite um número: 4\n",
            "Digite um número: 9\n",
            "Digite um número: 8\n",
            "Digite um número: 7\n",
            "Digite um número: 6\n",
            "Digite um número: 3\n",
            "Digite um número: 2\n",
            "O maior número é: 9\n",
            "O menor número é: 2\n"
          ]
        }
      ]
    },
    {
      "cell_type": "code",
      "source": [
        "#4 - Peça ao usuário 10 números e armazene em um vetor. Em seguida, exiba apenas os números pares.\n",
        "numeros = []\n",
        "for x in range(10):\n",
        "    numero = int(input(\"Digite um número: \"))\n",
        "    numeros.append(numero)\n",
        "pares = [x for x in numeros if x % 2 == 0]\n",
        "print(\"Números pares:\", pares)"
      ],
      "metadata": {
        "colab": {
          "base_uri": "https://localhost:8080/"
        },
        "id": "FPuFZHQuvb_W",
        "outputId": "13c73bbd-7d00-457e-af26-494829a6f9fc"
      },
      "execution_count": 2,
      "outputs": [
        {
          "output_type": "stream",
          "name": "stdout",
          "text": [
            "Digite um número: 5\n",
            "Digite um número: 9\n",
            "Digite um número: 3\n",
            "Digite um número: 4\n",
            "Digite um número: 7\n",
            "Digite um número: 1\n",
            "Digite um número: 2\n",
            "Digite um número: 6\n",
            "Digite um número: 7\n",
            "Digite um número: 5\n",
            "Números pares: [4, 2, 6]\n"
          ]
        }
      ]
    },
    {
      "cell_type": "code",
      "source": [
        "#5 - Leia um vetor com 6 números reais e exiba a média aritmética dos valores.\n",
        "numeros = []\n",
        "for x in range(6):\n",
        "    numero = float(input(\"Digite um número: \"))\n",
        "    numeros.append(numero)\n",
        "media = sum(numeros) / len(numeros)\n",
        "print(\"A média dos números é:\", media)"
      ],
      "metadata": {
        "colab": {
          "base_uri": "https://localhost:8080/"
        },
        "id": "NLl0A3slvt3W",
        "outputId": "c4dd74a7-1eaa-47ac-bab6-be72e55b67e7"
      },
      "execution_count": 3,
      "outputs": [
        {
          "output_type": "stream",
          "name": "stdout",
          "text": [
            "Digite um número: 6\n",
            "Digite um número: 5\n",
            "Digite um número: 4\n",
            "Digite um número: 3\n",
            "Digite um número: 2\n",
            "Digite um número: 1\n",
            "A média dos números é: 3.5\n"
          ]
        }
      ]
    },
    {
      "cell_type": "code",
      "source": [
        "#6 - Crie um vetor de 10 elementos e conte quantos são maiores que 50.\n",
        "elementos = []\n",
        "for x in range(10):\n",
        "    elemento = int(input(\"Digite um elemento: \"))\n",
        "    elementos.append(elemento)\n",
        "    maiores_que_50 = [x for x in elementos if x > 50]\n",
        "print(\"Quantidade de elementos maiores que 50:\", len(maiores_que_50))"
      ],
      "metadata": {
        "colab": {
          "base_uri": "https://localhost:8080/"
        },
        "id": "wIq7W0Ohv2mV",
        "outputId": "eecccd1b-331c-4484-b86f-2e88be299029"
      },
      "execution_count": 5,
      "outputs": [
        {
          "output_type": "stream",
          "name": "stdout",
          "text": [
            "Digite um elemento: 9\n",
            "Digite um elemento: 8\n",
            "Digite um elemento: 7\n",
            "Digite um elemento: 5\n",
            "Digite um elemento: 6\n",
            "Digite um elemento: 4\n",
            "Digite um elemento: 2\n",
            "Digite um elemento: 1\n",
            "Digite um elemento: 3\n",
            "Digite um elemento: 0\n",
            "Quantidade de elementos maiores que 50: 0\n"
          ]
        }
      ]
    },
    {
      "cell_type": "code",
      "source": [
        "#7 - Crie um vetor com 7 elementos e exiba os valores ao contrário (do último para o primeiro).\n",
        "elementos = []\n",
        "for x in range(7):\n",
        "    elemento = int(input(\"Digite um elemento: \"))\n",
        "    elementos.append(elemento)\n",
        "elementos.reverse()\n",
        "print(\"Elementos ao contrário:\", elementos)"
      ],
      "metadata": {
        "colab": {
          "base_uri": "https://localhost:8080/"
        },
        "id": "D-L9_ZjQwQTV",
        "outputId": "84c51b2d-8d5c-4cfb-ddd2-4d6a22e04666"
      },
      "execution_count": 1,
      "outputs": [
        {
          "output_type": "stream",
          "name": "stdout",
          "text": [
            "Digite um elemento: 7\n",
            "Digite um elemento: 6\n",
            "Digite um elemento: 4\n",
            "Digite um elemento: 3\n",
            "Digite um elemento: 5\n",
            "Digite um elemento: 2\n",
            "Digite um elemento: 1\n",
            "Elementos ao contrário: [1, 2, 5, 3, 4, 6, 7]\n"
          ]
        }
      ]
    },
    {
      "cell_type": "code",
      "source": [
        "#8 - Leia um vetor com 5 elementos e verifique se há elementos repetidos. Exiba os valores duplicados.\n",
        "elementos = []\n",
        "for x in range(5):\n",
        "    elemento = int(input(\"Digite um elemento: \"))\n",
        "    elementos.append(elemento)\n",
        "repetidos = [x for x in elementos if elementos.count(x) > 1]\n",
        "print(\"Elementos repetidos:\", repetidos)"
      ],
      "metadata": {
        "colab": {
          "base_uri": "https://localhost:8080/"
        },
        "id": "gfaIVOPWwfgV",
        "outputId": "f5d134bd-55a8-42b4-e161-cfc2b1ca25d1"
      },
      "execution_count": 3,
      "outputs": [
        {
          "output_type": "stream",
          "name": "stdout",
          "text": [
            "Digite um elemento: 4\n",
            "Digite um elemento: 4\n",
            "Digite um elemento: 4\n",
            "Digite um elemento: 3\n",
            "Digite um elemento: 2\n",
            "Elementos repetidos: [4, 4, 4]\n"
          ]
        }
      ]
    },
    {
      "cell_type": "code",
      "source": [
        "#9 - Crie um vetor com 10 números inteiros aleatórios entre 1 e 100. Em seguida, exiba os números ordenados.\n",
        "import random\n",
        "numeros = [random.randint(1, 100) for x in range(10)]\n",
        "numeros.sort()\n",
        "print(\"Números ordenados:\", numeros)"
      ],
      "metadata": {
        "colab": {
          "base_uri": "https://localhost:8080/"
        },
        "id": "qunYi9Zwwt8-",
        "outputId": "0400aac5-e3cc-442a-acd7-9ed453e42458"
      },
      "execution_count": 5,
      "outputs": [
        {
          "output_type": "stream",
          "name": "stdout",
          "text": [
            "Números ordenados: [15, 15, 16, 18, 18, 50, 75, 83, 88, 92]\n"
          ]
        }
      ]
    },
    {
      "cell_type": "code",
      "source": [
        "#10 - Leia um vetor com 6 elementos inteiros e solicite ao usuário um valor. Verifique se esse valor existe no vetor.\n",
        "elementos = []\n",
        "for x in range(6):\n",
        "    elemento = int(input(\"Digite um elemento: \"))\n",
        "    elementos.append(elemento)\n",
        "valor = int(input(\"Digite um valor: \"))\n",
        "if valor in elementos:\n",
        "    print(\"O valor existe no vetor.\")\n",
        "else:\n",
        "        print(\"O valor não existe no vetor.\")"
      ],
      "metadata": {
        "colab": {
          "base_uri": "https://localhost:8080/"
        },
        "id": "JVVhKzVow4k9",
        "outputId": "fb6dfac0-808f-4479-f413-b74a34af4c77"
      },
      "execution_count": 14,
      "outputs": [
        {
          "output_type": "stream",
          "name": "stdout",
          "text": [
            "Digite um elemento: 88\n",
            "Digite um elemento: 90\n",
            "Digite um elemento: 50\n",
            "Digite um elemento: 22\n",
            "Digite um elemento: 30\n",
            "Digite um elemento: 44\n",
            "Digite um valor: 30\n",
            "O valor existe no vetor.\n"
          ]
        }
      ]
    },
    {
      "cell_type": "code",
      "source": [
        "#11 - Crie uma matriz 3x3 e preencha com valores fornecidos pelo usuário. Em seguida, exiba a matriz formatada.\n"
      ],
      "metadata": {
        "id": "ROgrPjlAxWem"
      },
      "execution_count": null,
      "outputs": []
    }
  ]
}