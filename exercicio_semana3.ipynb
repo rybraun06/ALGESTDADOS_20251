{
  "nbformat": 4,
  "nbformat_minor": 0,
  "metadata": {
    "colab": {
      "provenance": [],
      "authorship_tag": "ABX9TyPf5nCpVWOtMSWpSglzxhOk",
      "include_colab_link": true
    },
    "kernelspec": {
      "name": "python3",
      "display_name": "Python 3"
    },
    "language_info": {
      "name": "python"
    }
  },
  "cells": [
    {
      "cell_type": "markdown",
      "metadata": {
        "id": "view-in-github",
        "colab_type": "text"
      },
      "source": [
        "<a href=\"https://colab.research.google.com/github/rybraun06/ALGESTDADOS_20251/blob/main/exercicio_semana3.ipynb\" target=\"_parent\"><img src=\"https://colab.research.google.com/assets/colab-badge.svg\" alt=\"Open In Colab\"/></a>"
      ]
    },
    {
      "cell_type": "code",
      "execution_count": 6,
      "metadata": {
        "colab": {
          "base_uri": "https://localhost:8080/"
        },
        "id": "jrBEavarSYwO",
        "outputId": "dbfbf806-881d-4884-ca1f-ede54a23708e"
      },
      "outputs": [
        {
          "output_type": "stream",
          "name": "stdout",
          "text": [
            "qual o primeiro numero4\n",
            "qual o segundo numero6\n",
            "10\n"
          ]
        }
      ],
      "source": [
        "#Peça dois números ao usuário e exiba a soma.\n",
        "num1 = int(input('qual o primeiro numero'))\n",
        "num2 = int(input('qual o segundo numero'))\n",
        "soma = num1 + num2\n",
        "print (soma)\n",
        "\n",
        "\n",
        "#Mostre a data e a hora atuais.\n",
        "#Solicite o ano de nascimento do usuário e calcule a idade aproximada.\n",
        "#Peça três números ao usuário e exiba a média aritmética.\n",
        "#Solicite a data de nascimento do usuário no formato AAAA-MM-DD e calcule aproximadamente quantos dias ele já viveu.\n",
        "#Solicite uma data no formato AAAA-MM-DD e exiba-a no formato DD/MM/AAAA.\n"
      ]
    },
    {
      "cell_type": "code",
      "source": [
        "#Solicite o primeiro e o último nome do usuário e exiba o nome completo.\n",
        "nome = input('digite seu nome:')\n",
        "sobrenome = input('digite seu nome:')\n",
        "print (\"seu nome é: \", nome, sobrenome)\n"
      ],
      "metadata": {
        "colab": {
          "base_uri": "https://localhost:8080/"
        },
        "id": "AHNqNuQOVgTM",
        "outputId": "079ed35b-ed55-447e-cef6-ff89a1c92691"
      },
      "execution_count": 9,
      "outputs": [
        {
          "output_type": "stream",
          "name": "stdout",
          "text": [
            "digite seu nome:Rianny\n",
            "digite seu nome:Braun\n",
            "seu nome é:  Rianny Braun\n"
          ]
        }
      ]
    },
    {
      "cell_type": "code",
      "source": [
        "#Peça uma palavra e um número ao usuário e exiba a palavra repetida esse número de vezes.\n",
        "palavra = input('qual é a palavra')\n",
        "numero = int(input('qual é o numero'))\n",
        "print ( palavra * numero)"
      ],
      "metadata": {
        "colab": {
          "base_uri": "https://localhost:8080/"
        },
        "id": "PLmHIuFPYm2K",
        "outputId": "a506280b-a457-4610-87b6-702cf0743a31"
      },
      "execution_count": 13,
      "outputs": [
        {
          "output_type": "stream",
          "name": "stdout",
          "text": [
            "qual é a palavra BM\n",
            "qual é o numero5\n",
            " BM BM BM BM BM\n"
          ]
        }
      ]
    },
    {
      "cell_type": "code",
      "source": [
        "#Solicite um texto e exiba-o em letras maiúsculas\n",
        "palavra = input('qual é a palavra')\n",
        "print(palavra.upper())"
      ],
      "metadata": {
        "colab": {
          "base_uri": "https://localhost:8080/"
        },
        "id": "clfmWjv3c8XY",
        "outputId": "d656f52d-9ef4-42aa-cbe1-0dd8495cba28"
      },
      "execution_count": 21,
      "outputs": [
        {
          "output_type": "stream",
          "name": "stdout",
          "text": [
            "qual é a palavrarbm\n",
            "RBM\n"
          ]
        }
      ]
    },
    {
      "cell_type": "code",
      "source": [
        "#Peça uma palavra e exiba quantos caracteres ela tem.\n",
        "palavra =input('qual e a palavra')\n",
        "caracteres = len(palavra)\n",
        "print(caracteres)"
      ],
      "metadata": {
        "colab": {
          "base_uri": "https://localhost:8080/"
        },
        "id": "p4BEBBDwfDDE",
        "outputId": "bef5bbe9-a70b-46ae-c47b-12aec2c91a00"
      },
      "execution_count": 29,
      "outputs": [
        {
          "output_type": "stream",
          "name": "stdout",
          "text": [
            "qual e a palavrapedro\n",
            "5\n"
          ]
        }
      ]
    },
    {
      "cell_type": "code",
      "source": [
        "#Mostre a data e a hora atuais.\n",
        "from datetime import datetime\n",
        "fuso_horario = pytz.timezone(\"America/Sao_paulo\")\n",
        "data_hora_atual = datetime.now(fuso_horario)\n",
        "print('data e hora atual', data_hora_atual)\n"
      ],
      "metadata": {
        "colab": {
          "base_uri": "https://localhost:8080/",
          "height": 193
        },
        "id": "Bgill8elh6WQ",
        "outputId": "ead43fa1-4d3f-425b-cc30-c76fda505b68"
      },
      "execution_count": 35,
      "outputs": [
        {
          "output_type": "error",
          "ename": "NameError",
          "evalue": "name 'pytz' is not defined",
          "traceback": [
            "\u001b[0;31m---------------------------------------------------------------------------\u001b[0m",
            "\u001b[0;31mNameError\u001b[0m                                 Traceback (most recent call last)",
            "\u001b[0;32m<ipython-input-35-0565a46ca6ee>\u001b[0m in \u001b[0;36m<cell line: 0>\u001b[0;34m()\u001b[0m\n\u001b[1;32m      1\u001b[0m \u001b[0;31m#Mostre a data e a hora atuais.\u001b[0m\u001b[0;34m\u001b[0m\u001b[0;34m\u001b[0m\u001b[0m\n\u001b[0;32m----> 2\u001b[0;31m \u001b[0mfuso_horario\u001b[0m \u001b[0;34m=\u001b[0m \u001b[0mpytz\u001b[0m\u001b[0;34m.\u001b[0m\u001b[0mtimezone\u001b[0m\u001b[0;34m(\u001b[0m\u001b[0;34m\"America/Sao_paulo\"\u001b[0m\u001b[0;34m)\u001b[0m\u001b[0;34m\u001b[0m\u001b[0;34m\u001b[0m\u001b[0m\n\u001b[0m\u001b[1;32m      3\u001b[0m \u001b[0mdata_hora_atual\u001b[0m \u001b[0;34m=\u001b[0m \u001b[0mdatetime\u001b[0m\u001b[0;34m.\u001b[0m\u001b[0mnow\u001b[0m\u001b[0;34m(\u001b[0m\u001b[0mfuso_horario\u001b[0m\u001b[0;34m)\u001b[0m\u001b[0;34m\u001b[0m\u001b[0;34m\u001b[0m\u001b[0m\n\u001b[1;32m      4\u001b[0m \u001b[0mprint\u001b[0m\u001b[0;34m(\u001b[0m\u001b[0;34m'data e hora atual'\u001b[0m\u001b[0;34m,\u001b[0m \u001b[0mdata_hora_atual\u001b[0m\u001b[0;34m)\u001b[0m\u001b[0;34m\u001b[0m\u001b[0;34m\u001b[0m\u001b[0m\n",
            "\u001b[0;31mNameError\u001b[0m: name 'pytz' is not defined"
          ]
        }
      ]
    }
  ]
}