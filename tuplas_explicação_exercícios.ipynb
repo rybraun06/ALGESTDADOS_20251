{
  "nbformat": 4,
  "nbformat_minor": 0,
  "metadata": {
    "colab": {
      "provenance": [],
      "authorship_tag": "ABX9TyPPu+uASF/9ZEVKbc2jcd6l",
      "include_colab_link": true
    },
    "kernelspec": {
      "name": "python3",
      "display_name": "Python 3"
    },
    "language_info": {
      "name": "python"
    }
  },
  "cells": [
    {
      "cell_type": "markdown",
      "metadata": {
        "id": "view-in-github",
        "colab_type": "text"
      },
      "source": [
        "<a href=\"https://colab.research.google.com/github/rybraun06/ALGESTDADOS_20251/blob/main/tuplas_explica%C3%A7%C3%A3o_exerc%C3%ADcios.ipynb\" target=\"_parent\"><img src=\"https://colab.research.google.com/assets/colab-badge.svg\" alt=\"Open In Colab\"/></a>"
      ]
    },
    {
      "cell_type": "code",
      "execution_count": null,
      "metadata": {
        "colab": {
          "base_uri": "https://localhost:8080/"
        },
        "id": "gRUgejTu2UTm",
        "outputId": "785e5490-5dde-4033-816f-5c63aaf3b1eb"
      },
      "outputs": [
        {
          "output_type": "stream",
          "name": "stdout",
          "text": [
            "{'Ana', 'João', 'Carlos', 'Maria'}\n"
          ]
        }
      ],
      "source": [
        "#1 - Uma empresa está analisando os clientes que compraram dois produtos diferentes. A lista de clientes que compraram o produto A é {\"Ana\", \"João\", \"Carlos\"}, e do produto B é {\"Carlos\", \"Maria\", \"João\"}.\n",
        "#Escreva um código que mostre o conjunto total de clientes distintos que compraram ao menos um dos dois produtos.\n",
        "produto_a = {\"Ana\", \"João\", \"Carlos\"}\n",
        "produto_b = {\"Carlos\", \"Maria\", \"João\"}\n",
        "clientes_comprando_ambos = produto_a.union(produto_b)\n",
        "print(clientes_comprando_ambos)\n"
      ]
    },
    {
      "cell_type": "code",
      "source": [
        "#2 - Considere os conjuntos A = {1, 2, 3, 4} e B = {3, 4, 5, 6}.\n",
        "#Escreva um código que mostre os elementos que estão em A, mas não em B.\n",
        "A =  {1,2,3,4}\n",
        "B = {3,4,5,6}\n",
        "print(A.difference(B))\n"
      ],
      "metadata": {
        "colab": {
          "base_uri": "https://localhost:8080/"
        },
        "id": "-eMgYCyR5GyZ",
        "outputId": "a71be5f6-e546-4711-b798-3177d4f7290e"
      },
      "execution_count": null,
      "outputs": [
        {
          "output_type": "stream",
          "name": "stdout",
          "text": [
            "{1, 2}\n"
          ]
        }
      ]
    },
    {
      "cell_type": "code",
      "source": [
        "#3 - Considere os conjuntos x = {10, 20, 30} e y = {30, 40, 50}.\n",
        "#Escreva um código que mostre os elementos que pertencem a apenas um dos conjuntos, mas não aos dois ao mesmo tempo.\n",
        "x = {10,20,30}\n",
        "y = {30,40,50}\n",
        "print(x.difference(y).union(y.difference(x)))\n"
      ],
      "metadata": {
        "colab": {
          "base_uri": "https://localhost:8080/"
        },
        "id": "D2aXvEU2_nWW",
        "outputId": "ce0e2439-7e7b-4cfb-fbfd-1d4c1d089bbb"
      },
      "execution_count": null,
      "outputs": [
        {
          "output_type": "stream",
          "name": "stdout",
          "text": [
            "{40, 10, 20, 50}\n"
          ]
        }
      ]
    },
    {
      "cell_type": "code",
      "source": [
        "#4 - Considere a tupla dados = (\"João\", 25, \"Engenheiro\").\n",
        "#Tente alterar a idade da pessoa para 30 e observe o que acontece. Explique o motivo do erro e o conceito envolvido.\n",
        "dados = (\"João\", 25, \"Engenheiro\")\n",
        "dados[1] = 30\n",
        "#Vai dar erro, pois as tuplas são inalteráveis.)"
      ],
      "metadata": {
        "colab": {
          "base_uri": "https://localhost:8080/",
          "height": 193
        },
        "id": "M48xAOXNAYBX",
        "outputId": "f050fe95-c971-4dc5-8261-3f10541486af"
      },
      "execution_count": 1,
      "outputs": [
        {
          "output_type": "error",
          "ename": "TypeError",
          "evalue": "'tuple' object does not support item assignment",
          "traceback": [
            "\u001b[0;31m---------------------------------------------------------------------------\u001b[0m",
            "\u001b[0;31mTypeError\u001b[0m                                 Traceback (most recent call last)",
            "\u001b[0;32m<ipython-input-1-d7dbae8466ae>\u001b[0m in \u001b[0;36m<cell line: 0>\u001b[0;34m()\u001b[0m\n\u001b[1;32m      2\u001b[0m \u001b[0;31m#Tente alterar a idade da pessoa para 30 e observe o que acontece. Explique o motivo do erro e o conceito envolvido.\u001b[0m\u001b[0;34m\u001b[0m\u001b[0;34m\u001b[0m\u001b[0m\n\u001b[1;32m      3\u001b[0m \u001b[0mdados\u001b[0m \u001b[0;34m=\u001b[0m \u001b[0;34m(\u001b[0m\u001b[0;34m\"João\"\u001b[0m\u001b[0;34m,\u001b[0m \u001b[0;36m25\u001b[0m\u001b[0;34m,\u001b[0m \u001b[0;34m\"Engenheiro\"\u001b[0m\u001b[0;34m)\u001b[0m\u001b[0;34m\u001b[0m\u001b[0;34m\u001b[0m\u001b[0m\n\u001b[0;32m----> 4\u001b[0;31m \u001b[0mdados\u001b[0m\u001b[0;34m[\u001b[0m\u001b[0;36m1\u001b[0m\u001b[0;34m]\u001b[0m \u001b[0;34m=\u001b[0m \u001b[0;36m30\u001b[0m\u001b[0;34m\u001b[0m\u001b[0;34m\u001b[0m\u001b[0m\n\u001b[0m\u001b[1;32m      5\u001b[0m \u001b[0;31m#Vai dar erro, pois as tuplas são inalteráveis.)\u001b[0m\u001b[0;34m\u001b[0m\u001b[0;34m\u001b[0m\u001b[0m\n",
            "\u001b[0;31mTypeError\u001b[0m: 'tuple' object does not support item assignment"
          ]
        }
      ]
    },
    {
      "cell_type": "code",
      "source": [
        "#5 - Dada a tupla valores = (5, 10, 15, 20), escreva um código que exiba o último elemento da tupla.\n",
        "valores = (5,10,15,20)\n",
        "print(valores[-1]) #Opção 1 - Notação -1 que pega o último elemento de uma coleção\n",
        "print(valores[len(valores)-1]) # Opção 2 - Tamanho da coleção - 1\n",
        "print(valores[3]) #Opção 3 - Índice do elemento"
      ],
      "metadata": {
        "colab": {
          "base_uri": "https://localhost:8080/",
          "height": 0
        },
        "id": "YJZatxr3ZQxw",
        "outputId": "25a2d71a-bd82-4015-e18a-4e567ee93aab"
      },
      "execution_count": 2,
      "outputs": [
        {
          "output_type": "stream",
          "name": "stdout",
          "text": [
            "20\n",
            "20\n",
            "20\n"
          ]
        }
      ]
    },
    {
      "cell_type": "code",
      "source": [
        "#6 - Considere a tupla pessoa = (\"Ana\", 30, \"Designer\"). Desempacote essa tupla em três variáveis e exiba apenas o conteúdo da variável que representa a profissão.\n",
        "pessoa = (\"Ana\", 30, \"Designer\")\n",
        "nome, idade, profissao = pessoa\n",
        "print(profissao)\n"
      ],
      "metadata": {
        "colab": {
          "base_uri": "https://localhost:8080/",
          "height": 0
        },
        "id": "vvpbYk3_ZWz7",
        "outputId": "4e8ad50a-e7e3-4e54-afb3-9a53f6e1cef7"
      },
      "execution_count": 3,
      "outputs": [
        {
          "output_type": "stream",
          "name": "stdout",
          "text": [
            "Designer\n"
          ]
        }
      ]
    },
    {
      "cell_type": "code",
      "source": [
        "#7 - Crie um dicionário chamado alunos que armazene o nome e a idade de dois alunos. Em seguida, imprima esse dicionário.\n",
        "alunos = {\"João\": 20, \"Maria\": 22}\n",
        "print(alunos)\n",
        "\n"
      ],
      "metadata": {
        "colab": {
          "base_uri": "https://localhost:8080/",
          "height": 0
        },
        "id": "eB9jAdd4ZfhP",
        "outputId": "383a404b-66b1-40b2-afed-6277311410da"
      },
      "execution_count": 4,
      "outputs": [
        {
          "output_type": "stream",
          "name": "stdout",
          "text": [
            "{'João': 20, 'Maria': 22}\n"
          ]
        }
      ]
    },
    {
      "cell_type": "code",
      "source": [
        "#8 - Considere o dicionário produtos = {\"arroz\": 5.60, \"feijão\": 7.80, \"macarrão\": 4.20}. Escreva um código que acesse e exiba o valor associado à chave \"feijão\".\n",
        "produtos = {\"arroz\": 5.60, \"feijão\": 7.80, \"macarrão\": 4.20}\n",
        "print(produtos.get(\"feijão\"))\n"
      ],
      "metadata": {
        "colab": {
          "base_uri": "https://localhost:8080/",
          "height": 0
        },
        "id": "HNh9xcIGZvRw",
        "outputId": "16a3167e-2815-4a60-a1d5-fd366eee5a14"
      },
      "execution_count": 11,
      "outputs": [
        {
          "output_type": "stream",
          "name": "stdout",
          "text": [
            "7.8\n"
          ]
        }
      ]
    },
    {
      "cell_type": "code",
      "source": [
        "#9 - Crie um dicionário vazio chamado aluno. Adicione as chaves \"nome\" com valor \"Carlos\" e \"idade\" com valor 21. Imprima o conteúdo final do dicionário.\n",
        "aluno = {}\n",
        "aluno.[\"nome\"] = \"Carlos\"\n",
        "aluno[\"idade\"] = 21\n",
        "print(aluno)\n"
      ],
      "metadata": {
        "colab": {
          "base_uri": "https://localhost:8080/",
          "height": 0
        },
        "id": "jbCTodrNZ6B_",
        "outputId": "091ce530-fb85-47d0-cda3-bd7a1f12a66e"
      },
      "execution_count": 7,
      "outputs": [
        {
          "output_type": "stream",
          "name": "stdout",
          "text": [
            "{'nome': 'Carlos', 'idade': 21}\n"
          ]
        }
      ]
    },
    {
      "cell_type": "code",
      "source": [
        "#10 - Analise o código dados = {\"id\": 123, \"nome\": \"Ana\", \"id\": 456}. Explique o valor final da chave \"id\" e escreva um código que comprove esse comportamento.\n",
        "dados = {\"id\": 123, \"nome\": \"Ana\", \"id\": 456}\n",
        "print(dados['id'])"
      ],
      "metadata": {
        "colab": {
          "base_uri": "https://localhost:8080/",
          "height": 0
        },
        "id": "io6yhCkAaPuq",
        "outputId": "1a367676-b588-46ad-b5a6-1aa4dca5a2a3"
      },
      "execution_count": 12,
      "outputs": [
        {
          "output_type": "stream",
          "name": "stdout",
          "text": [
            "456\n"
          ]
        }
      ]
    },
    {
      "cell_type": "code",
      "source": [
        "#11 - Dado o conjunto frutas = {\"maçã\", \"banana\", \"laranja\"}, escreva um código que remova o item \"abacaxi\" sem gerar erro.\n",
        "frutas = {\"maçã\", \"banana\", \"laranja\"}\n",
        "frutas.discard(\"abacaxi\")\n",
        "print(frutas)"
      ],
      "metadata": {
        "colab": {
          "base_uri": "https://localhost:8080/",
          "height": 0
        },
        "id": "vwV4bg_Jet_6",
        "outputId": "40e00e58-8cbb-4f00-d6db-f7f5d3e33325"
      },
      "execution_count": 13,
      "outputs": [
        {
          "output_type": "stream",
          "name": "stdout",
          "text": [
            "{'maçã', 'laranja', 'banana'}\n"
          ]
        }
      ]
    },
    {
      "cell_type": "code",
      "source": [
        "#12 - Escreva um código que utilize uma tupla como chave em um dicionário. Utilize como exemplo a tupla (2024, \"Maria\") associada ao valor \"Presente\" e imprima o dicionário.\n",
        "dicionario = {}\n",
        "tupla = (2024, \"Maria\")\n",
        "dicionario[tupla] = \"Presente\"\n",
        "print(dicionario)"
      ],
      "metadata": {
        "colab": {
          "base_uri": "https://localhost:8080/"
        },
        "id": "gyyWvaGzeuKw",
        "outputId": "05914d5b-7220-49b7-a1b3-21f8cef49488"
      },
      "execution_count": 14,
      "outputs": [
        {
          "output_type": "stream",
          "name": "stdout",
          "text": [
            "{(2024, 'Maria'): 'Presente'}\n"
          ]
        }
      ]
    },
    {
      "cell_type": "code",
      "source": [
        "#13 - Dada a lista lista = [1, 2, 2, 3, 3, 3, 4], escreva um código que remova os elementos duplicados e exiba apenas os valores únicos.\n",
        "lista = [1,2,2,3,3,3,4]\n",
        "lista_sem_duplicatas = list(set(lista))\n",
        "print(lista_sem_duplicatas)"
      ],
      "metadata": {
        "colab": {
          "base_uri": "https://localhost:8080/"
        },
        "id": "tZISuoVqfk04",
        "outputId": "1b0a8653-45a8-4052-b3e6-78927183d90a"
      },
      "execution_count": 18,
      "outputs": [
        {
          "output_type": "stream",
          "name": "stdout",
          "text": [
            "[1, 2, 3, 4]\n"
          ]
        }
      ]
    },
    {
      "cell_type": "code",
      "source": [
        "#14 - Dado o dicionário notas = {\"Lucas\": 8.5, \"Julia\": 9.0, \"Bruno\": 7.5}, escreva um código que exiba o nome do aluno seguido da nota em cada linha, no formato: Aluno: Nota\n",
        "notas = {\"Lucas\": 8.5, \"Julia\": 9.0, \"Bruno\": 7.5}\n",
        "for aluno, nota in notas.items():\n",
        "    print(f\"Aluno: {aluno}, Nota: {nota}\")"
      ],
      "metadata": {
        "colab": {
          "base_uri": "https://localhost:8080/"
        },
        "id": "AcU5aOv9gNzc",
        "outputId": "157b864f-0e7d-4423-c1ce-7f28e310745c"
      },
      "execution_count": 19,
      "outputs": [
        {
          "output_type": "stream",
          "name": "stdout",
          "text": [
            "Aluno: Lucas, Nota: 8.5\n",
            "Aluno: Julia, Nota: 9.0\n",
            "Aluno: Bruno, Nota: 7.5\n"
          ]
        }
      ]
    },
    {
      "cell_type": "code",
      "source": [
        "#15 - Dado o dicionário:\n",
        "'''\n",
        "turma = {\n",
        "\n",
        "    \"Ana\": (8.0, 7.5),\n",
        "\n",
        "    \"Pedro\": (6.0, 5.5),\n",
        "\n",
        "    \"Laura\": (9.5, 9.0)\n",
        "}\n",
        "\n",
        "#Escreva um código que crie um conjunto com os nomes dos alunos que obtiveram nota 9.5 em pelo menos uma das provas.'''\n",
        "\n",
        "turma = {\"Ana\":(8.0, 7.5), \"Pedro\": (6.0, 5.5), \"Laura\": (9.5, 9.0)}\n",
        "tops = set()\n",
        "for aluno, notas in  turma.items():\n",
        "    if 9.5 in notas:\n",
        "      tops.add(aluno)\n",
        "print(aluno)"
      ],
      "metadata": {
        "colab": {
          "base_uri": "https://localhost:8080/"
        },
        "id": "PcGqnXfHgaDd",
        "outputId": "3afd3320-9932-48e5-8de7-5831006ab53e"
      },
      "execution_count": 31,
      "outputs": [
        {
          "output_type": "stream",
          "name": "stdout",
          "text": [
            "Laura\n"
          ]
        }
      ]
    }
  ]
}